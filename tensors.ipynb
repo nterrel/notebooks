{
 "cells": [
  {
   "cell_type": "code",
   "execution_count": 2,
   "id": "7813a3aa",
   "metadata": {},
   "outputs": [],
   "source": [
    "import torch\n",
    "import torchani\n",
    "from torchani.datasets import ANIDataset\n",
    "from torchani.units import hartree2kcalmol\n",
    "from pathlib import Path\n",
    "import ase\n",
    "from ase.visualize import view"
   ]
  },
  {
   "cell_type": "code",
   "execution_count": 3,
   "id": "56bde1ee",
   "metadata": {},
   "outputs": [
    {
     "name": "stdout",
     "output_type": "stream",
     "text": [
      "tensor([[[-10.1421,   1.7922, 126.5073],\n",
      "         [-14.6820, -17.4242, -21.5316],\n",
      "         [  8.2877, -22.1501, -24.9454],\n",
      "         [ 23.2253,  45.4318, -71.4660],\n",
      "         [ -6.6889,  -7.6498,  -8.5643]]], dtype=torch.float64)\n"
     ]
    }
   ],
   "source": [
    "device = torch.device('cpu')\n",
    "ani2x = torchani.models.ANI2x().to(device).double()\n",
    "ani1ccx = torchani.models.ANI1ccx().to(device).double()\n",
    "ds_path = Path('/home/nick/First_DSs/ANI-1x-first-conformers.h5')\n",
    "ds = ANIDataset(locations=ds_path, names='1x-first')\n",
    "\n",
    "\n",
    "\n",
    "ds_forces = hartree2kcalmol(ds['CH4']['forces'].to(device))\n",
    "print(ds_forces)"
   ]
  },
  {
   "cell_type": "code",
   "execution_count": 4,
   "id": "cc2d9a50",
   "metadata": {},
   "outputs": [
    {
     "data": {
      "text/plain": [
       "tensor([[126.9258,  31.3492,  34.3742,  87.8114,  13.2894]],\n",
       "       dtype=torch.float64)"
      ]
     },
     "execution_count": 4,
     "metadata": {},
     "output_type": "execute_result"
    }
   ],
   "source": [
    "torch.linalg.norm(ds_forces, dim=-1)"
   ]
  },
  {
   "cell_type": "code",
   "execution_count": 5,
   "id": "c3534f3f",
   "metadata": {},
   "outputs": [],
   "source": [
    "sq_ds_forces = ds_forces.square()\n",
    "sqrt_sq_sum_forces = (sq_ds_forces.sum(dim=-1).sqrt()).unsqueeze(-1)\n",
    "normalized_forces =ds_forces / sqrt_sq_sum_forces"
   ]
  },
  {
   "cell_type": "code",
   "execution_count": 6,
   "id": "25a6842b",
   "metadata": {},
   "outputs": [
    {
     "data": {
      "text/plain": [
       "tensor([[[-0.0799,  0.0141,  0.9967],\n",
       "         [-0.4683, -0.5558, -0.6868],\n",
       "         [ 0.2411, -0.6444, -0.7257],\n",
       "         [ 0.2645,  0.5174, -0.8139],\n",
       "         [-0.5033, -0.5756, -0.6444]]], dtype=torch.float64)"
      ]
     },
     "execution_count": 6,
     "metadata": {},
     "output_type": "execute_result"
    }
   ],
   "source": [
    "normalized_forces"
   ]
  },
  {
   "cell_type": "code",
   "execution_count": 7,
   "id": "d5ec2686",
   "metadata": {},
   "outputs": [
    {
     "name": "stdout",
     "output_type": "stream",
     "text": [
      "tensor([[0.2954, 0.7690, 0.5616],\n",
      "        [0.2051, 0.1653, 0.1885],\n",
      "        [0.1333, 0.2251, 0.3848],\n",
      "        [0.3154, 0.4854, 0.4680],\n",
      "        [0.1293, 0.1516, 0.1282]])\n"
     ]
    }
   ],
   "source": [
    "ch4_species = ds['CH4']['species'].to(device)\n",
    "ch4_coord = ds['CH4']['coordinates'].to(device)\n",
    "inp = (ch4_species, ch4_coord)\n",
    "members_forces = hartree2kcalmol(ani2x.members_forces(inp).model_forces)\n",
    "print(members_forces.std(0))"
   ]
  },
  {
   "cell_type": "code",
   "execution_count": 8,
   "id": "f6340c5f",
   "metadata": {},
   "outputs": [
    {
     "data": {
      "text/plain": [
       "tensor([[-10.1069,   1.8989, 126.1252],\n",
       "        [-14.3177, -17.3228, -21.2256],\n",
       "        [  8.1441, -21.9234, -25.4874],\n",
       "        [ 22.9873,  45.3785, -70.7184],\n",
       "        [ -6.7068,  -8.0312,  -8.6938]])"
      ]
     },
     "execution_count": 8,
     "metadata": {},
     "output_type": "execute_result"
    }
   ],
   "source": [
    "members_forces[0]"
   ]
  },
  {
   "cell_type": "code",
   "execution_count": 9,
   "id": "aa44ec02",
   "metadata": {
    "scrolled": true
   },
   "outputs": [],
   "source": [
    "ccx_forces = hartree2kcalmol(ani1ccx.members_forces(inp).model_forces)\n",
    "#print(ccx_forces)\n",
    "#print(torch.linalg.norm(ccx_forces, dim=-1).std(0))"
   ]
  },
  {
   "cell_type": "code",
   "execution_count": 10,
   "id": "aeb7cac5",
   "metadata": {},
   "outputs": [
    {
     "name": "stdout",
     "output_type": "stream",
     "text": [
      "torch.Size([5, 3]) torch.Size([5, 3])\n"
     ]
    }
   ],
   "source": [
    "norm_ds_forces = torch.nn.functional.normalize(ds_forces, dim=-1)\n",
    "norm_ani_forces = torch.nn.functional.normalize(members_forces, dim=-1)\n",
    "print(norm_ani_forces[0].shape, norm_ds_forces.squeeze(0).shape)"
   ]
  },
  {
   "cell_type": "code",
   "execution_count": 11,
   "id": "b9bf5d7b",
   "metadata": {},
   "outputs": [
    {
     "data": {
      "text/plain": [
       "tensor([[126.9258,  31.3492,  34.3742,  87.8114,  13.2894]],\n",
       "       dtype=torch.float64)"
      ]
     },
     "execution_count": 11,
     "metadata": {},
     "output_type": "execute_result"
    }
   ],
   "source": [
    "torch.linalg.norm(ds_forces, dim=-1)"
   ]
  },
  {
   "cell_type": "code",
   "execution_count": 12,
   "id": "eb3e759c",
   "metadata": {},
   "outputs": [
    {
     "data": {
      "text/plain": [
       "tensor([126.5278,  31.1284,  34.1294,  87.1091,  13.6333])"
      ]
     },
     "execution_count": 12,
     "metadata": {},
     "output_type": "execute_result"
    }
   ],
   "source": [
    "torch.linalg.norm(members_forces.mean(0), dim=-1)"
   ]
  },
  {
   "cell_type": "code",
   "execution_count": 13,
   "id": "8d66b0c3",
   "metadata": {},
   "outputs": [
    {
     "name": "stdout",
     "output_type": "stream",
     "text": [
      "tensor([[0.9970, 0.9861, 1.0063, 0.9920, 1.0237],\n",
      "        [0.9910, 0.9940, 0.9667, 0.9994, 1.0188],\n",
      "        [1.0004, 0.9967, 0.9984, 0.9906, 1.0347],\n",
      "        [1.0002, 0.9871, 0.9868, 1.0007, 1.0252],\n",
      "        [0.9929, 0.9929, 1.0044, 0.9787, 1.0228],\n",
      "        [0.9978, 1.0034, 0.9933, 0.9848, 1.0426],\n",
      "        [1.0035, 1.0012, 0.9976, 0.9985, 1.0283],\n",
      "        [0.9922, 0.9824, 0.9897, 0.9914, 1.0118]], dtype=torch.float64)\n",
      "tensor([0.0045, 0.0074, 0.0125, 0.0076, 0.0095], dtype=torch.float64)\n",
      "tensor([0.0147, 0.0187, 0.0174, 0.0156, 0.0164, 0.0224, 0.0128, 0.0109],\n",
      "       dtype=torch.float64)\n"
     ]
    }
   ],
   "source": [
    "mag_members_forces = torch.linalg.norm(members_forces, dim=-1)\n",
    "#print(mag_members_forces)\n",
    "mag_ds_forces = torch.linalg.norm(ds_forces, dim=-1)\n",
    "#print(mag_ds_forces)\n",
    "print(mag_members_forces / mag_ds_forces)\n",
    "print((mag_members_forces/mag_ds_forces).std(0))\n",
    "print((mag_members_forces/mag_ds_forces).std(-1))"
   ]
  },
  {
   "cell_type": "code",
   "execution_count": 14,
   "id": "6968ad2b",
   "metadata": {},
   "outputs": [
    {
     "data": {
      "text/plain": [
       "tensor([[0.2954, 0.7690, 0.5616],\n",
       "        [0.2051, 0.1653, 0.1885],\n",
       "        [0.1333, 0.2251, 0.3848],\n",
       "        [0.3154, 0.4854, 0.4680],\n",
       "        [0.1293, 0.1516, 0.1282]])"
      ]
     },
     "execution_count": 14,
     "metadata": {},
     "output_type": "execute_result"
    }
   ],
   "source": [
    "members_forces.std(0)"
   ]
  },
  {
   "cell_type": "code",
   "execution_count": 15,
   "id": "7316d514",
   "metadata": {},
   "outputs": [
    {
     "data": {
      "text/plain": [
       "tensor([0.9971, 0.3240, 0.4653, 0.7444, 0.2370])"
      ]
     },
     "execution_count": 15,
     "metadata": {},
     "output_type": "execute_result"
    }
   ],
   "source": [
    "torch.linalg.norm(members_forces.std(0), dim=-1)"
   ]
  },
  {
   "cell_type": "code",
   "execution_count": 16,
   "id": "5b620b05",
   "metadata": {},
   "outputs": [
    {
     "data": {
      "text/plain": [
       "tensor([0.5674, 0.2328, 0.4309, 0.6682, 0.1256])"
      ]
     },
     "execution_count": 16,
     "metadata": {},
     "output_type": "execute_result"
    }
   ],
   "source": [
    "mag_members_forces.std(0)"
   ]
  },
  {
   "cell_type": "code",
   "execution_count": 17,
   "id": "17226779",
   "metadata": {},
   "outputs": [],
   "source": [
    "cos = torch.nn.CosineSimilarity(dim=-1)"
   ]
  },
  {
   "cell_type": "code",
   "execution_count": 18,
   "id": "ac305534",
   "metadata": {},
   "outputs": [
    {
     "data": {
      "text/plain": [
       "tensor([[1.0000, 1.0000, 0.9999, 1.0000, 0.9999]], dtype=torch.float64)"
      ]
     },
     "execution_count": 18,
     "metadata": {},
     "output_type": "execute_result"
    }
   ],
   "source": [
    "cos(ds_forces, members_forces.mean(0))"
   ]
  },
  {
   "cell_type": "code",
   "execution_count": 27,
   "id": "9c85e5aa",
   "metadata": {},
   "outputs": [
    {
     "data": {
      "text/html": [
       "<div>\n",
       "<style scoped>\n",
       "    .dataframe tbody tr th:only-of-type {\n",
       "        vertical-align: middle;\n",
       "    }\n",
       "\n",
       "    .dataframe tbody tr th {\n",
       "        vertical-align: top;\n",
       "    }\n",
       "\n",
       "    .dataframe thead th {\n",
       "        text-align: right;\n",
       "    }\n",
       "</style>\n",
       "<table border=\"1\" class=\"dataframe\">\n",
       "  <thead>\n",
       "    <tr style=\"text-align: right;\">\n",
       "      <th></th>\n",
       "      <th>C</th>\n",
       "      <th>H</th>\n",
       "      <th>H</th>\n",
       "      <th>H</th>\n",
       "      <th>H</th>\n",
       "    </tr>\n",
       "  </thead>\n",
       "  <tbody>\n",
       "    <tr>\n",
       "      <th>1</th>\n",
       "      <td>1.0000</td>\n",
       "      <td>1.0000</td>\n",
       "      <td>0.9999</td>\n",
       "      <td>1.0</td>\n",
       "      <td>0.9998</td>\n",
       "    </tr>\n",
       "    <tr>\n",
       "      <th>2</th>\n",
       "      <td>1.0000</td>\n",
       "      <td>1.0000</td>\n",
       "      <td>1.0000</td>\n",
       "      <td>1.0</td>\n",
       "      <td>0.9994</td>\n",
       "    </tr>\n",
       "    <tr>\n",
       "      <th>3</th>\n",
       "      <td>1.0000</td>\n",
       "      <td>0.9999</td>\n",
       "      <td>1.0000</td>\n",
       "      <td>1.0</td>\n",
       "      <td>1.0000</td>\n",
       "    </tr>\n",
       "    <tr>\n",
       "      <th>4</th>\n",
       "      <td>1.0000</td>\n",
       "      <td>0.9998</td>\n",
       "      <td>0.9999</td>\n",
       "      <td>1.0</td>\n",
       "      <td>1.0000</td>\n",
       "    </tr>\n",
       "    <tr>\n",
       "      <th>5</th>\n",
       "      <td>1.0000</td>\n",
       "      <td>1.0000</td>\n",
       "      <td>0.9998</td>\n",
       "      <td>1.0</td>\n",
       "      <td>0.9998</td>\n",
       "    </tr>\n",
       "    <tr>\n",
       "      <th>6</th>\n",
       "      <td>0.9999</td>\n",
       "      <td>1.0000</td>\n",
       "      <td>0.9999</td>\n",
       "      <td>1.0</td>\n",
       "      <td>0.9995</td>\n",
       "    </tr>\n",
       "    <tr>\n",
       "      <th>7</th>\n",
       "      <td>1.0000</td>\n",
       "      <td>1.0000</td>\n",
       "      <td>0.9999</td>\n",
       "      <td>1.0</td>\n",
       "      <td>0.9998</td>\n",
       "    </tr>\n",
       "    <tr>\n",
       "      <th>8</th>\n",
       "      <td>1.0000</td>\n",
       "      <td>1.0000</td>\n",
       "      <td>0.9999</td>\n",
       "      <td>1.0</td>\n",
       "      <td>1.0000</td>\n",
       "    </tr>\n",
       "  </tbody>\n",
       "</table>\n",
       "</div>"
      ],
      "text/plain": [
       "        C       H       H    H       H\n",
       "1  1.0000  1.0000  0.9999  1.0  0.9998\n",
       "2  1.0000  1.0000  1.0000  1.0  0.9994\n",
       "3  1.0000  0.9999  1.0000  1.0  1.0000\n",
       "4  1.0000  0.9998  0.9999  1.0  1.0000\n",
       "5  1.0000  1.0000  0.9998  1.0  0.9998\n",
       "6  0.9999  1.0000  0.9999  1.0  0.9995\n",
       "7  1.0000  1.0000  0.9999  1.0  0.9998\n",
       "8  1.0000  1.0000  0.9999  1.0  1.0000"
      ]
     },
     "execution_count": 27,
     "metadata": {},
     "output_type": "execute_result"
    }
   ],
   "source": [
    "import pandas as pd\n",
    "import math\n",
    "\n",
    "df = pd.DataFrame(cos(norm_ds_forces, norm_ani_forces))\n",
    "df.index+=1\n",
    "df = df.rename(columns={0: \"C\", 1: \"H\", 2: \"H\", 3: \"H\", 4: \"H\"})\n",
    "df.round(4)"
   ]
  },
  {
   "cell_type": "code",
   "execution_count": 20,
   "id": "efb895a6",
   "metadata": {},
   "outputs": [
    {
     "data": {
      "text/plain": [
       "tensor([[1.0000, 1.0000, 0.9999, 1.0000, 0.9998],\n",
       "        [1.0000, 1.0000, 1.0000, 1.0000, 0.9994],\n",
       "        [1.0000, 0.9999, 1.0000, 1.0000, 1.0000],\n",
       "        [1.0000, 0.9998, 0.9999, 1.0000, 1.0000],\n",
       "        [1.0000, 1.0000, 0.9998, 1.0000, 0.9998],\n",
       "        [0.9999, 1.0000, 0.9999, 1.0000, 0.9995],\n",
       "        [1.0000, 1.0000, 0.9999, 1.0000, 0.9998],\n",
       "        [1.0000, 1.0000, 0.9999, 1.0000, 1.0000]], dtype=torch.float64)"
      ]
     },
     "execution_count": 20,
     "metadata": {},
     "output_type": "execute_result"
    }
   ],
   "source": [
    "torch.set_printoptions(precision=4)\n",
    "cos(ds_forces, members_forces)"
   ]
  },
  {
   "cell_type": "code",
   "execution_count": 21,
   "id": "aa96bdac",
   "metadata": {},
   "outputs": [
    {
     "name": "stdout",
     "output_type": "stream",
     "text": [
      "tensor([[ -9.8007,   1.9067, 126.1332],\n",
      "        [-14.4167, -17.3474, -21.4524],\n",
      "        [  8.0677, -21.7298, -25.0508],\n",
      "        [ 22.8722,  45.1770, -70.8795],\n",
      "        [ -6.7225,  -8.0066,  -8.7505]])\n",
      "tensor([[[-10.1421,   1.7922, 126.5073],\n",
      "         [-14.6820, -17.4242, -21.5316],\n",
      "         [  8.2877, -22.1501, -24.9454],\n",
      "         [ 23.2253,  45.4318, -71.4660],\n",
      "         [ -6.6889,  -7.6498,  -8.5643]]], dtype=torch.float64)\n",
      "tensor([[[ 0.3414,  0.1145, -0.3740],\n",
      "         [ 0.2652,  0.0768,  0.0792],\n",
      "         [-0.2200,  0.4203, -0.1055],\n",
      "         [-0.3530, -0.2548,  0.5865],\n",
      "         [-0.0336, -0.3567, -0.1862]]], dtype=torch.float64)\n",
      "tensor([[0.5192, 0.2873, 0.4860, 0.7304, 0.4038]], dtype=torch.float64)\n"
     ]
    }
   ],
   "source": [
    "print(members_forces.mean(0))\n",
    "print(ds_forces)\n",
    "print(torch.sub(members_forces.mean(0), ds_forces))\n",
    "diff = torch.sub(members_forces.mean(0), ds_forces)\n",
    "print(torch.linalg.norm(diff, dim=-1))\n",
    "#print(torch.sub(members_forces, ds_forces))"
   ]
  },
  {
   "cell_type": "code",
   "execution_count": 22,
   "id": "15114488",
   "metadata": {},
   "outputs": [
    {
     "name": "stdout",
     "output_type": "stream",
     "text": [
      "tensor([0.3804, 0.1982, 0.2664, 0.5895, 0.1488], dtype=torch.float64)\n",
      "tensor([[ 0.3414,  0.1145, -0.3741],\n",
      "        [ 0.2652,  0.0768,  0.0792],\n",
      "        [-0.2200,  0.4203, -0.1055],\n",
      "        [-0.3530, -0.2548,  0.5865],\n",
      "        [-0.0336, -0.3567, -0.1862]], dtype=torch.float64)\n"
     ]
    }
   ],
   "source": [
    "difference = torch.sub(members_forces, ds_forces)\n",
    "print(torch.linalg.norm(difference, dim=-1).std(0))\n",
    "print(difference.mean(0))"
   ]
  },
  {
   "cell_type": "code",
   "execution_count": 23,
   "id": "368f35af",
   "metadata": {},
   "outputs": [
    {
     "data": {
      "text/plain": [
       "tensor([[ 186.5916,   13.5331, 1612.2441],\n",
       "        [ 941.3034,  696.9122,  437.6643],\n",
       "        [  36.1232,   36.7143,  450.3755],\n",
       "        [ 340.2724, 7912.5770,  277.1345],\n",
       "        [ 289.8580,   12.4289,   75.1645]], dtype=torch.float64)"
      ]
     },
     "execution_count": 23,
     "metadata": {},
     "output_type": "execute_result"
    }
   ],
   "source": [
    "(members_forces / difference).std(0)"
   ]
  },
  {
   "cell_type": "code",
   "execution_count": 24,
   "id": "a1206d48",
   "metadata": {},
   "outputs": [
    {
     "name": "stdout",
     "output_type": "stream",
     "text": [
      "tensor([[ 0.8654,  6.7186, -1.5015],\n",
      "        [ 0.7735,  2.1513,  2.3789],\n",
      "        [-0.6060,  0.5356, -3.6488],\n",
      "        [-0.8935, -1.9050,  0.7980],\n",
      "        [-3.8524, -0.4250, -0.6886]], dtype=torch.float64)\n"
     ]
    }
   ],
   "source": [
    "mean_forces = members_forces.mean(0)\n",
    "difference_mean = difference.mean(0)\n",
    "stdev_forces = members_forces.std(0)\n",
    "coeff_var = stdev_forces / mean_forces\n",
    "diff_var = stdev_forces / difference_mean\n",
    "print(diff_var)"
   ]
  },
  {
   "cell_type": "code",
   "execution_count": 25,
   "id": "08bc15b6",
   "metadata": {},
   "outputs": [
    {
     "data": {
      "text/plain": [
       "tensor([[-0.0301,  0.4033,  0.0045],\n",
       "        [-0.0142, -0.0095, -0.0088],\n",
       "        [ 0.0165, -0.0104, -0.0154],\n",
       "        [ 0.0138,  0.0107, -0.0066],\n",
       "        [-0.0192, -0.0189, -0.0147]])"
      ]
     },
     "execution_count": 25,
     "metadata": {},
     "output_type": "execute_result"
    }
   ],
   "source": [
    "coeff_var"
   ]
  },
  {
   "cell_type": "code",
   "execution_count": null,
   "id": "19c0eb35",
   "metadata": {},
   "outputs": [],
   "source": []
  },
  {
   "cell_type": "code",
   "execution_count": 26,
   "id": "86e8a4cf",
   "metadata": {},
   "outputs": [
    {
     "data": {
      "text/plain": [
       "tensor([[[ 4.9725e-04, -2.3656e-02, -4.6554e-02],\n",
       "         [-9.4934e-01, -4.6713e-01, -2.1225e-01],\n",
       "         [-2.1828e-01,  6.4611e-01,  8.7319e-01],\n",
       "         [ 3.7291e-01,  6.5190e-01, -6.9571e-01],\n",
       "         [ 7.9173e-01, -6.8895e-01,  3.1410e-01]]], requires_grad=True)"
      ]
     },
     "execution_count": 26,
     "metadata": {},
     "output_type": "execute_result"
    }
   ],
   "source": [
    "ch4_coord"
   ]
  },
  {
   "cell_type": "code",
   "execution_count": 46,
   "id": "1636423c",
   "metadata": {},
   "outputs": [],
   "source": [
    "from torchani.utils import PERIODIC_TABLE\n",
    "from ase.optimize import BFGS\n",
    "\n",
    "def tensor_from_xyz(path):\n",
    "    with open(path, 'r') as f:\n",
    "        lines = f.readlines()\n",
    "        num_atoms = int(lines[0])\n",
    "        coordinates = []\n",
    "        species = []\n",
    "        _, a, b, c = lines[2].split()\n",
    "        cell = torch.diag(torch.tensor([float(a), float(b), float(c)]))\n",
    "        for line in lines[2:]:\n",
    "            values = line.split()\n",
    "            if values:\n",
    "                s = values[0].strip()\n",
    "                x = float(values[1])\n",
    "                y = float(values[2])\n",
    "                z = float(values[3])\n",
    "                coordinates.append([x, y, z])\n",
    "                species.append(PERIODIC_TABLE.index(s))\n",
    "        coordinates = torch.tensor(coordinates)\n",
    "        species = torch.tensor(species, dtype=torch.long)\n",
    "        assert coordinates.shape[0] == num_atoms\n",
    "        assert species.shape[0] == num_atoms\n",
    "    return species, coordinates, cell"
   ]
  },
  {
   "cell_type": "code",
   "execution_count": 28,
   "id": "64d9031c",
   "metadata": {},
   "outputs": [
    {
     "data": {
      "text/plain": [
       "SpeciesEnergies(species=tensor([[1, 0, 0, 0, 0, 0]]), energies=tensor([-41.0184], dtype=torch.float64))"
      ]
     },
     "execution_count": 28,
     "metadata": {},
     "output_type": "execute_result"
    }
   ],
   "source": [
    "calculator = ani2x.ase()\n",
    "ch5_species = tensor_from_xyz('ch5.xyz')[0][None].to(device)\n",
    "ch5_coord = tensor_from_xyz('ch5.xyz')[1][None].to(device)\n",
    "ch5_inp = (ch5_species, ch5_coord)\n",
    "ani2x(ch5_inp)"
   ]
  },
  {
   "cell_type": "code",
   "execution_count": 29,
   "id": "1029e7c7",
   "metadata": {},
   "outputs": [
    {
     "name": "stdout",
     "output_type": "stream",
     "text": [
      "      Step     Time          Energy         fmax\n",
      "BFGS:    0 13:30:49    -1116.167198        0.4223\n",
      "BFGS:    1 13:30:49    -1116.175872        0.2969\n",
      "BFGS:    2 13:30:49    -1116.182091        0.0541\n",
      "BFGS:    3 13:30:49    -1116.182234        0.0311\n",
      "(tensor([[6, 1, 1, 1, 1, 1]]), tensor([[[ 1.5394e+00, -3.3886e-01,  4.9230e-06],\n",
      "         [ 2.4156e+00, -1.0414e+00,  1.0968e-01],\n",
      "         [ 6.6337e-01,  3.6378e-01, -1.0981e-01],\n",
      "         [ 1.1664e+00, -6.5049e-01,  9.8277e-01],\n",
      "         [ 1.2221e+00, -8.7541e-01, -9.0197e-01],\n",
      "         [ 2.2296e+00,  5.0922e-01, -8.0671e-02]]], dtype=torch.float64))\n"
     ]
    }
   ],
   "source": [
    "ase_ch5 = ase.Atoms(numbers=ch5_species[0],positions=ch5_coord[0])\n",
    "ase_ch5.calc = calculator\n",
    "\n",
    "dyn = BFGS(ase_ch5)\n",
    "dyn.run(fmax=0.05)\n",
    "\n",
    "ch5_coord = torch.tensor(ase_ch5.positions[None])\n",
    "ch5 = (ch5_species, ch5_coord)\n",
    "\n",
    "print(ch5)"
   ]
  },
  {
   "cell_type": "code",
   "execution_count": 30,
   "id": "e2edf20a",
   "metadata": {},
   "outputs": [
    {
     "data": {
      "application/vnd.jupyter.widget-view+json": {
       "model_id": "e44f978728d7478abe12374e73025219",
       "version_major": 2,
       "version_minor": 0
      },
      "text/plain": []
     },
     "metadata": {},
     "output_type": "display_data"
    },
    {
     "data": {
      "application/vnd.jupyter.widget-view+json": {
       "model_id": "bfcb468a79f44180ba57391741e79f04",
       "version_major": 2,
       "version_minor": 0
      },
      "text/plain": [
       "HBox(children=(NGLWidget(), VBox(children=(Dropdown(description='Show', options=('All', 'C', 'H'), value='All'…"
      ]
     },
     "metadata": {},
     "output_type": "display_data"
    }
   ],
   "source": [
    "view(ase_ch5, viewer='ngl')"
   ]
  },
  {
   "cell_type": "code",
   "execution_count": 31,
   "id": "37806860",
   "metadata": {},
   "outputs": [],
   "source": [
    "torch.set_printoptions(sci_mode=False)"
   ]
  },
  {
   "cell_type": "code",
   "execution_count": 32,
   "id": "8b495347",
   "metadata": {},
   "outputs": [
    {
     "name": "stdout",
     "output_type": "stream",
     "text": [
      "tensor([[[    -0.0003,     -0.0794,      0.0568],\n",
      "         [    37.3512,    -29.9500,      4.6758],\n",
      "         [   -37.3827,     29.9815,     -4.6844],\n",
      "         [    -1.9320,     -1.6045,      5.1067],\n",
      "         [    -1.6343,     -2.7705,     -4.7140],\n",
      "         [     3.5981,      4.4229,     -0.4408]],\n",
      "\n",
      "        [[     0.0117,     -0.0476,      0.0288],\n",
      "         [     9.8832,     -7.9304,      1.2405],\n",
      "         [    -9.9174,      7.9483,     -1.2382],\n",
      "         [     4.4730,      3.7434,    -11.7686],\n",
      "         [     3.8161,      6.4443,     10.7878],\n",
      "         [    -8.2666,    -10.1581,      0.9496]],\n",
      "\n",
      "        [[     0.0279,     -0.0579,      0.0288],\n",
      "         [    -9.4915,      7.6063,     -1.1860],\n",
      "         [     9.4421,     -7.5773,      1.1872],\n",
      "         [     7.5727,      6.3327,    -19.9351],\n",
      "         [     6.4527,     10.9035,     18.2846],\n",
      "         [   -14.0038,    -17.2074,      1.6205]],\n",
      "\n",
      "        [[     0.0094,     -0.0606,      0.0391],\n",
      "         [    10.7720,     -8.6459,      1.3538],\n",
      "         [   -10.8183,      8.6679,     -1.3491],\n",
      "         [     5.2413,      4.3853,    -13.7773],\n",
      "         [     4.4765,      7.5530,     12.6276],\n",
      "         [    -9.6810,    -11.8997,      1.1059]],\n",
      "\n",
      "        [[     0.0284,     -0.0426,      0.0179],\n",
      "         [    -9.2429,      7.4055,     -1.1541],\n",
      "         [     9.1950,     -7.3806,      1.1575],\n",
      "         [     2.9423,      2.4631,     -7.7245],\n",
      "         [     2.5228,      4.2504,      7.0880],\n",
      "         [    -5.4456,     -6.6958,      0.6152]],\n",
      "\n",
      "        [[     0.0278,     -0.0423,      0.0178],\n",
      "         [    11.7998,     -9.4661,      1.4796],\n",
      "         [   -11.8363,      9.4884,     -1.4794],\n",
      "         [     3.0517,      2.5558,     -8.0381],\n",
      "         [     2.6009,      4.3966,      7.3684],\n",
      "         [    -5.6439,     -6.9323,      0.6516]],\n",
      "\n",
      "        [[     0.0257,     -0.0481,      0.0228],\n",
      "         [     8.9427,     -7.1709,      1.1191],\n",
      "         [    -8.9808,      7.2025,     -1.1247],\n",
      "         [     0.5687,      0.4792,     -1.4892],\n",
      "         [     0.4908,      0.8244,      1.3594],\n",
      "         [    -1.0472,     -1.2871,      0.1126]],\n",
      "\n",
      "        [[     0.0281,     -0.0581,      0.0289],\n",
      "         [     0.1709,     -0.1320,      0.0170],\n",
      "         [    -0.2026,      0.1674,     -0.0282],\n",
      "         [     0.5940,      0.5054,     -1.5617],\n",
      "         [     0.5142,      0.8697,      1.4269],\n",
      "         [    -1.1047,     -1.3524,      0.1170]]])\n"
     ]
    }
   ],
   "source": [
    "ch5_forces = hartree2kcalmol(ani2x.members_forces(ch5_inp).model_forces)\n",
    "print(ch5_forces)"
   ]
  },
  {
   "cell_type": "code",
   "execution_count": 36,
   "id": "bf35a553",
   "metadata": {
    "scrolled": true
   },
   "outputs": [
    {
     "name": "stdout",
     "output_type": "stream",
     "text": [
      "tensor(48.1038)\n",
      "tensor(12.7321)\n",
      "tensor(12.2209)\n",
      "tensor(13.8788)\n",
      "tensor(11.8998)\n",
      "tensor(15.1998)\n",
      "tensor(11.5172)\n",
      "tensor(0.2167)\n",
      "[tensor([ 37.3512, -29.9500,   4.6758]), tensor([ 9.8832, -7.9304,  1.2405]), tensor([-9.4915,  7.6063, -1.1860]), tensor([10.7720, -8.6459,  1.3538]), tensor([-9.2429,  7.4055, -1.1541]), tensor([11.7998, -9.4661,  1.4796]), tensor([ 8.9427, -7.1709,  1.1191]), tensor([ 0.1709, -0.1320,  0.0170])]\n"
     ]
    }
   ],
   "source": [
    "h_force = []\n",
    "for i in ch5_forces:\n",
    "    #print(i[1])\n",
    "    print(torch.linalg.norm(i[1]))\n",
    "    h_force.append(i[1])\n",
    "print(h_force)"
   ]
  },
  {
   "cell_type": "code",
   "execution_count": 34,
   "id": "f9bdfba0",
   "metadata": {},
   "outputs": [
    {
     "name": "stderr",
     "output_type": "stream",
     "text": [
      "/home/nick/miniconda3/envs/cuaev/lib/python3.9/site-packages/numpy/lib/function_base.py:2453: FutureWarning: The input object of type 'Tensor' is an array-like implementing one of the corresponding protocols (`__array__`, `__array_interface__` or `__array_struct__`); but not a sequence (or 0-D). In the future, this object will be coerced as if it was first converted using `np.array(obj)`. To retain the old behaviour, you have to either modify the type 'Tensor', or assign to an empty array created with `np.empty(correct_shape, dtype=object)`.\n",
      "  m = np.asarray(m)\n",
      "/home/nick/miniconda3/envs/cuaev/lib/python3.9/site-packages/numpy/lib/function_base.py:2453: VisibleDeprecationWarning: Creating an ndarray from ragged nested sequences (which is a list-or-tuple of lists-or-tuples-or ndarrays with different lengths or shapes) is deprecated. If you meant to do this, you must specify 'dtype=object' when creating the ndarray.\n",
      "  m = np.asarray(m)\n"
     ]
    },
    {
     "ename": "AttributeError",
     "evalue": "'float' object has no attribute 'shape'",
     "output_type": "error",
     "traceback": [
      "\u001b[0;31m---------------------------------------------------------------------------\u001b[0m",
      "\u001b[0;31mAttributeError\u001b[0m                            Traceback (most recent call last)",
      "Cell \u001b[0;32mIn[34], line 2\u001b[0m\n\u001b[1;32m      1\u001b[0m \u001b[38;5;28;01mimport\u001b[39;00m \u001b[38;5;21;01mnumpy\u001b[39;00m \u001b[38;5;28;01mas\u001b[39;00m \u001b[38;5;21;01mnp\u001b[39;00m\n\u001b[0;32m----> 2\u001b[0m \u001b[43mnp\u001b[49m\u001b[38;5;241;43m.\u001b[39;49m\u001b[43mcov\u001b[49m\u001b[43m(\u001b[49m\u001b[43mh_force\u001b[49m\u001b[43m)\u001b[49m\n",
      "File \u001b[0;32m<__array_function__ internals>:5\u001b[0m, in \u001b[0;36mcov\u001b[0;34m(*args, **kwargs)\u001b[0m\n",
      "File \u001b[0;32m~/miniconda3/envs/cuaev/lib/python3.9/site-packages/numpy/lib/function_base.py:2518\u001b[0m, in \u001b[0;36mcov\u001b[0;34m(m, y, rowvar, bias, ddof, fweights, aweights, dtype)\u001b[0m\n\u001b[1;32m   2515\u001b[0m     \u001b[38;5;28;01melse\u001b[39;00m:\n\u001b[1;32m   2516\u001b[0m         w \u001b[38;5;241m*\u001b[39m\u001b[38;5;241m=\u001b[39m aweights\n\u001b[0;32m-> 2518\u001b[0m avg, w_sum \u001b[38;5;241m=\u001b[39m \u001b[43maverage\u001b[49m\u001b[43m(\u001b[49m\u001b[43mX\u001b[49m\u001b[43m,\u001b[49m\u001b[43m \u001b[49m\u001b[43maxis\u001b[49m\u001b[38;5;241;43m=\u001b[39;49m\u001b[38;5;241;43m1\u001b[39;49m\u001b[43m,\u001b[49m\u001b[43m \u001b[49m\u001b[43mweights\u001b[49m\u001b[38;5;241;43m=\u001b[39;49m\u001b[43mw\u001b[49m\u001b[43m,\u001b[49m\u001b[43m \u001b[49m\u001b[43mreturned\u001b[49m\u001b[38;5;241;43m=\u001b[39;49m\u001b[38;5;28;43;01mTrue\u001b[39;49;00m\u001b[43m)\u001b[49m\n\u001b[1;32m   2519\u001b[0m w_sum \u001b[38;5;241m=\u001b[39m w_sum[\u001b[38;5;241m0\u001b[39m]\n\u001b[1;32m   2521\u001b[0m \u001b[38;5;66;03m# Determine the normalization\u001b[39;00m\n",
      "File \u001b[0;32m<__array_function__ internals>:5\u001b[0m, in \u001b[0;36maverage\u001b[0;34m(*args, **kwargs)\u001b[0m\n",
      "File \u001b[0;32m~/miniconda3/envs/cuaev/lib/python3.9/site-packages/numpy/lib/function_base.py:415\u001b[0m, in \u001b[0;36maverage\u001b[0;34m(a, axis, weights, returned)\u001b[0m\n\u001b[1;32m    412\u001b[0m     avg \u001b[38;5;241m=\u001b[39m np\u001b[38;5;241m.\u001b[39mmultiply(a, wgt, dtype\u001b[38;5;241m=\u001b[39mresult_dtype)\u001b[38;5;241m.\u001b[39msum(axis)\u001b[38;5;241m/\u001b[39mscl\n\u001b[1;32m    414\u001b[0m \u001b[38;5;28;01mif\u001b[39;00m returned:\n\u001b[0;32m--> 415\u001b[0m     \u001b[38;5;28;01mif\u001b[39;00m \u001b[43mscl\u001b[49m\u001b[38;5;241;43m.\u001b[39;49m\u001b[43mshape\u001b[49m \u001b[38;5;241m!=\u001b[39m avg\u001b[38;5;241m.\u001b[39mshape:\n\u001b[1;32m    416\u001b[0m         scl \u001b[38;5;241m=\u001b[39m np\u001b[38;5;241m.\u001b[39mbroadcast_to(scl, avg\u001b[38;5;241m.\u001b[39mshape)\u001b[38;5;241m.\u001b[39mcopy()\n\u001b[1;32m    417\u001b[0m     \u001b[38;5;28;01mreturn\u001b[39;00m avg, scl\n",
      "\u001b[0;31mAttributeError\u001b[0m: 'float' object has no attribute 'shape'"
     ]
    }
   ],
   "source": [
    "import numpy as np\n",
    "np.cov(h_force)"
   ]
  },
  {
   "cell_type": "code",
   "execution_count": 58,
   "id": "23764475",
   "metadata": {},
   "outputs": [
    {
     "name": "stdout",
     "output_type": "stream",
     "text": [
      "tensor([[ 0.01985, -0.05459,  0.03012],\n",
      "        [ 7.52317, -6.03545,  0.94320],\n",
      "        [-7.56261,  6.06227, -0.94492],\n",
      "        [ 2.81397,  2.35756, -7.39845],\n",
      "        [ 2.40496,  4.05892,  6.77859],\n",
      "        [-5.19934, -6.38872,  0.59146]]) \n",
      " tensor([[    0.01124,     0.01230,     0.01283],\n",
      "        [   14.88431,    11.93420,     1.86310],\n",
      "        [   14.87956,    11.93442,     1.86539],\n",
      "        [    3.02032,     2.52252,     7.95375],\n",
      "        [    2.57108,     4.34531,     7.30170],\n",
      "        [    5.58916,     6.86913,     0.65204]])\n"
     ]
    }
   ],
   "source": [
    "_, __, ch5_mean_force, ch5_force_std = ani2x.force_qbcs(ch5_inp)\n",
    "print(hartree2kcalmol(ch5_mean_force), '\\n', hartree2kcalmol(ch5_force_std))"
   ]
  },
  {
   "cell_type": "code",
   "execution_count": 59,
   "id": "5862e1b0",
   "metadata": {},
   "outputs": [
    {
     "name": "stdout",
     "output_type": "stream",
     "text": [
      "tensor([[ 0.01985, -0.05459,  0.03012],\n",
      "        [ 7.52317, -6.03545,  0.94320],\n",
      "        [-7.56261,  6.06227, -0.94492],\n",
      "        [ 2.81397,  2.35756, -7.39845],\n",
      "        [ 2.40496,  4.05892,  6.77859],\n",
      "        [-5.19934, -6.38872,  0.59146]])\n"
     ]
    }
   ],
   "source": [
    "ch5_mean_force = hartree2kcalmol(ch5_mean_force)\n",
    "print(ch5_mean_force)"
   ]
  },
  {
   "cell_type": "code",
   "execution_count": 60,
   "id": "e49acbe6",
   "metadata": {},
   "outputs": [],
   "source": [
    "ch5_force_std = hartree2kcalmol(ch5_force_std)"
   ]
  },
  {
   "cell_type": "code",
   "execution_count": 61,
   "id": "0fad107c",
   "metadata": {},
   "outputs": [
    {
     "data": {
      "text/plain": [
       "tensor([[ 0.01985, -0.05459,  0.03012],\n",
       "        [ 7.52317, -6.03545,  0.94320],\n",
       "        [-7.56261,  6.06227, -0.94492],\n",
       "        [ 2.81397,  2.35756, -7.39845],\n",
       "        [ 2.40496,  4.05892,  6.77859],\n",
       "        [-5.19934, -6.38872,  0.59146]])"
      ]
     },
     "execution_count": 61,
     "metadata": {},
     "output_type": "execute_result"
    }
   ],
   "source": [
    "ch5_mean_force"
   ]
  },
  {
   "cell_type": "code",
   "execution_count": 62,
   "id": "42871a87",
   "metadata": {},
   "outputs": [
    {
     "data": {
      "text/plain": [
       "tensor([[    0.01124,     0.01230,     0.01283],\n",
       "        [   14.88431,    11.93420,     1.86310],\n",
       "        [   14.87956,    11.93442,     1.86539],\n",
       "        [    3.02032,     2.52252,     7.95375],\n",
       "        [    2.57108,     4.34531,     7.30170],\n",
       "        [    5.58916,     6.86913,     0.65204]])"
      ]
     },
     "execution_count": 62,
     "metadata": {},
     "output_type": "execute_result"
    }
   ],
   "source": [
    "ch5_force_std"
   ]
  },
  {
   "cell_type": "code",
   "execution_count": 63,
   "id": "922ea358",
   "metadata": {},
   "outputs": [
    {
     "data": {
      "text/plain": [
       "tensor([[ 0.94558,  1.00000,  1.00000, -0.99999, -0.99996, -0.99998],\n",
       "        [ 0.99420,  1.00000,  1.00000,  1.00000,  1.00000,  1.00000],\n",
       "        [ 0.99425, -1.00000, -1.00000,  1.00000,  1.00000,  1.00000],\n",
       "        [ 0.98178,  1.00000,  1.00000,  1.00000,  1.00000,  1.00000],\n",
       "        [ 0.96624, -1.00000, -1.00000,  1.00000,  1.00000,  1.00000],\n",
       "        [ 0.96766,  1.00000,  1.00000,  1.00000,  1.00000,  1.00000],\n",
       "        [ 0.98836,  1.00000,  1.00000,  1.00000,  0.99998,  0.99999],\n",
       "        [ 0.99413,  0.99965,  0.99984,  0.99999,  0.99997,  0.99999]])"
      ]
     },
     "execution_count": 63,
     "metadata": {},
     "output_type": "execute_result"
    }
   ],
   "source": [
    "torch.set_printoptions(precision=5)\n",
    "cos(ch5_mean_force, ch5_forces)"
   ]
  },
  {
   "cell_type": "code",
   "execution_count": null,
   "id": "ffd15569",
   "metadata": {},
   "outputs": [],
   "source": []
  },
  {
   "cell_type": "code",
   "execution_count": 47,
   "id": "625d6a6a",
   "metadata": {},
   "outputs": [
    {
     "data": {
      "text/plain": [
       "SpeciesEnergies(species=tensor([[3, 1, 1, 1, 1, 1, 1, 0, 0, 0, 0, 0, 0, 0, 0, 0, 0]]), energies=tensor([-309.4919], dtype=torch.float64))"
      ]
     },
     "execution_count": 47,
     "metadata": {},
     "output_type": "execute_result"
    }
   ],
   "source": [
    "calculator = ani2x.ase()\n",
    "epoxide_species = tensor_from_xyz('m-epoxide.xyz')[0][None].to(device)\n",
    "epoxide_coord = tensor_from_xyz('m-epoxide.xyz')[1][None].to(device)\n",
    "epoxide_inp = (epoxide_species, epoxide_coord)\n",
    "ani2x(epoxide_inp)"
   ]
  },
  {
   "cell_type": "code",
   "execution_count": 50,
   "id": "192e627e",
   "metadata": {},
   "outputs": [
    {
     "name": "stdout",
     "output_type": "stream",
     "text": [
      "      Step     Time          Energy         fmax\n",
      "BFGS:    0 09:35:32    -8429.407349        0.0437\n",
      "(tensor([[8, 6, 6, 6, 6, 6, 6, 1, 1, 1, 1, 1, 1, 1, 1, 1, 1]]), tensor([[[ 0.7408,  0.8655, -2.6953],\n",
      "         [ 2.0209,  1.3860, -2.3486],\n",
      "         [ 2.1460,  1.7916, -0.8962],\n",
      "         [ 1.7966, -0.0546, -2.4252],\n",
      "         [ 1.7455, -0.6280, -1.0252],\n",
      "         [ 1.5580,  0.6005, -0.0954],\n",
      "         [ 0.0966,  0.8305,  0.2897],\n",
      "         [ 3.2070,  1.9396, -0.6618],\n",
      "         [ 1.6269,  2.7351, -0.6882],\n",
      "         [ 2.6903, -1.1433, -0.8156],\n",
      "         [ 0.9370, -1.3614, -0.9157],\n",
      "         [ 2.5146,  1.9625, -3.1296],\n",
      "         [ 2.1111, -0.6682, -3.2687],\n",
      "         [-0.3008, -0.0431,  0.8170],\n",
      "         [-0.5280,  1.0137, -0.5871],\n",
      "         [ 0.0117,  1.6969,  0.9544],\n",
      "         [ 2.1237,  0.4547,  0.8335]]], dtype=torch.float64))\n"
     ]
    }
   ],
   "source": [
    "ase_epoxide = ase.Atoms(numbers=epoxide_species[0],positions=epoxide_coord[0])\n",
    "ase_epoxide.calc = calculator\n",
    "\n",
    "dyn = BFGS(ase_epoxide)\n",
    "dyn.run(fmax=0.05)\n",
    "\n",
    "epoxide_coord = torch.tensor(ase_epoxide.positions[None])\n",
    "epoxide = (epoxide_species, epoxide_coord)\n",
    "\n",
    "print(epoxide)"
   ]
  },
  {
   "cell_type": "code",
   "execution_count": 52,
   "id": "dfcdbfc4",
   "metadata": {},
   "outputs": [
    {
     "name": "stdout",
     "output_type": "stream",
     "text": [
      "tensor([[-252.9948,   46.6740, -146.2518],\n",
      "        [ 249.7320,  187.2523,  146.8823],\n",
      "        [ -60.1982,    2.6833,   38.5559],\n",
      "        [  83.5770, -242.8198,   75.1281],\n",
      "        [ -12.0225,   19.4146,   49.7183],\n",
      "        [ -10.2523,   -3.5441,   -4.4934],\n",
      "        [  21.5389,    0.3345,  -12.1190],\n",
      "        [ -21.5709,    3.0174,   -9.6478],\n",
      "        [  12.5337,   -1.4670,   -8.0267],\n",
      "        [ -18.5703,    0.5075,    0.7169],\n",
      "        [   0.7064,   19.9252,  -15.9217],\n",
      "        [  21.8640,   12.7613,  -57.2957],\n",
      "        [ -29.0026,  -36.4934,  -61.0527],\n",
      "        [  -8.0826,    1.9702,   10.4433],\n",
      "        [   6.0939,   -3.6634,  -16.3681],\n",
      "        [  -3.4760,   -3.6775,   12.0514],\n",
      "        [  20.1243,   -2.8753,   -2.3193]]) \n",
      " tensor([[21.3139,  8.4321, 34.3789],\n",
      "        [15.8713, 24.1616, 12.6874],\n",
      "        [ 9.1037,  7.7733,  9.1381],\n",
      "        [16.2687, 25.3591, 18.2675],\n",
      "        [ 6.0134,  9.8199,  7.0351],\n",
      "        [ 2.2864,  3.0138, 11.2335],\n",
      "        [ 2.7265,  1.3888,  4.6482],\n",
      "        [ 2.5586,  1.6216,  1.4775],\n",
      "        [ 1.5974,  2.0757,  1.5396],\n",
      "        [ 2.2516,  3.6720,  2.1020],\n",
      "        [ 1.1130,  2.6598,  4.0866],\n",
      "        [ 4.5902,  6.0790,  4.4034],\n",
      "        [ 5.7735, 14.3287,  6.6113],\n",
      "        [ 0.4536,  0.3597,  0.5634],\n",
      "        [ 2.0380,  0.7279,  1.2889],\n",
      "        [ 0.3209,  0.3739,  0.4673],\n",
      "        [ 0.5644,  0.1853,  1.2474]])\n"
     ]
    },
    {
     "data": {
      "text/plain": [
       "tensor([[0.9926, 0.9985, 0.9968, 0.9971, 0.9869, 0.9218, 0.9961, 0.9977, 0.9979,\n",
       "         0.9847, 0.9904, 0.9942, 0.9926, 0.9999, 0.9994, 1.0000, 0.9999],\n",
       "        [0.9992, 0.9968, 0.9976, 0.9945, 0.9708, 0.7521, 0.9992, 0.9956, 0.9830,\n",
       "         0.9768, 0.9996, 0.9985, 0.9990, 0.9999, 0.9904, 0.9998, 0.9978],\n",
       "        [0.9906, 0.9977, 0.9954, 0.9981, 0.9960, 0.9819, 0.9977, 0.9990, 0.9991,\n",
       "         0.9936, 0.9944, 0.9853, 0.9894, 0.9991, 0.9957, 0.9986, 0.9939],\n",
       "        [0.9971, 0.9978, 0.9478, 0.9972, 0.9783, 0.7734, 0.9962, 0.9846, 0.9770,\n",
       "         0.9331, 0.9800, 0.9994, 0.9990, 0.9995, 0.9984, 0.9989, 0.9998],\n",
       "        [0.9985, 0.9989, 0.9992, 0.9978, 0.9955, 0.4425, 0.9978, 0.9970, 0.9548,\n",
       "         0.9947, 0.9977, 0.9926, 0.9908, 1.0000, 0.9997, 0.9998, 0.9997],\n",
       "        [0.9999, 0.9994, 0.9958, 0.9972, 0.9875, 0.9071, 0.9988, 0.9999, 0.9939,\n",
       "         0.9967, 0.9984, 0.9999, 0.9956, 0.9995, 0.9979, 0.9994, 0.9986],\n",
       "        [1.0000, 0.9972, 0.9890, 0.9966, 0.9677, 0.7240, 0.9905, 0.9993, 0.9978,\n",
       "         0.9967, 0.9988, 0.9964, 0.9982, 0.9978, 0.9899, 0.9980, 0.9966],\n",
       "        [0.9970, 0.9976, 0.9806, 0.9919, 0.9564, 0.4835, 0.9260, 0.9963, 0.9769,\n",
       "         0.9359, 0.9927, 0.9863, 0.9735, 0.9991, 0.9945, 0.9990, 0.9997]])"
      ]
     },
     "execution_count": 52,
     "metadata": {},
     "output_type": "execute_result"
    }
   ],
   "source": [
    "epoxide_forces = hartree2kcalmol(ani2x.members_forces(epoxide_inp).model_forces)\n",
    "_, __, epoxide_mean_force, epoxide_force_std = ani2x.force_qbcs(epoxide_inp)\n",
    "#magnitudes = \n",
    "#mean_magnitudes = \n",
    "print(hartree2kcalmol(epoxide_mean_force), '\\n', hartree2kcalmol(epoxide_force_std))\n",
    "epoxide_mean_force = hartree2kcalmol(epoxide_mean_force)\n",
    "epoxide_force_std = hartree2kcalmol(epoxide_force_std)\n",
    "cos(epoxide_mean_force, epoxide_forces)"
   ]
  },
  {
   "cell_type": "code",
   "execution_count": 55,
   "id": "849dde3a",
   "metadata": {},
   "outputs": [
    {
     "name": "stdout",
     "output_type": "stream",
     "text": [
      "tensor([[8, 6, 6, 6, 6, 6, 6, 1, 1, 1, 1, 1, 1, 1, 1, 1, 1]])\n"
     ]
    }
   ],
   "source": [
    "print(epoxide[0])"
   ]
  },
  {
   "cell_type": "code",
   "execution_count": 60,
   "id": "78c72caf",
   "metadata": {},
   "outputs": [
    {
     "data": {
      "text/html": [
       "<div>\n",
       "<style scoped>\n",
       "    .dataframe tbody tr th:only-of-type {\n",
       "        vertical-align: middle;\n",
       "    }\n",
       "\n",
       "    .dataframe tbody tr th {\n",
       "        vertical-align: top;\n",
       "    }\n",
       "\n",
       "    .dataframe thead th {\n",
       "        text-align: right;\n",
       "    }\n",
       "</style>\n",
       "<table border=\"1\" class=\"dataframe\">\n",
       "  <thead>\n",
       "    <tr style=\"text-align: right;\">\n",
       "      <th></th>\n",
       "      <th>O</th>\n",
       "      <th>C</th>\n",
       "      <th>C</th>\n",
       "      <th>C</th>\n",
       "      <th>C</th>\n",
       "      <th>C</th>\n",
       "      <th>C</th>\n",
       "      <th>H</th>\n",
       "      <th>H</th>\n",
       "      <th>H</th>\n",
       "      <th>H</th>\n",
       "      <th>H</th>\n",
       "      <th>H</th>\n",
       "      <th>H</th>\n",
       "      <th>H</th>\n",
       "      <th>H</th>\n",
       "      <th>H</th>\n",
       "    </tr>\n",
       "  </thead>\n",
       "  <tbody>\n",
       "    <tr>\n",
       "      <th>1</th>\n",
       "      <td>0.993</td>\n",
       "      <td>0.999</td>\n",
       "      <td>0.997</td>\n",
       "      <td>0.997</td>\n",
       "      <td>0.987</td>\n",
       "      <td>0.922</td>\n",
       "      <td>0.996</td>\n",
       "      <td>0.998</td>\n",
       "      <td>0.998</td>\n",
       "      <td>0.985</td>\n",
       "      <td>0.990</td>\n",
       "      <td>0.994</td>\n",
       "      <td>0.993</td>\n",
       "      <td>1.000</td>\n",
       "      <td>0.999</td>\n",
       "      <td>1.000</td>\n",
       "      <td>1.000</td>\n",
       "    </tr>\n",
       "    <tr>\n",
       "      <th>2</th>\n",
       "      <td>0.999</td>\n",
       "      <td>0.997</td>\n",
       "      <td>0.998</td>\n",
       "      <td>0.995</td>\n",
       "      <td>0.971</td>\n",
       "      <td>0.752</td>\n",
       "      <td>0.999</td>\n",
       "      <td>0.996</td>\n",
       "      <td>0.983</td>\n",
       "      <td>0.977</td>\n",
       "      <td>1.000</td>\n",
       "      <td>0.998</td>\n",
       "      <td>0.999</td>\n",
       "      <td>1.000</td>\n",
       "      <td>0.990</td>\n",
       "      <td>1.000</td>\n",
       "      <td>0.998</td>\n",
       "    </tr>\n",
       "    <tr>\n",
       "      <th>3</th>\n",
       "      <td>0.991</td>\n",
       "      <td>0.998</td>\n",
       "      <td>0.995</td>\n",
       "      <td>0.998</td>\n",
       "      <td>0.996</td>\n",
       "      <td>0.982</td>\n",
       "      <td>0.998</td>\n",
       "      <td>0.999</td>\n",
       "      <td>0.999</td>\n",
       "      <td>0.994</td>\n",
       "      <td>0.994</td>\n",
       "      <td>0.985</td>\n",
       "      <td>0.989</td>\n",
       "      <td>0.999</td>\n",
       "      <td>0.996</td>\n",
       "      <td>0.999</td>\n",
       "      <td>0.994</td>\n",
       "    </tr>\n",
       "    <tr>\n",
       "      <th>4</th>\n",
       "      <td>0.997</td>\n",
       "      <td>0.998</td>\n",
       "      <td>0.948</td>\n",
       "      <td>0.997</td>\n",
       "      <td>0.978</td>\n",
       "      <td>0.773</td>\n",
       "      <td>0.996</td>\n",
       "      <td>0.985</td>\n",
       "      <td>0.977</td>\n",
       "      <td>0.933</td>\n",
       "      <td>0.980</td>\n",
       "      <td>0.999</td>\n",
       "      <td>0.999</td>\n",
       "      <td>0.999</td>\n",
       "      <td>0.998</td>\n",
       "      <td>0.999</td>\n",
       "      <td>1.000</td>\n",
       "    </tr>\n",
       "    <tr>\n",
       "      <th>5</th>\n",
       "      <td>0.998</td>\n",
       "      <td>0.999</td>\n",
       "      <td>0.999</td>\n",
       "      <td>0.998</td>\n",
       "      <td>0.995</td>\n",
       "      <td>0.442</td>\n",
       "      <td>0.998</td>\n",
       "      <td>0.997</td>\n",
       "      <td>0.955</td>\n",
       "      <td>0.995</td>\n",
       "      <td>0.998</td>\n",
       "      <td>0.993</td>\n",
       "      <td>0.991</td>\n",
       "      <td>1.000</td>\n",
       "      <td>1.000</td>\n",
       "      <td>1.000</td>\n",
       "      <td>1.000</td>\n",
       "    </tr>\n",
       "    <tr>\n",
       "      <th>6</th>\n",
       "      <td>1.000</td>\n",
       "      <td>0.999</td>\n",
       "      <td>0.996</td>\n",
       "      <td>0.997</td>\n",
       "      <td>0.988</td>\n",
       "      <td>0.907</td>\n",
       "      <td>0.999</td>\n",
       "      <td>1.000</td>\n",
       "      <td>0.994</td>\n",
       "      <td>0.997</td>\n",
       "      <td>0.998</td>\n",
       "      <td>1.000</td>\n",
       "      <td>0.996</td>\n",
       "      <td>1.000</td>\n",
       "      <td>0.998</td>\n",
       "      <td>0.999</td>\n",
       "      <td>0.999</td>\n",
       "    </tr>\n",
       "    <tr>\n",
       "      <th>7</th>\n",
       "      <td>1.000</td>\n",
       "      <td>0.997</td>\n",
       "      <td>0.989</td>\n",
       "      <td>0.997</td>\n",
       "      <td>0.968</td>\n",
       "      <td>0.724</td>\n",
       "      <td>0.991</td>\n",
       "      <td>0.999</td>\n",
       "      <td>0.998</td>\n",
       "      <td>0.997</td>\n",
       "      <td>0.999</td>\n",
       "      <td>0.996</td>\n",
       "      <td>0.998</td>\n",
       "      <td>0.998</td>\n",
       "      <td>0.990</td>\n",
       "      <td>0.998</td>\n",
       "      <td>0.997</td>\n",
       "    </tr>\n",
       "    <tr>\n",
       "      <th>8</th>\n",
       "      <td>0.997</td>\n",
       "      <td>0.998</td>\n",
       "      <td>0.981</td>\n",
       "      <td>0.992</td>\n",
       "      <td>0.956</td>\n",
       "      <td>0.484</td>\n",
       "      <td>0.926</td>\n",
       "      <td>0.996</td>\n",
       "      <td>0.977</td>\n",
       "      <td>0.936</td>\n",
       "      <td>0.993</td>\n",
       "      <td>0.986</td>\n",
       "      <td>0.974</td>\n",
       "      <td>0.999</td>\n",
       "      <td>0.994</td>\n",
       "      <td>0.999</td>\n",
       "      <td>1.000</td>\n",
       "    </tr>\n",
       "  </tbody>\n",
       "</table>\n",
       "</div>"
      ],
      "text/plain": [
       "       O      C      C      C      C      C      C      H      H      H  \\\n",
       "1  0.993  0.999  0.997  0.997  0.987  0.922  0.996  0.998  0.998  0.985   \n",
       "2  0.999  0.997  0.998  0.995  0.971  0.752  0.999  0.996  0.983  0.977   \n",
       "3  0.991  0.998  0.995  0.998  0.996  0.982  0.998  0.999  0.999  0.994   \n",
       "4  0.997  0.998  0.948  0.997  0.978  0.773  0.996  0.985  0.977  0.933   \n",
       "5  0.998  0.999  0.999  0.998  0.995  0.442  0.998  0.997  0.955  0.995   \n",
       "6  1.000  0.999  0.996  0.997  0.988  0.907  0.999  1.000  0.994  0.997   \n",
       "7  1.000  0.997  0.989  0.997  0.968  0.724  0.991  0.999  0.998  0.997   \n",
       "8  0.997  0.998  0.981  0.992  0.956  0.484  0.926  0.996  0.977  0.936   \n",
       "\n",
       "       H      H      H      H      H      H      H  \n",
       "1  0.990  0.994  0.993  1.000  0.999  1.000  1.000  \n",
       "2  1.000  0.998  0.999  1.000  0.990  1.000  0.998  \n",
       "3  0.994  0.985  0.989  0.999  0.996  0.999  0.994  \n",
       "4  0.980  0.999  0.999  0.999  0.998  0.999  1.000  \n",
       "5  0.998  0.993  0.991  1.000  1.000  1.000  1.000  \n",
       "6  0.998  1.000  0.996  1.000  0.998  0.999  0.999  \n",
       "7  0.999  0.996  0.998  0.998  0.990  0.998  0.997  \n",
       "8  0.993  0.986  0.974  0.999  0.994  0.999  1.000  "
      ]
     },
     "execution_count": 60,
     "metadata": {},
     "output_type": "execute_result"
    }
   ],
   "source": [
    "import pandas as pd\n",
    "\n",
    "df = pd.DataFrame(cos(epoxide_mean_force, epoxide_forces))\n",
    "df.index+=1\n",
    "df = df.rename(columns={0:'O', 1:'C', 2:'C', 3:'C', 4:'C', 5:'C', 6:'C', 7:'H', 8:'H', 9:'H', 10:'H', 11:'H', 12:'H', 13:'H', 14:'H', 15:'H', 16:'H'})\n",
    "df.round(3)"
   ]
  },
  {
   "cell_type": "code",
   "execution_count": null,
   "id": "e5bc943b",
   "metadata": {},
   "outputs": [],
   "source": []
  }
 ],
 "metadata": {
  "kernelspec": {
   "display_name": "Python 3 (ipykernel)",
   "language": "python",
   "name": "python3"
  },
  "language_info": {
   "codemirror_mode": {
    "name": "ipython",
    "version": 3
   },
   "file_extension": ".py",
   "mimetype": "text/x-python",
   "name": "python",
   "nbconvert_exporter": "python",
   "pygments_lexer": "ipython3",
   "version": "3.9.13"
  }
 },
 "nbformat": 4,
 "nbformat_minor": 5
}
