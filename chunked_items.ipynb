{
 "cells": [
  {
   "cell_type": "code",
   "execution_count": 1,
   "id": "c3d0a647",
   "metadata": {},
   "outputs": [],
   "source": [
    "import time\n",
    "from tqdm import tqdm\n",
    "\n",
    "import torch\n",
    "\n",
    "from torchani.datasets import COMP6v1\n",
    "import torchani\n",
    "from torchani.units import hartree2kcalmol"
   ]
  },
  {
   "cell_type": "code",
   "execution_count": 2,
   "id": "d2ce51fc",
   "metadata": {},
   "outputs": [
    {
     "data": {
      "application/vnd.jupyter.widget-view+json": {
       "model_id": "ca9526210cb449d091c8a0272c40d319",
       "version_major": 2,
       "version_minor": 0
      },
      "text/plain": [
       "Checking integrity of files for dataset COMP6v1:   0%|          | 0/1 [00:00<?, ?it/s]"
      ]
     },
     "metadata": {},
     "output_type": "display_data"
    },
    {
     "name": "stdout",
     "output_type": "stream",
     "text": [
      "Name: COMP6-v1_full-B973c-def2mTZVP\n",
      "ANI h5py store:\n",
      "{'Conformer groups': 97,\n",
      " 'Conformers': '99,968',\n",
      " 'Properties': ['D3.energy-corrections',\n",
      "                'D3.force-corrections',\n",
      "                '_id',\n",
      "                'coordinates',\n",
      "                'dipole',\n",
      "                'energies',\n",
      "                'forces',\n",
      "                'quadrupole',\n",
      "                'species'],\n",
      " 'Store Metadata': {}}\n"
     ]
    }
   ],
   "source": [
    "ds = COMP6v1('/home/nick/Datasets/comp6v1/')\n",
    "device = torch.device('cuda')\n",
    "ani2x = torchani.models.ANI2x().to(device)"
   ]
  },
  {
   "cell_type": "code",
   "execution_count": 9,
   "id": "e774103d",
   "metadata": {},
   "outputs": [
    {
     "name": "stderr",
     "output_type": "stream",
     "text": [
      "  0%|          | 128/101352 [00:00<00:50, 2016.12it/s]"
     ]
    },
    {
     "name": "stdout",
     "output_type": "stream",
     "text": [
      "torch.Size([128, 20, 3])\n",
      "torch.Size([128])\n",
      "torch.Size([])\n",
      "torch.Size([128, 20, 3])\n",
      "Time elapsed: 0.0727061778306961 s\n"
     ]
    },
    {
     "name": "stderr",
     "output_type": "stream",
     "text": [
      "\n"
     ]
    }
   ],
   "source": [
    "_start = time.perf_counter()\n",
    "with ds.keep_open(\"r\") as rods:\n",
    "    pbar = tqdm(total=ds.num_conformers)\n",
    "    for group, j, conformer in rods.chunked_items(max_size=2500):\n",
    "        species = conformer[\"species\"].to(device)\n",
    "        coordinates = conformer[\"coordinates\"].to(device)\n",
    "        coordinates.requires_grad_(True)\n",
    "        print(coordinates.shape)\n",
    "        energies = ani2x((species, coordinates)).energies\n",
    "        print(energies.shape)\n",
    "        print(energies.sum().shape)\n",
    "        forces = -torch.autograd.grad(energies.sum(), coordinates)[0]\n",
    "        print(forces.shape)\n",
    "        pbar.update(len(coordinates))\n",
    "        break\n",
    "    pbar.close()\n",
    "print(f\"Time elapsed: {time.perf_counter() - _start} s\")\n",
    "# This took about 7.3 min in CPU of my laptop\n",
    "# Intel(R) Core(TM) i5-10300H CPU @ 2.50GHz\n",
    "# My laptop's GPU doesn't have enough memory to do it"
   ]
  },
  {
   "cell_type": "code",
   "execution_count": null,
   "id": "55e84aa2",
   "metadata": {},
   "outputs": [],
   "source": []
  }
 ],
 "metadata": {
  "kernelspec": {
   "display_name": "Python 3 (ipykernel)",
   "language": "python",
   "name": "python3"
  },
  "language_info": {
   "codemirror_mode": {
    "name": "ipython",
    "version": 3
   },
   "file_extension": ".py",
   "mimetype": "text/x-python",
   "name": "python",
   "nbconvert_exporter": "python",
   "pygments_lexer": "ipython3",
   "version": "3.9.13"
  }
 },
 "nbformat": 4,
 "nbformat_minor": 5
}
