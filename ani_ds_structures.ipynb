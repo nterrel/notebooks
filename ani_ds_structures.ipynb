{
 "cells": [
  {
   "cell_type": "code",
   "execution_count": 1,
   "id": "bf69137e-056a-4329-b57e-e3e2fa4b4915",
   "metadata": {},
   "outputs": [],
   "source": [
    "import torch\n",
    "import torchani\n",
    "from torchani.datasets import ANIDataset"
   ]
  },
  {
   "cell_type": "code",
   "execution_count": 2,
   "id": "9cb5940b-dc67-4f0a-875c-de000d318413",
   "metadata": {},
   "outputs": [
    {
     "name": "stdout",
     "output_type": "stream",
     "text": [
      "by_num_atoms\n"
     ]
    }
   ],
   "source": [
    "ds = ANIDataset('/home/nick/Datasets/ani1x/ANI-1x-wB97X-631Gd.h5')\n",
    "print(ds.grouping)"
   ]
  },
  {
   "cell_type": "code",
   "execution_count": 3,
   "id": "9f1f0067-a1bd-4cce-b425-da382a60edc1",
   "metadata": {},
   "outputs": [],
   "source": [
    "#ds.regroup_by_num_atoms()"
   ]
  },
  {
   "cell_type": "code",
   "execution_count": 4,
   "id": "ab4fecba-7cbf-4c65-8037-5bb6d194325f",
   "metadata": {},
   "outputs": [],
   "source": [
    "species_coord = (ds['063']['species'],ds['063']['coordinates'].double())\n",
    "anidr = torchani.models.ANIdr().double()"
   ]
  },
  {
   "cell_type": "code",
   "execution_count": 5,
   "id": "cb752f2b-2c13-4e9b-a13a-5a2647f45b35",
   "metadata": {},
   "outputs": [
    {
     "name": "stdout",
     "output_type": "stream",
     "text": [
      "QBC:\n",
      " 0.3580593923042261 kcal / mol\n",
      "Max force QBC:\n",
      " 0.5769927990498646 (unitless; stdev/mean)\n"
     ]
    }
   ],
   "source": [
    "print('QBC:\\n',\n",
    "      torchani.units.hartree2kcalmol(anidr.energies_qbcs(species_coord).qbcs).item(),\n",
    "     'kcal / mol')\n",
    "print('Max force QBC:\\n',\n",
    "      anidr.force_qbc(species_coord).relative_stdev.max().item(),\n",
    "     '(unitless; stdev/mean)')"
   ]
  },
  {
   "cell_type": "code",
   "execution_count": 6,
   "id": "e88d32c9-6161-4a74-b4d1-360ee553f90f",
   "metadata": {},
   "outputs": [
    {
     "data": {
      "text/plain": [
       "(tensor([[36.9925, 30.1695, 43.9674, 33.9955, 47.8210, 55.4105, 82.6661, 24.6302,\n",
       "          44.7937, 22.8150, 60.9511, 55.7879, 49.9653, 36.3490, 39.4903, 54.9517,\n",
       "          40.3394, 39.0696, 34.5503, 21.6882, 50.3781, 33.4264, 22.8754, 21.9141,\n",
       "          24.3032, 28.2550, 24.7858, 51.8485, 24.3083, 29.0494, 38.9099, 11.1811,\n",
       "          12.7416, 28.1820, 22.2696, 34.7220, 17.0394, 11.4127, 17.0514, 22.8683,\n",
       "          28.7409, 23.3734, 28.0914, 20.8388, 24.0846, 17.5489, 25.9462, 34.4343,\n",
       "          18.4238, 25.0592, 36.1948, 11.7609, 22.9855, 17.6413,  5.0435, 65.6676,\n",
       "          40.3206, 33.4875, 38.6472, 52.8264, 53.8780, 27.4902, 14.2818]],\n",
       "        dtype=torch.float64),\n",
       " tensor([[0.0778, 0.0573, 0.0479, 0.0490, 0.0314, 0.0159, 0.0385, 0.0464, 0.0233,\n",
       "          0.1027, 0.0202, 0.0353, 0.0196, 0.0493, 0.0363, 0.0148, 0.0428, 0.0356,\n",
       "          0.0734, 0.1464, 0.0634, 0.0287, 0.0520, 0.0581, 0.0273, 0.0185, 0.0200,\n",
       "          0.0078, 0.0297, 0.0139, 0.0273, 0.0972, 0.0524, 0.0377, 0.0573, 0.0336,\n",
       "          0.0556, 0.0499, 0.0584, 0.0464, 0.0347, 0.0286, 0.0333, 0.0516, 0.0265,\n",
       "          0.0445, 0.0257, 0.0208, 0.0465, 0.0243, 0.0415, 0.1839, 0.0308, 0.1695,\n",
       "          0.5770, 0.0266, 0.1352, 0.0563, 0.0413, 0.0246, 0.0624, 0.0358, 0.1394]],\n",
       "        dtype=torch.float64))"
      ]
     },
     "execution_count": 6,
     "metadata": {},
     "output_type": "execute_result"
    }
   ],
   "source": [
    "torchani.units.hartree2kcalmol(anidr.force_magnitudes(species_coord).magnitudes), anidr.force_qbc(species_coord).relative_stdev"
   ]
  },
  {
   "cell_type": "code",
   "execution_count": 7,
   "id": "393d00af-07e9-4155-bb90-0919e8b49724",
   "metadata": {},
   "outputs": [
    {
     "data": {
      "application/vnd.jupyter.widget-view+json": {
       "model_id": "17046d1d2ece47219b86b50502df0461",
       "version_major": 2,
       "version_minor": 0
      },
      "text/plain": []
     },
     "metadata": {},
     "output_type": "display_data"
    },
    {
     "data": {
      "application/vnd.jupyter.widget-view+json": {
       "model_id": "924d1a17167f45e8b04a8304882a5790",
       "version_major": 2,
       "version_minor": 0
      },
      "text/plain": [
       "NGLWidget()"
      ]
     },
     "metadata": {},
     "output_type": "display_data"
    }
   ],
   "source": [
    "import nglview as nv\n",
    "from ase import Atoms\n",
    "\n",
    "numbers = species_coord[0].squeeze()\n",
    "positions = species_coord[1].squeeze().detach()\n",
    "\n",
    "atoms = Atoms(numbers=numbers, positions=positions)\n",
    "\n",
    "viewer = nv.show_ase(atoms)\n",
    "viewer.display()"
   ]
  },
  {
   "cell_type": "code",
   "execution_count": null,
   "id": "f34621fe-551f-442a-9f36-81e5045bdf91",
   "metadata": {},
   "outputs": [],
   "source": []
  }
 ],
 "metadata": {
  "kernelspec": {
   "display_name": "Python 3 (ipykernel)",
   "language": "python",
   "name": "python3"
  },
  "language_info": {
   "codemirror_mode": {
    "name": "ipython",
    "version": 3
   },
   "file_extension": ".py",
   "mimetype": "text/x-python",
   "name": "python",
   "nbconvert_exporter": "python",
   "pygments_lexer": "ipython3",
   "version": "3.8.18"
  }
 },
 "nbformat": 4,
 "nbformat_minor": 5
}
