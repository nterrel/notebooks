{
 "cells": [
  {
   "cell_type": "code",
   "execution_count": 1,
   "id": "7562a93d-ed2c-474e-9ff1-0922464f7873",
   "metadata": {},
   "outputs": [
    {
     "data": {
      "application/vnd.jupyter.widget-view+json": {
       "model_id": "6cc1904e756a4801aca708c6b7b28251",
       "version_major": 2,
       "version_minor": 0
      },
      "text/plain": []
     },
     "metadata": {},
     "output_type": "display_data"
    }
   ],
   "source": [
    "import torch\n",
    "import torchani\n",
    "from torchani.datasets import ANIDataset\n",
    "import ase\n",
    "import nglview as nv"
   ]
  },
  {
   "cell_type": "code",
   "execution_count": 4,
   "id": "d78e71ef-cf15-41f9-9325-457d1cbe6177",
   "metadata": {},
   "outputs": [],
   "source": [
    "anidr = torchani.models.ANIdr().double()\n",
    "ds = ANIDataset('/home/nick/Datasets/SPICEPubChem2xCompatible-wb97m_d3bj-def2tzvppd/SPICE-pubchem_2x_compatible-wb97m_d3bj-def2tzvppd.h5')"
   ]
  },
  {
   "cell_type": "code",
   "execution_count": 11,
   "id": "5382e0c5-3125-4776-b1ff-d0717a743b44",
   "metadata": {},
   "outputs": [],
   "source": [
    "mol = (ds['C10Cl10']['species'][0],ds['C10Cl10']['coordinates'][0])\n",
    "import numpy as np"
   ]
  },
  {
   "cell_type": "code",
   "execution_count": 12,
   "id": "7dc8e16f-67b9-4dd4-aae6-e17eafbc640d",
   "metadata": {},
   "outputs": [
    {
     "data": {
      "text/plain": [
       "tensor([[-3.2910,  5.2295,  7.5102],\n",
       "        [-6.9312,  3.3180,  1.8233],\n",
       "        [ 2.7152, -4.5094, -4.9880],\n",
       "        [ 8.3288, -1.2580, -3.0125],\n",
       "        [ 2.9970,  4.4711,  5.7296],\n",
       "        [-2.9703,  1.3340, -2.5110],\n",
       "        [-1.6071, -3.7647, -0.2885],\n",
       "        [ 7.2934,  1.5979,  2.4037],\n",
       "        [ 1.9012,  4.5664, -1.1244],\n",
       "        [ 1.8309, -1.9476,  4.3862],\n",
       "        [-2.2557,  4.1474,  4.5018],\n",
       "        [-3.6968,  3.3233,  2.2374],\n",
       "        [ 3.0428, -2.3443, -2.3812],\n",
       "        [ 5.3959, -1.1469, -1.6108],\n",
       "        [ 0.3511,  3.8124,  3.9817],\n",
       "        [-1.9394,  2.4805,  0.4680],\n",
       "        [ 1.1370, -1.8459, -0.6133],\n",
       "        [ 4.9168,  0.0489,  0.6066],\n",
       "        [ 0.6946,  2.5614,  1.3759],\n",
       "        [ 2.0867, -0.0738,  1.5053]], dtype=torch.float64)"
      ]
     },
     "execution_count": 12,
     "metadata": {},
     "output_type": "execute_result"
    }
   ],
   "source": [
    "ds['C10Cl10']['coordinates'][0]"
   ]
  },
  {
   "cell_type": "code",
   "execution_count": 16,
   "id": "61efbf95-eaf3-4830-bde5-e7d495023951",
   "metadata": {},
   "outputs": [
    {
     "data": {
      "text/plain": [
       "tensor([[-1.7415,  2.7673,  3.9742],\n",
       "        [-3.6678,  1.7558,  0.9648],\n",
       "        [ 1.4368, -2.3863, -2.6395],\n",
       "        [ 4.4074, -0.6657, -1.5941],\n",
       "        [ 1.5860,  2.3660,  3.0319],\n",
       "        [-1.5718,  0.7059, -1.3288],\n",
       "        [-0.8504, -1.9922, -0.1527],\n",
       "        [ 3.8595,  0.8456,  1.2720],\n",
       "        [ 1.0060,  2.4164, -0.5950],\n",
       "        [ 0.9688, -1.0306,  2.3211],\n",
       "        [-1.1936,  2.1947,  2.3823],\n",
       "        [-1.9563,  1.7586,  1.1840],\n",
       "        [ 1.6102, -1.2406, -1.2601],\n",
       "        [ 2.8554, -0.6069, -0.8524],\n",
       "        [ 0.1858,  2.0174,  2.1070],\n",
       "        [-1.0263,  1.3126,  0.2477],\n",
       "        [ 0.6017, -0.9768, -0.3245],\n",
       "        [ 2.6019,  0.0259,  0.3210],\n",
       "        [ 0.3676,  1.3554,  0.7281],\n",
       "        [ 1.1043, -0.0391,  0.7966]], dtype=torch.float64)"
      ]
     },
     "execution_count": 16,
     "metadata": {},
     "output_type": "execute_result"
    }
   ],
   "source": [
    "torchani.units.bohr2angstrom(ds['C10Cl10']['coordinates'][0])"
   ]
  },
  {
   "cell_type": "code",
   "execution_count": 17,
   "id": "87b541f8-6093-4b18-8697-85c49288c850",
   "metadata": {},
   "outputs": [
    {
     "name": "stdout",
     "output_type": "stream",
     "text": [
      "Highlighted atom indices: []\n"
     ]
    },
    {
     "data": {
      "application/vnd.jupyter.widget-view+json": {
       "model_id": "237273cde35f4e618c2b49653ca2099d",
       "version_major": 2,
       "version_minor": 0
      },
      "text/plain": [
       "NGLWidget()"
      ]
     },
     "metadata": {},
     "output_type": "display_data"
    }
   ],
   "source": [
    "test_mol = ase.Atoms(numbers=mol[0].squeeze(), positions=torchani.units.bohr2angstrom(ds['C10Cl10']['coordinates'][0]).squeeze())\n",
    "test_species_coord = (torch.tensor(test_mol.numbers).unsqueeze(0), torch.tensor(test_mol.positions, requires_grad=True).unsqueeze(0))\n",
    "\n",
    "relative_stdev = anidr.force_qbc(test_species_coord).relative_stdev\n",
    "highlight_indices = [i for i, val in enumerate(relative_stdev.squeeze()) if val > 0.5]\n",
    "print('Highlighted atom indices:', highlight_indices)\n",
    "\n",
    "viewer2 = nv.show_ase(test_mol)\n",
    "#viewer2.add_representation('ball+stick', selection=highlight_indices, color='purple', radius=0.4) # You can adjust the radius as per your need\n",
    "viewer2.display()"
   ]
  },
  {
   "cell_type": "code",
   "execution_count": null,
   "id": "48439c9c-ad16-423c-a754-d48619c2beba",
   "metadata": {},
   "outputs": [],
   "source": []
  },
  {
   "cell_type": "code",
   "execution_count": null,
   "id": "01857d1c-0a00-4109-8e6d-af4577c6f38e",
   "metadata": {},
   "outputs": [],
   "source": []
  }
 ],
 "metadata": {
  "kernelspec": {
   "display_name": "Python 3 (ipykernel)",
   "language": "python",
   "name": "python3"
  },
  "language_info": {
   "codemirror_mode": {
    "name": "ipython",
    "version": 3
   },
   "file_extension": ".py",
   "mimetype": "text/x-python",
   "name": "python",
   "nbconvert_exporter": "python",
   "pygments_lexer": "ipython3",
   "version": "3.8.18"
  }
 },
 "nbformat": 4,
 "nbformat_minor": 5
}
