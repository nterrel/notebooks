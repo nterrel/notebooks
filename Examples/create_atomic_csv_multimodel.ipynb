{
 "cells": [
  {
   "cell_type": "code",
   "execution_count": 1,
   "id": "1ddc0f3b",
   "metadata": {},
   "outputs": [],
   "source": [
    "import pandas as pd\n",
    "from rdkit import Chem\n",
    "from rdkit.Chem import PandasTools\n",
    "import ast\n",
    "import numpy as np"
   ]
  },
  {
   "cell_type": "code",
   "execution_count": 2,
   "id": "0d4bf08e",
   "metadata": {},
   "outputs": [],
   "source": [
    "def atom_df(atom):\n",
    "    dict_list = []\n",
    "    for model in SMI_dict:\n",
    "        for species in SMI_dict[model]:\n",
    "            if species == atom:\n",
    "                for hybridization in SMI_dict[model][species]:\n",
    "                    for i in range(len(SMI_dict[model][species][hybridization]['E'])):\n",
    "                        data_dict = {\n",
    "                            'model': model,\n",
    "                            'species': species,\n",
    "                            'hybridization': hybridization,\n",
    "                            'E': SMI_dict[model][species][hybridization]['E'][i],\n",
    "                            'SMILES': SMI_dict[model][species][hybridization]['SMILES'][i], \n",
    "                            'Neighbors': SMI_dict[model][species][hybridization]['Neighbors'][i]\n",
    "                        }\n",
    "                        dict_list.append(data_dict)\n",
    "    df = pd.DataFrame(dict_list)\n",
    "    return df\n",
    "\n",
    "def avg_atom_df(atom, models=8):\n",
    "    avg_dict_list = []\n",
    "    for model in SMI_dict:\n",
    "        for species in SMI_dict[model]:\n",
    "            if species == atom:\n",
    "                for hybridization in SMI_dict[model][species]:\n",
    "                    for i in range(len(SMI_dict[model][species][hybridization]['E'])):\n",
    "                        for m in range(models):\n",
    "                            data_dict = {\n",
    "                                    'model': -1,\n",
    "                                    'species': species,\n",
    "                                    'hybridization': hybridization,\n",
    "                                    'E': SMI_dict[m][species][hybridization]['E'][i],\n",
    "                                    'SMILES': SMI_dict[m][species][hybridization]['SMILES'][i]\n",
    "                                }\n",
    "                            avg_dict_list.append(data_dict)\n",
    "    avg_df = pd.DataFrame(avg_dict_list)\n",
    "    return avg_df"
   ]
  },
  {
   "cell_type": "markdown",
   "id": "ca053d4f",
   "metadata": {},
   "source": [
    "# Importing data"
   ]
  },
  {
   "cell_type": "code",
   "execution_count": 3,
   "id": "cea713fe",
   "metadata": {},
   "outputs": [],
   "source": [
    "### Edit\n",
    "sdf_path = 'sdfs/ANI-1E/l3_ani2xrepulsion_ani1e_unopt_permodel.sdf'"
   ]
  },
  {
   "cell_type": "code",
   "execution_count": 4,
   "id": "83c73f99",
   "metadata": {},
   "outputs": [],
   "source": [
    "frame = PandasTools.LoadSDF(sdf_path,smilesName='SMILES',molColName='Molecule', includeFingerprints=False)"
   ]
  },
  {
   "cell_type": "code",
   "execution_count": 5,
   "id": "c0ee3d22",
   "metadata": {},
   "outputs": [],
   "source": [
    "averages = []\n",
    "for x, cell in enumerate(frame['atomic_energies']):\n",
    "    cell = ast.literal_eval(cell)\n",
    "    mods = []\n",
    "    for l in range(len(cell[0][0])):\n",
    "        nums = []\n",
    "        for j in range(len(cell)):\n",
    "            nums.append(cell[j][0][l])\n",
    "        mods.append(nums)\n",
    "    avglst = [sum(np.array(k))/len(cell) for k in mods]\n",
    "    averages.append(avglst)\n",
    "frame['average_atomic_energies']=averages"
   ]
  },
  {
   "cell_type": "code",
   "execution_count": 6,
   "id": "6c6ecdd8",
   "metadata": {},
   "outputs": [
    {
     "data": {
      "text/html": [
       "<div>\n",
       "<style scoped>\n",
       "    .dataframe tbody tr th:only-of-type {\n",
       "        vertical-align: middle;\n",
       "    }\n",
       "\n",
       "    .dataframe tbody tr th {\n",
       "        vertical-align: top;\n",
       "    }\n",
       "\n",
       "    .dataframe thead th {\n",
       "        text-align: right;\n",
       "    }\n",
       "</style>\n",
       "<table border=\"1\" class=\"dataframe\">\n",
       "  <thead>\n",
       "    <tr style=\"text-align: right;\">\n",
       "      <th></th>\n",
       "      <th>energy</th>\n",
       "      <th>atomic_energies</th>\n",
       "      <th>symbols</th>\n",
       "      <th>hybridization</th>\n",
       "      <th>valence</th>\n",
       "      <th>aromatic</th>\n",
       "      <th>neighbors</th>\n",
       "      <th>layer3</th>\n",
       "      <th>ID</th>\n",
       "      <th>SMILES</th>\n",
       "      <th>Molecule</th>\n",
       "      <th>average_atomic_energies</th>\n",
       "    </tr>\n",
       "  </thead>\n",
       "  <tbody>\n",
       "    <tr>\n",
       "      <th>6</th>\n",
       "      <td>[[-217276.9375], [-217691.8125], [-217601.6718...</td>\n",
       "      <td>[[[-304.7176818847656, -23710.552734375, -304....</td>\n",
       "      <td>['H', 'C', 'H', 'H', 'C', 'H', 'H', 'O', 'C', ...</td>\n",
       "      <td>['S', 'SP3', 'S', 'S', 'SP3', 'S', 'S', 'SP3',...</td>\n",
       "      <td>[1, 4, 1, 1, 4, 1, 1, 2, 4, 1, 1, 4, 4, 1, 1, ...</td>\n",
       "      <td>[0, 0, 0, 0, 0, 0, 0, 0, 0, 0, 0, 0, 0, 0, 0, ...</td>\n",
       "      <td>[['C'], ['H', 'H', 'H', 'C'], ['C'], ['C'], ['...</td>\n",
       "      <td>[[-0.0001520974765298888, -0.00613524718210101...</td>\n",
       "      <td>cell tensor([0., 0., 0.]) tensor([0., 0., 0.])...</td>\n",
       "      <td>CCOCC1(C)CC1</td>\n",
       "      <td style=\"text-align: center;\"><img data-content=\"rdkit/molecule\" src=\"data:image/png;base64,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\" alt=\"Mol\"/></td>\n",
       "      <td>[-311.52038138253346, -23720.943917410714, -31...</td>\n",
       "    </tr>\n",
       "    <tr>\n",
       "      <th>7</th>\n",
       "      <td>[[-246617.953125], [-246939.75], [-246828.2968...</td>\n",
       "      <td>[[[-274.96209716796875, -34210.8203125, -23696...</td>\n",
       "      <td>['H', 'N', 'C', 'H', 'N', 'C', 'H', 'N', 'O', ...</td>\n",
       "      <td>['S', 'SP2', 'SP2', 'S', 'SP2', 'SP2', 'S', 'S...</td>\n",
       "      <td>[1, 3, 4, 1, 3, 4, 1, 3, 2, 4, 1, 1, 4, 1, 1]</td>\n",
       "      <td>[0, 0, 0, 0, 0, 0, 0, 0, 0, 0, 0, 0, 0, 0, 0]</td>\n",
       "      <td>[['N'], ['C', 'H'], ['N', 'H', 'N'], ['C'], ['...</td>\n",
       "      <td>[[0.0005113866645842791, -0.011375360190868378...</td>\n",
       "      <td>cell tensor([0., 0., 0.]) tensor([0., 0., 0.])...</td>\n",
       "      <td>N=CN1C=NOCC1</td>\n",
       "      <td style=\"text-align: center;\"><img data-content=\"rdkit/molecule\" src=\"data:image/png;base64,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\" alt=\"Mol\"/></td>\n",
       "      <td>[-310.3492998395647, -34227.06975446428, -2372...</td>\n",
       "    </tr>\n",
       "    <tr>\n",
       "      <th>8</th>\n",
       "      <td>[[-223816.1875], [-224124.703125], [-224232.07...</td>\n",
       "      <td>[[[-278.0164794921875, -34206.73046875, -23695...</td>\n",
       "      <td>['H', 'N', 'C', 'H', 'N', 'C', 'C', 'H', 'H', ...</td>\n",
       "      <td>['S', 'SP2', 'SP2', 'S', 'SP2', 'SP2', 'SP2', ...</td>\n",
       "      <td>[1, 3, 4, 1, 3, 4, 4, 1, 1, 4, 1, 4, 1, 1, 3, ...</td>\n",
       "      <td>[0, 0, 0, 0, 0, 0, 0, 0, 0, 0, 0, 0, 0, 0, 0, ...</td>\n",
       "      <td>[['N'], ['H', 'C'], ['N', 'N', 'H'], ['C'], ['...</td>\n",
       "      <td>[[0.0007691560313105583, -0.010073000565171242...</td>\n",
       "      <td>cell tensor([0., 0., 0.]) tensor([0., 0., 0.])...</td>\n",
       "      <td>C=CC(=C)N(N)C=N</td>\n",
       "      <td style=\"text-align: center;\"><img data-content=\"rdkit/molecule\" src=\"data:image/png;base64,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\" alt=\"Mol\"/></td>\n",
       "      <td>[-311.1011439732143, -34220.87388392857, -2372...</td>\n",
       "    </tr>\n",
       "    <tr>\n",
       "      <th>9</th>\n",
       "      <td>[[-256285.484375], [-256383.515625], [-256392....</td>\n",
       "      <td>[[[-309.28955078125, -23691.63671875, -34219.5...</td>\n",
       "      <td>['H', 'C', 'N', 'N', 'C', 'O', 'N', 'H', 'C', ...</td>\n",
       "      <td>['S', 'SP2', 'SP2', 'SP2', 'SP2', 'SP2', 'SP2'...</td>\n",
       "      <td>[1, 4, 3, 3, 4, 2, 3, 1, 4, 3, 1, 1]</td>\n",
       "      <td>[0, 1, 1, 1, 1, 0, 1, 0, 1, 0, 0, 0]</td>\n",
       "      <td>[['C'], ['H', 'N', 'C'], ['C', 'N'], ['N', 'C'...</td>\n",
       "      <td>[[0.0019140827935189009, -0.006344721186906099...</td>\n",
       "      <td>cell tensor([0., 0., 0.]) tensor([0., 0., 0.])...</td>\n",
       "      <td>Nc1cnnc(=O)[nH]1</td>\n",
       "      <td style=\"text-align: center;\"><img data-content=\"rdkit/molecule\" src=\"data:image/png;base64,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\" alt=\"Mol\"/></td>\n",
       "      <td>[-312.6262730189732, -23720.590680803572, -342...</td>\n",
       "    </tr>\n",
       "    <tr>\n",
       "      <th>10</th>\n",
       "      <td>[[-194001.0], [-194381.6875], [-194253.171875]...</td>\n",
       "      <td>[[[-310.0654602050781, -23709.14453125, -310.0...</td>\n",
       "      <td>['H', 'C', 'H', 'H', 'C', 'H', 'C', 'H', 'C', ...</td>\n",
       "      <td>['S', 'SP3', 'S', 'S', 'SP3', 'S', 'SP3', 'S',...</td>\n",
       "      <td>[1, 4, 1, 1, 4, 1, 4, 1, 4, 1, 1, 4, 1, 1, 4, ...</td>\n",
       "      <td>[0, 0, 0, 0, 0, 0, 0, 0, 0, 0, 0, 0, 0, 0, 0, ...</td>\n",
       "      <td>[['C'], ['H', 'H', 'H', 'C'], ['C'], ['C'], ['...</td>\n",
       "      <td>[[-0.0009645387181080878, -0.00327983219176530...</td>\n",
       "      <td>cell tensor([0., 0., 0.]) tensor([0., 0., 0.])...</td>\n",
       "      <td>C[C@H]1[C@@H]2CC[C@H]1[C@H]2C</td>\n",
       "      <td style=\"text-align: center;\"><img data-content=\"rdkit/molecule\" src=\"data:image/png;base64,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\" alt=\"Mol\"/></td>\n",
       "      <td>[-312.592529296875, -23721.922991071428, -312....</td>\n",
       "    </tr>\n",
       "  </tbody>\n",
       "</table>\n",
       "</div>"
      ],
      "text/plain": [
       "                                               energy  \\\n",
       "6   [[-217276.9375], [-217691.8125], [-217601.6718...   \n",
       "7   [[-246617.953125], [-246939.75], [-246828.2968...   \n",
       "8   [[-223816.1875], [-224124.703125], [-224232.07...   \n",
       "9   [[-256285.484375], [-256383.515625], [-256392....   \n",
       "10  [[-194001.0], [-194381.6875], [-194253.171875]...   \n",
       "\n",
       "                                      atomic_energies  \\\n",
       "6   [[[-304.7176818847656, -23710.552734375, -304....   \n",
       "7   [[[-274.96209716796875, -34210.8203125, -23696...   \n",
       "8   [[[-278.0164794921875, -34206.73046875, -23695...   \n",
       "9   [[[-309.28955078125, -23691.63671875, -34219.5...   \n",
       "10  [[[-310.0654602050781, -23709.14453125, -310.0...   \n",
       "\n",
       "                                              symbols  \\\n",
       "6   ['H', 'C', 'H', 'H', 'C', 'H', 'H', 'O', 'C', ...   \n",
       "7   ['H', 'N', 'C', 'H', 'N', 'C', 'H', 'N', 'O', ...   \n",
       "8   ['H', 'N', 'C', 'H', 'N', 'C', 'C', 'H', 'H', ...   \n",
       "9   ['H', 'C', 'N', 'N', 'C', 'O', 'N', 'H', 'C', ...   \n",
       "10  ['H', 'C', 'H', 'H', 'C', 'H', 'C', 'H', 'C', ...   \n",
       "\n",
       "                                        hybridization  \\\n",
       "6   ['S', 'SP3', 'S', 'S', 'SP3', 'S', 'S', 'SP3',...   \n",
       "7   ['S', 'SP2', 'SP2', 'S', 'SP2', 'SP2', 'S', 'S...   \n",
       "8   ['S', 'SP2', 'SP2', 'S', 'SP2', 'SP2', 'SP2', ...   \n",
       "9   ['S', 'SP2', 'SP2', 'SP2', 'SP2', 'SP2', 'SP2'...   \n",
       "10  ['S', 'SP3', 'S', 'S', 'SP3', 'S', 'SP3', 'S',...   \n",
       "\n",
       "                                              valence  \\\n",
       "6   [1, 4, 1, 1, 4, 1, 1, 2, 4, 1, 1, 4, 4, 1, 1, ...   \n",
       "7       [1, 3, 4, 1, 3, 4, 1, 3, 2, 4, 1, 1, 4, 1, 1]   \n",
       "8   [1, 3, 4, 1, 3, 4, 4, 1, 1, 4, 1, 4, 1, 1, 3, ...   \n",
       "9                [1, 4, 3, 3, 4, 2, 3, 1, 4, 3, 1, 1]   \n",
       "10  [1, 4, 1, 1, 4, 1, 4, 1, 4, 1, 1, 4, 1, 1, 4, ...   \n",
       "\n",
       "                                             aromatic  \\\n",
       "6   [0, 0, 0, 0, 0, 0, 0, 0, 0, 0, 0, 0, 0, 0, 0, ...   \n",
       "7       [0, 0, 0, 0, 0, 0, 0, 0, 0, 0, 0, 0, 0, 0, 0]   \n",
       "8   [0, 0, 0, 0, 0, 0, 0, 0, 0, 0, 0, 0, 0, 0, 0, ...   \n",
       "9                [0, 1, 1, 1, 1, 0, 1, 0, 1, 0, 0, 0]   \n",
       "10  [0, 0, 0, 0, 0, 0, 0, 0, 0, 0, 0, 0, 0, 0, 0, ...   \n",
       "\n",
       "                                            neighbors  \\\n",
       "6   [['C'], ['H', 'H', 'H', 'C'], ['C'], ['C'], ['...   \n",
       "7   [['N'], ['C', 'H'], ['N', 'H', 'N'], ['C'], ['...   \n",
       "8   [['N'], ['H', 'C'], ['N', 'N', 'H'], ['C'], ['...   \n",
       "9   [['C'], ['H', 'N', 'C'], ['C', 'N'], ['N', 'C'...   \n",
       "10  [['C'], ['H', 'H', 'H', 'C'], ['C'], ['C'], ['...   \n",
       "\n",
       "                                               layer3  \\\n",
       "6   [[-0.0001520974765298888, -0.00613524718210101...   \n",
       "7   [[0.0005113866645842791, -0.011375360190868378...   \n",
       "8   [[0.0007691560313105583, -0.010073000565171242...   \n",
       "9   [[0.0019140827935189009, -0.006344721186906099...   \n",
       "10  [[-0.0009645387181080878, -0.00327983219176530...   \n",
       "\n",
       "                                                   ID  \\\n",
       "6   cell tensor([0., 0., 0.]) tensor([0., 0., 0.])...   \n",
       "7   cell tensor([0., 0., 0.]) tensor([0., 0., 0.])...   \n",
       "8   cell tensor([0., 0., 0.]) tensor([0., 0., 0.])...   \n",
       "9   cell tensor([0., 0., 0.]) tensor([0., 0., 0.])...   \n",
       "10  cell tensor([0., 0., 0.]) tensor([0., 0., 0.])...   \n",
       "\n",
       "                           SMILES  \\\n",
       "6                    CCOCC1(C)CC1   \n",
       "7                    N=CN1C=NOCC1   \n",
       "8                 C=CC(=C)N(N)C=N   \n",
       "9                Nc1cnnc(=O)[nH]1   \n",
       "10  C[C@H]1[C@@H]2CC[C@H]1[C@H]2C   \n",
       "\n",
       "                                             Molecule  \\\n",
       "6   <img data-content=\"rdkit/molecule\" src=\"data:i...   \n",
       "7   <img data-content=\"rdkit/molecule\" src=\"data:i...   \n",
       "8   <img data-content=\"rdkit/molecule\" src=\"data:i...   \n",
       "9   <img data-content=\"rdkit/molecule\" src=\"data:i...   \n",
       "10  <img data-content=\"rdkit/molecule\" src=\"data:i...   \n",
       "\n",
       "                              average_atomic_energies  \n",
       "6   [-311.52038138253346, -23720.943917410714, -31...  \n",
       "7   [-310.3492998395647, -34227.06975446428, -2372...  \n",
       "8   [-311.1011439732143, -34220.87388392857, -2372...  \n",
       "9   [-312.6262730189732, -23720.590680803572, -342...  \n",
       "10  [-312.592529296875, -23721.922991071428, -312....  "
      ]
     },
     "execution_count": 6,
     "metadata": {},
     "output_type": "execute_result"
    }
   ],
   "source": [
    "frame.tail()"
   ]
  },
  {
   "cell_type": "code",
   "execution_count": 7,
   "id": "b491c318",
   "metadata": {},
   "outputs": [
    {
     "data": {
      "text/plain": [
       "11"
      ]
     },
     "execution_count": 7,
     "metadata": {},
     "output_type": "execute_result"
    }
   ],
   "source": [
    "len(frame)"
   ]
  },
  {
   "cell_type": "markdown",
   "id": "073e3473",
   "metadata": {},
   "source": [
    "# Reorganizing data per atom"
   ]
  },
  {
   "cell_type": "code",
   "execution_count": 10,
   "id": "ca3f3b07",
   "metadata": {},
   "outputs": [
    {
     "ename": "SyntaxError",
     "evalue": "invalid syntax (<unknown>, line 2)",
     "output_type": "error",
     "traceback": [
      "Traceback \u001b[0;36m(most recent call last)\u001b[0m:\n",
      "\u001b[0m  File \u001b[1;32m~/mambaforge/envs/ani/lib/python3.9/site-packages/IPython/core/interactiveshell.py:3433\u001b[0m in \u001b[1;35mrun_code\u001b[0m\n    exec(code_obj, self.user_global_ns, self.user_ns)\u001b[0m\n",
      "\u001b[0m  Cell \u001b[1;32mIn [10], line 2\u001b[0m\n    print(len(ast.literal_eval(layer)))\u001b[0m\n",
      "\u001b[0m  File \u001b[1;32m~/mambaforge/envs/ani/lib/python3.9/ast.py:62\u001b[0m in \u001b[1;35mliteral_eval\u001b[0m\n    node_or_string = parse(node_or_string, mode='eval')\u001b[0m\n",
      "\u001b[0;36m  File \u001b[0;32m~/mambaforge/envs/ani/lib/python3.9/ast.py:50\u001b[0;36m in \u001b[0;35mparse\u001b[0;36m\n\u001b[0;31m    return compile(source, filename, mode, flags,\u001b[0;36m\n",
      "\u001b[0;36m  File \u001b[0;32m<unknown>:2\u001b[0;36m\u001b[0m\n\u001b[0;31m    [[-0.008863816037774086, -0.0075493501499295235, -0.004687775857746601, -0.004074387717992067, -0.007646104786545038, 0.0008678985177539289, -0.16075558960437775, -0.0055990880355238914, -0.003339204005897045, -0.013655895367264748, 0.007637273520231247, 0.0040572406724095345, -0.16426397860050201, 0.007898005656898022, 0.01053088903427124, 0.011883672326803207, -0.16546668112277985, -0.12655532360076904, -0.1610100120306015, 0.009925633668899536, 0.0013745526084676385, 0.006374018266797066, 0.00084970414172858, -0.00020394875900819898, -0.0061660814099013805, -0.026644622907042503, -0.0029448175337165594, 0.0013594158226624131, 0.001546015846543014, -0.0007313522510230541, -0.0038489713333547115, 0.0052392752841115, -0.16521403193473816, -0.002273552119731903, -0.0072409906424582005, -0.010625939816236496, -0.1691291183233261, -0.00232088565826416, 0.0036039564292877913, 0.0019452593987807631, -0.16836698353290558, -0.0024023884907364845, -0.0031925721559673548, 0.0020325537770986557, -0.006127253174781799, -0.01186225563287735, 0.0019818588625639677, -0.05838596075773239, -0.0014891255414113402, 0.005364332813769579, -0.0011441063834354281, -0.0007821402396075428, -0.004639019258320332, 0.006494046654552221, 0.004727588966488838, -0.007175091188400984, 0.0007745781913399696, -0.16854560375213623, 0.0011061789700761437, 0.005022943019866943, -0.002882197964936495, -0.0018156024161726236, -0.15952320396900177, -0.02627572976052761, 0.0039409552700817585, -0.0012238295748829842, -0.0057110912166535854, 0.008455974981188774, 0.006428450345993042, -0.00582278473302722, -0.0014607746852561831, -0.010036653839051723, 0.0029410964343696833, 0.005952289793640375, -0.16997119784355164, 0.0013159839436411858, -0.16996470093727112, 3.087916775257327e-05, 0.0069138784892857075, -3.568383908714168e-05, -0.16915296018123627, -0.006066511385142803, 0.028022438287734985, -0.00939339678734541, 0.004858911503106356, 0.0042761885561048985, 0.009804650209844112, 0.21340039372444153, -0.16057246923446655, -0.00718752620741725, -0.005845946725457907, -0.16936984658241272, -0.009459758177399635, 0.004954770673066378, -0.0005799810169264674, 0.010843362659215927, -0.004580962471663952, -0.16856375336647034, -0.0012871369253844023, -0.006916413549333811, -0.012209816835820675, -0.004696909803897142, -0.00896459724754095, -0.001285623642615974, -0.1699652522802353, -0.0029318660963326693, 0.0027428490575402975, -0.0060297828167676926, -0.008884161710739136, 0.0028469746466726065, -0.007268565706908703, -0.1256028711795807, 0.002752425614744425, 0.008327113464474678, -0.0038574151694774628, 0.004379442427307367, -0.006879836320877075, -0.16945961117744446, 0.008549762889742851, 0.0003079822054132819, 0.0005602231249213219, 0.008482816629111767, -0.16858896613121033, 0.00752923684194684, -0.004619206301867962, -0.00901493988931179, -0.0011286799563094974, -0.005620068404823542, -0.0075341034680604935, 0.0006066077039577067, 0.006282405462116003, -0.007589180022478104, 0.002940589562058449, -0.15109731256961823, -0.09341388940811157, -0.16628950834274292, -0.007764920592308044, -0.1699107140302658, -0.012762804515659809, -0.007334945723414421, -0.1699686199426651, 0.0021746628917753696, -0.005532856564968824, -0.005993638653308153, 0.004965799394994974, -0.0025754980742931366, -0.16977541148662567, -0.1695665717124939, -0.007404888980090618, -0.0006042962777428329, 0.0017061728285625577, 0.006676689721643925, 4.42570453742519e-05, 0.010004951618611813, -0.010344563983380795, -0.006242489442229271, 0.00239227875135839, 0.001886268611997366, -0.008562548086047173, 0.0033771947491914034], [0.002665750915184617, -0.003606511279940605, -0.0005401525413617492, -0.006704133003950119, -0.006236393004655838, -0.008778853341937065, -0.16917145252227783, -8.596027328167111e-05, 0.005483160261064768, -0.009356447495520115, 0.007970767095685005, 0.006216711830347776, -0.1697273701429367, 0.002836555941030383, 0.00520548177883029, 0.006207529455423355, -0.1674654632806778, -0.16987350583076477, -0.15011192858219147, 0.00904578436166048, 0.0027673521544784307, 0.0022984237875789404, 0.003755092155188322, 0.001072013983502984, 0.0008857434731908143, -0.08981818705797195, -0.0034361255820840597, 0.00692670838907361, 0.010809429921209812, 0.0019372333772480488, -0.002849523676559329, 0.0022892579436302185, -0.1683865189552307, 0.008713816292583942, -0.0023925479035824537, -0.006066013127565384, -0.16867220401763916, -0.003607932012528181, 0.00480505870655179, 0.003290188265964389, -0.1694655865430832, -0.0004277886764612049, 0.002571087796241045, 0.00032165294396691024, -0.000456563284387812, -0.005178500432521105, 0.007385581731796265, -0.061956338584423065, 0.0014242618344724178, 0.003043340053409338, 0.0054978844709694386, 0.002665170468389988, -0.0025091173592954874, -0.0033872362691909075, -0.003193984506651759, -0.006049375049769878, -0.0038580112159252167, -0.16253554821014404, 0.004178697243332863, 0.0012447964400053024, 0.005111264996230602, 0.0027814239729195833, -0.16994206607341766, -0.16833540797233582, -0.0010158591903746128, -0.0027523087337613106, -0.0012945488560944796, 0.0059171756729483604, 0.006182696670293808, -0.0013359212316572666, -0.001721465028822422, -3.055651905015111e-05, 0.0055444310419261456, 0.0017602609004825354, -0.16988985240459442, -0.002004945417866111, -0.16659776866436005, -0.0013908036053180695, 0.002711233915761113, -0.002030385658144951, -0.16968832910060883, -0.0036443094722926617, -0.08883027732372284, -0.003041404066607356, -0.005306466016918421, 0.0005288847023621202, 0.0009710996528156102, 0.3167300522327423, -0.16970302164554596, -0.008493385277688503, -0.002706380793824792, -0.16472111642360687, -0.007300764322280884, 0.000844780239276588, -0.08982381969690323, 0.006417629774659872, -0.004906549584120512, -0.1695709228515625, -0.03730291128158569, 0.0009279656806029379, -0.0051927645690739155, -0.007273320108652115, -0.0035324092023074627, -0.00020837200281675905, -0.16533368825912476, -0.007272519636899233, 0.006111919414252043, -0.008406126871705055, -0.008769306354224682, 0.0027144202031195164, -0.0019898703321814537, -0.08871283382177353, 0.004178463947027922, 0.007861279882490635, -0.0041481927037239075, 0.0014708878006786108, -0.0031071724370121956, -0.1695302426815033, -0.0015051736263558269, -0.003908687736839056, -0.0021568851079791784, 0.0044755227863788605, -0.1694597750902176, -0.0007973703905008733, 0.005893708672374487, -0.0003678235225379467, -0.0004908210248686373, 0.0002963895385619253, -0.0032148435711860657, -0.0021889684721827507, 0.00851069763302803, -0.005618002265691757, 0.007149969227612019, -0.15308111906051636, -0.10676905512809753, -0.16982302069664001, -0.0036991459783166647, -0.16988025605678558, -0.0018857489340007305, 0.006820156238973141, -0.16892632842063904, 0.0038672706577926874, -0.00707649253308773, -0.004691745154559612, 0.004145951010286808, -0.003859561635181308, -0.16918982565402985, -0.16639313101768494, 0.0008866539574228227, -0.0007167121511884034, 0.004345217254012823, 0.004778671078383923, 0.0011001037200912833, 0.008307214826345444, -0.008952999487519264, 0.004984711762517691, 0.002721381140872836, -0.006345015484839678, -0.0038500356022268534, -0.0004974410403519869], [0.0022141265217214823, -0.0038665698375552893, -0.0005499795079231262, -0.007342081982642412, -0.005214042495936155, -0.008386868983507156, -0.16858729720115662, 0.0006727115251123905, 0.0050826002843678, -0.008516209200024605, 0.0064645083621144295, 0.005654997192323208, -0.16965685784816742, 0.002928832545876503, 0.004463064484298229, 0.006479157600551844, -0.16734394431114197, -0.16972430050373077, -0.15486352145671844, 0.00865929201245308, 0.002145060570910573, 0.0018749244045466185, 0.001907392404973507, 0.002360100159421563, 0.0017923584673553705, -0.08772098273038864, -0.0038570999167859554, 0.006475414149463177, 0.010954021476209164, 0.00276613375172019, -0.0027373293414711952, 0.0031681538093835115, -0.16790331900119781, 0.008045018650591373, -0.0019957339391112328, -0.005427433643490076, -0.16773982346057892, -0.003492203075438738, 0.005582879763096571, 0.003779480466619134, -0.16993582248687744, -1.831604095059447e-05, 0.002190968720242381, 0.0010962097439914942, -7.167268631746992e-05, -0.0050052497535943985, 0.006917616818100214, -0.06689678132534027, 0.001691792393103242, 0.002379694487899542, 0.0062843444757163525, 0.0009551228722557425, -0.0019628244917839766, -0.003016249043866992, -0.0031346420291811228, -0.006275882478803396, -0.004757019225507975, -0.16489441692829132, 0.0052492269314825535, 0.001986313844099641, 0.005713311024010181, 0.0030273778829723597, -0.16995865106582642, -0.16797251999378204, -0.0007518291822634637, -0.0015993255656212568, -0.0009437800035811961, 0.005584025289863348, 0.006386196240782738, -0.0015248697018250823, -0.0019365211483091116, 9.00811210158281e-05, 0.005925982259213924, 0.0022803267929702997, -0.16993241012096405, -0.00190358841791749, -0.16706520318984985, 0.0001448178809368983, 0.0024498621933162212, -0.002121157478541136, -0.16949960589408875, -0.004074368625879288, -0.08308027684688568, -0.0032720323652029037, -0.005170817021280527, 0.00043438919237814844, 0.0013696408132091165, 0.3331679403781891, -0.16948458552360535, -0.01036576833575964, -0.001829429529607296, -0.16371303796768188, -0.006977404002100229, -0.00013195087376516312, -0.08995465189218521, 0.0058805374428629875, -0.0035236573312431574, -0.1683078110218048, -0.04040861129760742, 0.0004126784624531865, -0.004603935871273279, -0.007058608345687389, -0.004024283029139042, -0.0007306481711566448, -0.16637775301933289, -0.00813394133001566, 0.006839304231107235, -0.00879290048032999, -0.009202642366290092, 0.0023549976758658886, -0.0021097450517117977, -0.09115108847618103, 0.0030509252101182938, 0.009424770250916481, -0.002750117564573884, 0.001483342843130231, -0.0014933469938114285, -0.16973982751369476, -0.0009664850076660514, -0.0029032111633569, -0.0009732629405334592, 0.0042202710174024105, -0.16938553750514984, -0.0009892991511151195, 0.0062148128636181355, -0.0007506779511459172, -0.000649813620839268, 0.0006945725763216615, -0.003176574595272541, -0.001410133671015501, 0.008339162915945053, -0.006246642675250769, 0.0074708242900669575, -0.1518169641494751, -0.0887281745672226, -0.1694648712873459, -0.0035537672229111195, -0.16994285583496094, -0.0020540717523545027, 0.006682813633233309, -0.1693795919418335, 0.0043031093664467335, -0.006006552372127771, -0.004242605064064264, 0.004778082948178053, -0.003852394875138998, -0.1690514236688614, -0.16750676929950714, 0.0011821324005723, -7.100043876562268e-05, 0.004486860241740942, 0.00596576789394021, 0.0007275157258845866, 0.008174309507012367, -0.008231048472225666, 0.004208914469927549, 0.0025016609579324722, -0.006390964146703482, -0.003862561658024788, -0.0008675879216752946], [-0.00373223889619112, 0.0016890151891857386, -0.0060282060876488686, -0.0038405805826187134, -0.006985871121287346, -0.0016765332547947764, -0.16940145194530487, -0.007827695459127426, -0.001101494301110506, -0.0073923408053815365, 0.008401820436120033, 0.007250582333654165, -0.1696566939353943, 0.00047032753354869783, 0.010684113949537277, 0.010035470128059387, -0.16994114220142365, -0.167123943567276, -0.15218313038349152, 0.009121871553361416, 0.005246758460998535, 0.00591424060985446, 0.006747296545654535, -0.0021423581056296825, -0.006551823578774929, -0.07030379772186279, -0.002003381261602044, 0.0021358283702284098, -0.0010968719143420458, -0.0063866679556667805, -0.00245679565705359, 0.0017034392803907394, -0.16963788866996765, -0.0014556795358657837, -0.003947698976844549, -0.007221721578389406, -0.16986872255802155, -0.0014502030098810792, 0.001399319269694388, -0.0011557317338883877, -0.1694956123828888, -0.0032462445087730885, 0.00693014170974493, 0.00208034785464406, -0.004657872021198273, -0.008486639708280563, 0.005288188345730305, 0.0023647684138268232, -0.002060540486127138, 0.007159929256886244, -0.004294115584343672, 0.00567798363044858, -0.001016466412693262, -0.003337516449391842, -0.0022133593447506428, -0.007452045567333698, 0.0058710891753435135, -0.1699020266532898, 0.003937310539186001, 0.004962922539561987, -0.0013608509907498956, 0.0069280522875487804, -0.16851317882537842, -0.14368431270122528, 0.0013311229413375258, 0.0007908944971859455, -0.0065482077188789845, 0.0014090965269133449, 0.0023021362721920013, -0.0019139889627695084, 0.0009389270562678576, -0.0015290825394913554, -0.0006881491281092167, 0.002414077753201127, -0.169581800699234, 0.004739356227219105, -0.16890057921409607, -0.00631297193467617, 0.004553486593067646, -0.0003561339108273387, -0.16997091472148895, -0.0029834103770554066, -0.1181325614452362, -0.004629009868949652, -0.0033713902812451124, 0.009376998990774155, 0.0028493001591414213, 0.10460803657770157, -0.16992273926734924, -0.0032309566158801317, -0.0031742050778120756, -0.16669179499149323, -0.0013858831953257322, 0.004700976423919201, -0.021575769409537315, 0.008805458433926105, -0.008657511323690414, -0.14837360382080078, -0.0004883285146206617, -0.0022348996717482805, -0.011368404142558575, -0.0018609247636049986, 0.0005390132428146899, -0.0008300566114485264, -0.16786548495292664, -0.0030560034792870283, -0.00018472317606210709, -0.002213591942563653, -0.010086595080792904, 0.00709214573726058, -0.0017910373862832785, -0.0982242152094841, 0.0009680084185674787, 0.004581658635288477, -0.006521484348922968, -0.009874616749584675, -0.007735731545835733, -0.16991740465164185, 0.0013955147005617619, -0.006593122147023678, -0.0071906717494130135, 0.008140968158841133, -0.16986367106437683, 0.006684196647256613, 0.004810111131519079, -0.003282126970589161, -0.007122214417904615, -0.003718678141012788, -0.009894052520394325, -0.008866510353982449, 0.006744285114109516, -0.011860674247145653, 0.008387633599340916, -0.15910199284553528, -0.03672988340258598, -0.1682504415512085, -0.00886031985282898, -0.16717813909053802, -0.009765787050127983, -0.0009573368588462472, -0.16995714604854584, 0.00048794050235301256, 0.0002170252555515617, -0.004910135176032782, 0.003150579519569874, -0.0012928483774885535, -0.16880376636981964, -0.16950707137584686, -0.0038475077599287033, -0.006037869956344366, -0.004620526451617479, 0.003295590402558446, -0.00847381167113781, 0.008451818488538265, -0.007237334735691547, 0.0004877257742919028, -0.003152536926791072, -0.005216008052229881, -0.004720197059214115, 0.010666829533874989], [0.0005994648672640324, -0.0003010828513652086, 0.0003336354566272348, -0.0025098449550569057, 0.0006746581057086587, 0.0010310040088370442, -0.16795559227466583, 0.0031940063927322626, -0.0011121630668640137, -0.001145126181654632, 0.002683516824617982, 7.219297549454495e-05, -0.16635532677173615, 0.004876100458204746, 0.0009616538300178945, -9.353344648843631e-05, -0.16996799409389496, -0.1698860079050064, -0.16019490361213684, 0.001957787200808525, -0.0003410222416277975, 0.00329169281758368, -0.0028497171588242054, 0.002129870466887951, 0.00148174655623734, -0.15984711050987244, -0.001454798737540841, 0.0006217375048436224, 0.0015464439056813717, -0.0012908345088362694, 0.0036972658708691597, 0.002200700342655182, -0.1697092205286026, -0.0011674584820866585, -0.0005776149337179959, 0.0002627482172101736, -0.16992631554603577, 0.0020431037992239, 0.0030168090015649796, 0.0011478402884677052, -0.169949010014534, 0.0004109024303033948, -0.005251873284578323, 0.0004969782312400639, -9.059353760676458e-05, 0.0008577342377975583, 0.0011041770922020078, 0.6702613830566406, -6.142926577012986e-05, 0.0006955369026400149, 0.003952635917812586, -0.004426610190421343, -0.00018860962882172316, 0.004248724784702063, 0.0008789146668277681, 0.0022606197744607925, -0.0033090340439230204, -0.16997112333774567, -0.0025822401512414217, 0.0015921934973448515, -0.001234761206433177, -0.0025334444362670183, -0.16989052295684814, -0.1680992841720581, 0.002312143100425601, -0.002890080213546753, 0.0005625940975733101, -8.186712511815131e-05, 0.0020899197552353144, 0.002657286124303937, 0.00045254052383825183, -0.0008782149525359273, 0.0029777700547128916, 0.0010899839689955115, -0.16947884857654572, -0.0019995812326669693, -0.1696925014257431, 0.002430992666631937, -0.0006451290100812912, -0.11855646967887878, -0.16993927955627441, 0.0005047876038588583, -0.11940252035856247, -0.0017485751304775476, 0.0037236963398754597, -0.0001577496441313997, 0.001697725965641439, -0.13296104967594147, -0.1699681431055069, -0.0023582661524415016, 0.0023698078002780676, -0.16981157660484314, -3.529491732479073e-05, -0.0029812532011419535, -0.14725063741207123, 0.0027964673936367035, -0.001980501925572753, -0.16940073668956757, 0.25821197032928467, -0.0034093374852091074, -0.0004681426507886499, 0.0022667667362838984, -0.001335945795290172, -0.0020344359800219536, -0.16961389780044556, -0.0013496318133547902, 6.021772787789814e-05, 0.0029327552765607834, -0.00030219953623600304, -0.0008976454846560955, 0.002697774674743414, -0.09672228246927261, 0.004486650228500366, 0.003014207584783435, -0.0003486883651930839, 0.00445017172023654, 0.0028816647827625275, -0.16987156867980957, 0.004215977620333433, 0.0016868215752765536, 0.002550066215917468, 0.0003974465071223676, -0.1699705719947815, -8.842285751597956e-05, 0.0016175878699868917, 0.004134152550250292, 0.004186640493571758, 0.002704719314351678, 0.004327292088419199, 0.0020523506682366133, 0.0013737122062593699, 0.0001423622015863657, -0.0024763017427176237, -0.1656867265701294, -0.16968005895614624, -0.16941682994365692, 0.00337635213509202, -0.1699424833059311, 0.001261702855117619, -0.0023457352072000504, -0.16996587812900543, -0.0006293042679317296, 0.0005788133130408823, 0.0012376564554870129, 0.001789555186405778, -0.0011545056477189064, -0.16986215114593506, -0.16996929049491882, 0.001833226066082716, 0.0012365798465907574, 0.00447083031758666, -0.0006518197478726506, 0.005270850379019976, -0.0005140540888532996, 0.0010982983512803912, -0.00013984196993988007, 0.0012091376120224595, 0.0008479560492560267, -0.0028075529262423515, -0.003953031729906797], [-0.0021608166862279177, -0.002414601156488061, -0.005291344597935677, -0.005677764769643545, -0.007850089110434055, -0.00535051804035902, -0.16990654170513153, -0.004884500056505203, 0.0015410945052281022, -0.003126366063952446, 0.005793505348265171, 0.007039834279567003, -0.1657945066690445, 0.0015474758110940456, 0.006641889922320843, 0.011150158010423183, -0.1684565246105194, -0.16985200345516205, -0.16984756290912628, 0.007814227603375912, 0.006110159680247307, 0.007440950255841017, 0.005555985029786825, -0.004168772138655186, -0.005272596143186092, -0.09712915122509003, -0.004475827794522047, 0.002906239591538906, 0.004440526943653822, -0.00425850972533226, -0.0037755880039185286, 0.0052970717661082745, -0.16980744898319244, 0.0034167510457336903, -0.0030391805339604616, -0.006341217551380396, -0.16965121030807495, -0.006166461389511824, 0.006464624777436256, 0.001987679395824671, -0.1695958524942398, -0.0007977442000992596, 0.005075649358332157, 0.0005292263231240213, -0.002731532324105501, -0.0076255640015006065, 0.00509630749002099, 0.18464992940425873, 0.0011280938051640987, 0.0031994266901165247, 0.0008495989022776484, 0.0057016173377633095, -0.001126352697610855, -0.0050138626247644424, -0.0024729291908442974, -0.005541031248867512, 0.00546714523807168, -0.16952843964099884, 0.0005507789901457727, 0.002653475385159254, 0.00371903320774436, 0.005254749208688736, -0.16974307596683502, -0.16789717972278595, 0.0022159675136208534, 0.0010798922739923, -0.005359000060707331, 0.005428713280707598, 0.006869724486023188, 0.00045081134885549545, -0.0011466981377452612, -0.0014167435001581907, 0.006887862458825111, 0.0008649209048599005, -0.16995403170585632, 0.0028886618092656136, -0.16853365302085876, -0.00358025636523962, 0.0022866767831146717, -0.0010860188631340861, -0.16741742193698883, -0.005430780816823244, -0.16623549163341522, -0.003754441160708666, -0.00441590603441, 0.0078038363717496395, 0.0002364680840400979, 0.060019783675670624, -0.16997070610523224, -0.008066864684224129, -0.0002936488308478147, -0.16991391777992249, -0.0031140202190726995, 0.003345347009599209, -0.11282061785459518, 0.00700497068464756, -0.005996069870889187, -0.1622096747159958, -0.0004158679803367704, -0.0016743274172767997, -0.009622432291507721, -0.002566950861364603, -0.0026838474441319704, -0.0011922389967367053, -0.16830767691135406, -0.009786904789507389, 0.004179923329502344, -0.005432017147541046, -0.009134040214121342, 0.003915657754987478, -0.005238959565758705, -0.0717288926243782, 0.006697261705994606, 0.008904173970222473, -0.004505311604589224, -0.007057064678519964, -0.0061682830564677715, -0.16743622720241547, 0.000898284837603569, -0.005967302247881889, -0.008054177276790142, 0.008241296745836735, -0.1697603017091751, 0.00582160335034132, 0.0072537572123110294, -0.0003841973084490746, -0.002351873554289341, -0.004106524400413036, -0.008185025304555893, -0.003791504306718707, 0.005710773169994354, -0.01130162738263607, 0.008695168420672417, -0.15036441385746002, -0.02754657343029976, -0.1698479950428009, -0.007506713271141052, -0.1693093478679657, -0.006818244233727455, 0.0021390169858932495, -0.16352063417434692, 0.005324627738445997, -0.0015012022340670228, -0.002326184418052435, 0.004956187214702368, -0.004644774366170168, -0.16829326748847961, -0.16943027079105377, -0.0008576387190259993, -0.00505613349378109, 0.0007357702706940472, 0.005909215658903122, -0.0009389573824591935, 0.003823570441454649, -0.006738673895597458, 0.003765755333006382, 0.003555421717464924, -0.008843859657645226, -0.004595321603119373, 0.008708600886166096]]\u001b[0m\n\u001b[0m    ^\u001b[0m\n\u001b[0;31mSyntaxError\u001b[0m\u001b[0;31m:\u001b[0m invalid syntax\n"
     ]
    }
   ],
   "source": [
    "for layer in frame['layer3']:\n",
    "    print(len(ast.literal_eval(layer)))"
   ]
  },
  {
   "cell_type": "code",
   "execution_count": 8,
   "id": "5d4b95d5",
   "metadata": {},
   "outputs": [],
   "source": [
    "symbols = []\n",
    "hybridization = []\n",
    "smiles = []\n",
    "neighbors = []\n",
    "for sym, hyb, smi, n  in zip(frame['symbols'], frame['hybridization'], frame['SMILES'], frame['neighbors']):\n",
    "    symbols.append(ast.literal_eval(sym))\n",
    "    hybridization.append(ast.literal_eval(hyb))\n",
    "    smiles.append(smi)\n",
    "    neighbors.append(ast.literal_eval(n))\n",
    "    "
   ]
  },
  {
   "cell_type": "code",
   "execution_count": 9,
   "id": "8f6d737a",
   "metadata": {},
   "outputs": [],
   "source": [
    "atomic_energies = {}\n",
    "for c in range(8):\n",
    "    atomic_energies[c]=[]\n",
    "\n",
    "for i, a in enumerate(frame['atomic_energies']):\n",
    "    for m, ae in enumerate(ast.literal_eval(a)):\n",
    "        atomic_energies[m].append(ae)"
   ]
  },
  {
   "cell_type": "code",
   "execution_count": 10,
   "id": "1b77a37b",
   "metadata": {},
   "outputs": [
    {
     "name": "stdout",
     "output_type": "stream",
     "text": [
      "20\n",
      "20\n"
     ]
    }
   ],
   "source": [
    "print(len(symbols[0]))\n",
    "print(len(neighbors[0]))"
   ]
  },
  {
   "cell_type": "code",
   "execution_count": 12,
   "id": "69d67c0e",
   "metadata": {},
   "outputs": [],
   "source": [
    "SMI_dict={}\n",
    "for i in range(8):\n",
    "    SMI_dict[i] = {}\n",
    "    for sym in symbols:\n",
    "        for s in sym:\n",
    "            SMI_dict[i][s] = {}\n",
    "\n",
    "            \n",
    "for i in range(8):\n",
    "    for sym, hyb in zip(symbols, hybridization):\n",
    "        for s, h in zip(sym, hyb):\n",
    "            SMI_dict[i][s][h]={'E':[], 'SMILES':[], 'Neighbors':[]}\n",
    "\n",
    "for i in range(8):\n",
    "    for sym, hyb , ae, smi, neigh in zip(symbols, hybridization, atomic_energies[i], smiles, neighbors):\n",
    "        for s, h, e, n in zip(sym, hyb, ae[0], neigh):\n",
    "            SMI_dict[i][s][h]['E'].append(e)\n",
    "            SMI_dict[i][s][h]['SMILES'].append(smi)\n",
    "            SMI_dict[i][s][h]['Neighbors'].append(n)"
   ]
  },
  {
   "cell_type": "code",
   "execution_count": null,
   "id": "6416e3b8",
   "metadata": {},
   "outputs": [],
   "source": [
    "SMI_dict['Average'] = {}\n",
    "for sym in symbols:\n",
    "    for s in sym:\n",
    "        SMI_dict['Average'][s] = {}\n",
    "\n",
    "for sym, hyb, neigh in zip(symbols, hybridization, neighbors):\n",
    "    for s, h, n in zip(sym, hyb, neigh):\n",
    "        SMI_dict['Average'][s][h]={'E':[], 'SMILES':[], 'Neighbors':[]}\n",
    "        \n",
    "for sym, hyb , ae, smi, neigh in zip(symbols, hybridization, frame['average_atomic_energies'], smiles, neighbors):\n",
    "    for s, h, e, n in zip(sym, hyb, ae, neigh):\n",
    "        SMI_dict['Average'][s][h]['E'].append(e)\n",
    "        SMI_dict['Average'][s][h]['SMILES'].append(smi)\n",
    "        SMI_dict['Average'][s][h]['Neighbors'].append(n)"
   ]
  },
  {
   "cell_type": "markdown",
   "id": "a41382d6",
   "metadata": {},
   "source": [
    "# Extract specific atom data"
   ]
  },
  {
   "cell_type": "code",
   "execution_count": null,
   "id": "81003b0c",
   "metadata": {},
   "outputs": [],
   "source": [
    "### Edit\n",
    "model = 'ANI2xrepulsion'\n",
    "atomtype = 'C'\n",
    "dataset = 'ANI1-E'\n",
    "num_models = 8"
   ]
  },
  {
   "cell_type": "code",
   "execution_count": null,
   "id": "6658f83f",
   "metadata": {},
   "outputs": [],
   "source": [
    "data_atom = atom_df(atomtype)"
   ]
  },
  {
   "cell_type": "code",
   "execution_count": null,
   "id": "cf3bb7a3",
   "metadata": {},
   "outputs": [],
   "source": [
    "data_atom.head()"
   ]
  },
  {
   "cell_type": "code",
   "execution_count": null,
   "id": "e1aca74d",
   "metadata": {},
   "outputs": [],
   "source": [
    "len(data_atom)"
   ]
  },
  {
   "cell_type": "code",
   "execution_count": null,
   "id": "90f10fb3",
   "metadata": {},
   "outputs": [],
   "source": [
    "data_atom['E'].isna().sum()"
   ]
  },
  {
   "cell_type": "code",
   "execution_count": null,
   "id": "5ee4fc05",
   "metadata": {},
   "outputs": [],
   "source": [
    "data_atom.to_csv('/data/khuddzu/hybridization/03-2023_hyb_per_model/csv/{}/{}_{}_df_per_atom_{}.csv'.format(dataset, \n",
    "                                                                                                            model, \n",
    "                                                                                                            atomtype, \n",
    "                                                                                                            dataset))"
   ]
  },
  {
   "cell_type": "code",
   "execution_count": null,
   "id": "ff28e8c7",
   "metadata": {},
   "outputs": [],
   "source": []
  }
 ],
 "metadata": {
  "kernelspec": {
   "display_name": "Python 3 (ipykernel)",
   "language": "python",
   "name": "python3"
  },
  "language_info": {
   "codemirror_mode": {
    "name": "ipython",
    "version": 3
   },
   "file_extension": ".py",
   "mimetype": "text/x-python",
   "name": "python",
   "nbconvert_exporter": "python",
   "pygments_lexer": "ipython3",
   "version": "3.8.18"
  }
 },
 "nbformat": 4,
 "nbformat_minor": 5
}
