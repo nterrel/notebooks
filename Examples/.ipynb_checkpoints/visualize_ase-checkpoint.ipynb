{
 "cells": [
  {
   "cell_type": "code",
   "execution_count": 9,
   "id": "7562a93d-ed2c-474e-9ff1-0922464f7873",
   "metadata": {},
   "outputs": [
    {
     "data": {
      "application/vnd.jupyter.widget-view+json": {
       "model_id": "c61abbf0c54542ba9d24675b16af945c",
       "version_major": 2,
       "version_minor": 0
      },
      "text/plain": []
     },
     "metadata": {},
     "output_type": "display_data"
    }
   ],
   "source": [
    "import torch\n",
    "import torchani\n",
    "from torchani.datasets import ANIDataset\n",
    "import ase\n",
    "import nglview as nv"
   ]
  },
  {
   "cell_type": "code",
   "execution_count": 10,
   "id": "d78e71ef-cf15-41f9-9325-457d1cbe6177",
   "metadata": {},
   "outputs": [],
   "source": [
    "anidr = torchani.models.ANIdr().double()\n",
    "ds = ANIDataset('/home/nick/First_DSs/ANI-1x-first-conformers.h5')\n",
    "mol = (ds['C2H3N7O2']['species'], ds['C2H3N7O2']['coordinates'].double())"
   ]
  },
  {
   "cell_type": "code",
   "execution_count": 12,
   "id": "87b541f8-6093-4b18-8697-85c49288c850",
   "metadata": {},
   "outputs": [
    {
     "name": "stdout",
     "output_type": "stream",
     "text": [
      "Highlighted atom indices: [2, 11]\n"
     ]
    },
    {
     "data": {
      "application/vnd.jupyter.widget-view+json": {
       "model_id": "de3e1fa80a9c4fe1b946dcbfbe253ae7",
       "version_major": 2,
       "version_minor": 0
      },
      "text/plain": [
       "NGLWidget()"
      ]
     },
     "metadata": {},
     "output_type": "display_data"
    }
   ],
   "source": [
    "test_mol = ase.Atoms(numbers=mol[0].squeeze(), positions=mol[1].squeeze())\n",
    "test_species_coord = (torch.tensor(test_mol.numbers).unsqueeze(0), torch.tensor(test_mol.positions, requires_grad=True).unsqueeze(0))\n",
    "\n",
    "relative_stdev = anidr.force_qbc(test_species_coord).relative_stdev\n",
    "highlight_indices = [i for i, val in enumerate(relative_stdev.squeeze()) if val > 0.5]\n",
    "print('Highlighted atom indices:', highlight_indices)\n",
    "\n",
    "viewer2 = nv.show_ase(test_mol)\n",
    "viewer2.add_representation('ball+stick', selection=highlight_indices, color='purple', radius=0.4) # You can adjust the radius as per your need\n",
    "viewer2.display()"
   ]
  },
  {
   "cell_type": "code",
   "execution_count": null,
   "id": "48439c9c-ad16-423c-a754-d48619c2beba",
   "metadata": {},
   "outputs": [],
   "source": []
  },
  {
   "cell_type": "code",
   "execution_count": null,
   "id": "01857d1c-0a00-4109-8e6d-af4577c6f38e",
   "metadata": {},
   "outputs": [],
   "source": []
  }
 ],
 "metadata": {
  "kernelspec": {
   "display_name": "Python 3 (ipykernel)",
   "language": "python",
   "name": "python3"
  },
  "language_info": {
   "codemirror_mode": {
    "name": "ipython",
    "version": 3
   },
   "file_extension": ".py",
   "mimetype": "text/x-python",
   "name": "python",
   "nbconvert_exporter": "python",
   "pygments_lexer": "ipython3",
   "version": "3.8.18"
  }
 },
 "nbformat": 4,
 "nbformat_minor": 5
}
