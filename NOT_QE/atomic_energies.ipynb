{
 "cells": [
  {
   "cell_type": "markdown",
   "metadata": {},
   "source": [
    "## What I'm looking to do here:\n",
    "\n",
    "Get ANI to provide all E_i from each of the models in the ensemble, use those E_i to get a *rho* for each atom specifically \n"
   ]
  },
  {
   "cell_type": "code",
   "execution_count": 4,
   "metadata": {},
   "outputs": [],
   "source": [
    "import torch\n",
    "import torchani\n",
    "from torchani.datasets import ANIDataset\n",
    "from pathlib import Path\n",
    "import numpy as np\n",
    "import pandas as pd\n",
    "import matplotlib.pyplot as plt\n",
    "import math\n",
    "from torchani.units import hartree2kcalmol\n",
    "from tqdm import tqdm"
   ]
  },
  {
   "cell_type": "code",
   "execution_count": 5,
   "metadata": {},
   "outputs": [
    {
     "name": "stderr",
     "output_type": "stream",
     "text": [
      "/home/nick/TorchANI_sandbox/torchani/models.py:103: UserWarning: The default is now to accept atomic numbers as indexes, do not set periodic_table_index=True. if you need to accept raw indices set periodic_table_index=False\n",
      "  warnings.warn(\"The default is now to accept atomic numbers as indexes,\"\n"
     ]
    }
   ],
   "source": [
    "ds_path = Path('/home/nick/First_DSs/ANI-1x-first-conformers.h5')\n",
    "device = torch.device('cpu')\n",
    "ani2x = torchani.models.ANI2x().to(device)\n",
    "ds = ANIDataset(locations=ds_path,names='1x-first')"
   ]
  },
  {
   "cell_type": "code",
   "execution_count": 3,
   "metadata": {},
   "outputs": [
    {
     "name": "stderr",
     "output_type": "stream",
     "text": [
      "16it [00:00, 76.50it/s]"
     ]
    },
    {
     "name": "stdout",
     "output_type": "stream",
     "text": [
      "0.4161089740642007\n",
      "0.31073059337839565\n",
      "1.1807558003570449\n",
      "0.5813912605391308\n",
      "0.6290024616425082\n",
      "1.0187918881428448\n",
      "1.025352955085128\n",
      "0.41617190811869975\n",
      "0.5857005813457454\n",
      "0.5874868054125861\n",
      "0.761888137764609\n",
      "0.7883823885105212\n",
      "0.3459150033688249\n",
      "0.4016952492909864\n",
      "0.6017598325781799\n",
      "1.8037697744178773\n"
     ]
    },
    {
     "name": "stderr",
     "output_type": "stream",
     "text": [
      "\r",
      "24it [00:00, 74.80it/s]"
     ]
    },
    {
     "name": "stdout",
     "output_type": "stream",
     "text": [
      "1.1618811359378511\n",
      "0.5105773364444445\n",
      "0.5783193992986062\n",
      "0.42402843769065063\n",
      "0.4441825298875532\n",
      "0.7756200343339152\n",
      "1.0639680928775752\n",
      "0.47374655990004544\n",
      "0.8317141834855397\n",
      "1.3566655045689586\n",
      "0.3310565397403696\n",
      "0.6966596018752478\n",
      "0.6936450497069861\n",
      "1.6593289968001355\n",
      "0.46249922528960963\n"
     ]
    },
    {
     "name": "stderr",
     "output_type": "stream",
     "text": [
      "40it [00:00, 73.21it/s]"
     ]
    },
    {
     "name": "stdout",
     "output_type": "stream",
     "text": [
      "0.7062196609699966\n",
      "0.97710938179049\n",
      "0.8452104152146672\n",
      "0.6282940791393424\n",
      "0.6031511755868726\n",
      "0.8486743815480805\n",
      "0.43884292418525983\n",
      "2.0467167019890793\n",
      "1.4269050230101037\n",
      "1.019819871909427\n",
      "0.39538551678225403\n",
      "1.2124536710333988\n",
      "0.6600526557928164\n",
      "0.8742468657244409\n",
      "0.648360874534009\n"
     ]
    },
    {
     "name": "stderr",
     "output_type": "stream",
     "text": [
      "56it [00:00, 70.57it/s]"
     ]
    },
    {
     "name": "stdout",
     "output_type": "stream",
     "text": [
      "0.7184285022842238\n",
      "0.6066156167564486\n",
      "1.850053589291104\n",
      "0.9491504441116634\n",
      "0.861783512226958\n",
      "1.0094933541962174\n",
      "3.267975588721825\n",
      "0.9542149735722665\n",
      "1.2178859428391537\n",
      "2.4830191065999765\n",
      "0.9411130019616895\n",
      "0.8756539879040817\n",
      "0.4625558768964164\n",
      "0.9511354053755612\n",
      "1.1416856234172097\n"
     ]
    },
    {
     "name": "stderr",
     "output_type": "stream",
     "text": [
      "72it [00:00, 70.43it/s]"
     ]
    },
    {
     "name": "stdout",
     "output_type": "stream",
     "text": [
      "0.4598865306185032\n",
      "1.0173510891215045\n",
      "1.0214624397740943\n",
      "0.7156520987145308\n",
      "1.1025613151548168\n",
      "0.9817095945356017\n",
      "1.0349140369039196\n",
      "1.4374402494797889\n",
      "0.2909658485720517\n",
      "0.3862703061203223\n",
      "1.0433837991171846\n",
      "1.2051726794166084\n",
      "1.0159597461128118\n",
      "1.1602793309314663\n"
     ]
    },
    {
     "name": "stderr",
     "output_type": "stream",
     "text": [
      "87it [00:01, 66.59it/s]"
     ]
    },
    {
     "name": "stdout",
     "output_type": "stream",
     "text": [
      "1.6444866410753562\n",
      "0.5654947685329574\n",
      "0.7312934210719926\n",
      "0.6567106127756641\n",
      "0.8426030533189275\n",
      "0.9314327727918961\n",
      "1.0188947449608767\n",
      "1.1044603675991083\n",
      "1.5361036067289908\n",
      "0.7977626673288658\n",
      "1.4605077902681374\n",
      "0.9584605202296325\n",
      "0.8197865912831189\n"
     ]
    },
    {
     "name": "stderr",
     "output_type": "stream",
     "text": [
      "93it [00:01, 70.11it/s]\n"
     ]
    },
    {
     "name": "stdout",
     "output_type": "stream",
     "text": [
      "0.7658659498778786\n",
      "0.9000823360832697\n",
      "1.1610691660994799\n",
      "0.9072133525243358\n",
      "0.8164566748510471\n"
     ]
    },
    {
     "ename": "KeyboardInterrupt",
     "evalue": "",
     "output_type": "error",
     "traceback": [
      "\u001b[0;31m---------------------------------------------------------------------------\u001b[0m",
      "\u001b[0;31mKeyboardInterrupt\u001b[0m                         Traceback (most recent call last)",
      "Cell \u001b[0;32mIn [3], line 14\u001b[0m\n\u001b[1;32m     12\u001b[0m \u001b[38;5;28;01massert\u001b[39;00m \u001b[38;5;28mlen\u001b[39m(species) \u001b[38;5;241m==\u001b[39m \u001b[38;5;28mlen\u001b[39m(coordinates)\n\u001b[1;32m     13\u001b[0m ani_input \u001b[38;5;241m=\u001b[39m (species,coordinates) \n\u001b[0;32m---> 14\u001b[0m _, energies \u001b[38;5;241m=\u001b[39m \u001b[43mani2x\u001b[49m\u001b[38;5;241;43m.\u001b[39;49m\u001b[43mmembers_energies\u001b[49m\u001b[43m(\u001b[49m\u001b[43mani_input\u001b[49m\u001b[43m)\u001b[49m\n\u001b[1;32m     15\u001b[0m stdev \u001b[38;5;241m=\u001b[39m energies\u001b[38;5;241m.\u001b[39mstd(\u001b[38;5;241m0\u001b[39m)\n\u001b[1;32m     16\u001b[0m qbc_factor \u001b[38;5;241m=\u001b[39m (stdev \u001b[38;5;241m/\u001b[39m math\u001b[38;5;241m.\u001b[39msqrt(\u001b[38;5;28mlen\u001b[39m(species[\u001b[38;5;241m0\u001b[39m])))\u001b[38;5;241m.\u001b[39mtolist()\n",
      "File \u001b[0;32m~/TorchANI_sandbox/torchani/models.py:257\u001b[0m, in \u001b[0;36mBuiltinModel.members_energies\u001b[0;34m(self, species_coordinates, cell, pbc)\u001b[0m\n\u001b[1;32m    245\u001b[0m \u001b[38;5;124;03m\"\"\"Calculates predicted energies of all member modules\u001b[39;00m\n\u001b[1;32m    246\u001b[0m \n\u001b[1;32m    247\u001b[0m \u001b[38;5;124;03mArgs:\u001b[39;00m\n\u001b[0;32m   (...)\u001b[0m\n\u001b[1;32m    254\u001b[0m \u001b[38;5;124;03m        shape of energies is (M, C), where M is the number of modules in the ensemble.\u001b[39;00m\n\u001b[1;32m    255\u001b[0m \u001b[38;5;124;03m\"\"\"\u001b[39;00m\n\u001b[1;32m    256\u001b[0m \u001b[38;5;28;01massert\u001b[39;00m \u001b[38;5;28misinstance\u001b[39m(\u001b[38;5;28mself\u001b[39m\u001b[38;5;241m.\u001b[39mneural_networks, Ensemble), \u001b[38;5;124m\"\u001b[39m\u001b[38;5;124mYour model doesn\u001b[39m\u001b[38;5;124m'\u001b[39m\u001b[38;5;124mt have an ensemble of networks\u001b[39m\u001b[38;5;124m\"\u001b[39m\n\u001b[0;32m--> 257\u001b[0m species, members_energies \u001b[38;5;241m=\u001b[39m \u001b[38;5;28;43mself\u001b[39;49m\u001b[38;5;241;43m.\u001b[39;49m\u001b[43matomic_energies\u001b[49m\u001b[43m(\u001b[49m\u001b[43mspecies_coordinates\u001b[49m\u001b[43m,\u001b[49m\u001b[43m \u001b[49m\u001b[43mcell\u001b[49m\u001b[38;5;241;43m=\u001b[39;49m\u001b[43mcell\u001b[49m\u001b[43m,\u001b[49m\u001b[43m \u001b[49m\u001b[43mpbc\u001b[49m\u001b[38;5;241;43m=\u001b[39;49m\u001b[43mpbc\u001b[49m\u001b[43m,\u001b[49m\u001b[43m \u001b[49m\u001b[43maverage\u001b[49m\u001b[38;5;241;43m=\u001b[39;49m\u001b[38;5;28;43;01mFalse\u001b[39;49;00m\u001b[43m)\u001b[49m\n\u001b[1;32m    258\u001b[0m \u001b[38;5;28;01mreturn\u001b[39;00m SpeciesEnergies(species, members_energies\u001b[38;5;241m.\u001b[39msum(\u001b[38;5;241m-\u001b[39m\u001b[38;5;241m1\u001b[39m))\n",
      "File \u001b[0;32m~/TorchANI_sandbox/torchani/models.py:201\u001b[0m, in \u001b[0;36mBuiltinModel.atomic_energies\u001b[0;34m(self, species_coordinates, cell, pbc, average, with_SAEs)\u001b[0m\n\u001b[1;32m    199\u001b[0m \u001b[38;5;28;01massert\u001b[39;00m \u001b[38;5;28misinstance\u001b[39m(\u001b[38;5;28mself\u001b[39m\u001b[38;5;241m.\u001b[39mneural_networks, (Ensemble, ANIModel))\n\u001b[1;32m    200\u001b[0m species_coordinates \u001b[38;5;241m=\u001b[39m \u001b[38;5;28mself\u001b[39m\u001b[38;5;241m.\u001b[39m_maybe_convert_species(species_coordinates)\n\u001b[0;32m--> 201\u001b[0m species_aevs \u001b[38;5;241m=\u001b[39m \u001b[38;5;28;43mself\u001b[39;49m\u001b[38;5;241;43m.\u001b[39;49m\u001b[43maev_computer\u001b[49m\u001b[43m(\u001b[49m\u001b[43mspecies_coordinates\u001b[49m\u001b[43m,\u001b[49m\u001b[43m \u001b[49m\u001b[43mcell\u001b[49m\u001b[38;5;241;43m=\u001b[39;49m\u001b[43mcell\u001b[49m\u001b[43m,\u001b[49m\u001b[43m \u001b[49m\u001b[43mpbc\u001b[49m\u001b[38;5;241;43m=\u001b[39;49m\u001b[43mpbc\u001b[49m\u001b[43m)\u001b[49m\n\u001b[1;32m    202\u001b[0m atomic_energies \u001b[38;5;241m=\u001b[39m \u001b[38;5;28mself\u001b[39m\u001b[38;5;241m.\u001b[39mneural_networks\u001b[38;5;241m.\u001b[39m_atomic_energies(species_aevs)\n\u001b[1;32m    204\u001b[0m \u001b[38;5;28;01mif\u001b[39;00m atomic_energies\u001b[38;5;241m.\u001b[39mdim() \u001b[38;5;241m==\u001b[39m \u001b[38;5;241m2\u001b[39m:\n",
      "File \u001b[0;32m~/miniconda3/envs/cuaev/lib/python3.9/site-packages/torch/nn/modules/module.py:1130\u001b[0m, in \u001b[0;36mModule._call_impl\u001b[0;34m(self, *input, **kwargs)\u001b[0m\n\u001b[1;32m   1126\u001b[0m \u001b[38;5;66;03m# If we don't have any hooks, we want to skip the rest of the logic in\u001b[39;00m\n\u001b[1;32m   1127\u001b[0m \u001b[38;5;66;03m# this function, and just call forward.\u001b[39;00m\n\u001b[1;32m   1128\u001b[0m \u001b[38;5;28;01mif\u001b[39;00m \u001b[38;5;129;01mnot\u001b[39;00m (\u001b[38;5;28mself\u001b[39m\u001b[38;5;241m.\u001b[39m_backward_hooks \u001b[38;5;129;01mor\u001b[39;00m \u001b[38;5;28mself\u001b[39m\u001b[38;5;241m.\u001b[39m_forward_hooks \u001b[38;5;129;01mor\u001b[39;00m \u001b[38;5;28mself\u001b[39m\u001b[38;5;241m.\u001b[39m_forward_pre_hooks \u001b[38;5;129;01mor\u001b[39;00m _global_backward_hooks\n\u001b[1;32m   1129\u001b[0m         \u001b[38;5;129;01mor\u001b[39;00m _global_forward_hooks \u001b[38;5;129;01mor\u001b[39;00m _global_forward_pre_hooks):\n\u001b[0;32m-> 1130\u001b[0m     \u001b[38;5;28;01mreturn\u001b[39;00m \u001b[43mforward_call\u001b[49m\u001b[43m(\u001b[49m\u001b[38;5;241;43m*\u001b[39;49m\u001b[38;5;28;43minput\u001b[39;49m\u001b[43m,\u001b[49m\u001b[43m \u001b[49m\u001b[38;5;241;43m*\u001b[39;49m\u001b[38;5;241;43m*\u001b[39;49m\u001b[43mkwargs\u001b[49m\u001b[43m)\u001b[49m\n\u001b[1;32m   1131\u001b[0m \u001b[38;5;66;03m# Do not call functions when jit is used\u001b[39;00m\n\u001b[1;32m   1132\u001b[0m full_backward_hooks, non_full_backward_hooks \u001b[38;5;241m=\u001b[39m [], []\n",
      "File \u001b[0;32m~/TorchANI_sandbox/torchani/aev/aev_computer.py:306\u001b[0m, in \u001b[0;36mAEVComputer.forward\u001b[0;34m(self, input_, cell, pbc)\u001b[0m\n\u001b[1;32m    302\u001b[0m \u001b[38;5;66;03m# WARNING: The coordinates that are input into the neighborlist are **not** assumed to be\u001b[39;00m\n\u001b[1;32m    303\u001b[0m \u001b[38;5;66;03m# mapped into the central cell for pbc calculations,\u001b[39;00m\n\u001b[1;32m    304\u001b[0m \u001b[38;5;66;03m# and **in general are not**\u001b[39;00m\n\u001b[1;32m    305\u001b[0m atom_index12, _, diff_vector, distances \u001b[38;5;241m=\u001b[39m \u001b[38;5;28mself\u001b[39m\u001b[38;5;241m.\u001b[39mneighborlist(species, coordinates, cell, pbc)\n\u001b[0;32m--> 306\u001b[0m aev \u001b[38;5;241m=\u001b[39m \u001b[38;5;28;43mself\u001b[39;49m\u001b[38;5;241;43m.\u001b[39;49m\u001b[43m_compute_aev\u001b[49m\u001b[43m(\u001b[49m\u001b[43mspecies\u001b[49m\u001b[43m,\u001b[49m\u001b[43m \u001b[49m\u001b[43matom_index12\u001b[49m\u001b[43m,\u001b[49m\u001b[43m \u001b[49m\u001b[43mdiff_vector\u001b[49m\u001b[43m,\u001b[49m\u001b[43m \u001b[49m\u001b[43mdistances\u001b[49m\u001b[43m)\u001b[49m\n\u001b[1;32m    307\u001b[0m \u001b[38;5;28;01mreturn\u001b[39;00m SpeciesAEV(species, aev)\n",
      "File \u001b[0;32m~/TorchANI_sandbox/torchani/aev/aev_computer.py:320\u001b[0m, in \u001b[0;36mAEVComputer._compute_aev\u001b[0;34m(self, species, atom_index12, diff_vector, distances)\u001b[0m\n\u001b[1;32m    316\u001b[0m \u001b[38;5;28;01mdef\u001b[39;00m \u001b[38;5;21m_compute_aev\u001b[39m(\u001b[38;5;28mself\u001b[39m, species: Tensor,\n\u001b[1;32m    317\u001b[0m         atom_index12: Tensor, diff_vector: Tensor, distances: Tensor) \u001b[38;5;241m-\u001b[39m\u001b[38;5;241m>\u001b[39m Tensor:\n\u001b[1;32m    319\u001b[0m     species12 \u001b[38;5;241m=\u001b[39m species\u001b[38;5;241m.\u001b[39mflatten()[atom_index12]\n\u001b[0;32m--> 320\u001b[0m     radial_aev \u001b[38;5;241m=\u001b[39m \u001b[38;5;28;43mself\u001b[39;49m\u001b[38;5;241;43m.\u001b[39;49m\u001b[43m_compute_radial_aev\u001b[49m\u001b[43m(\u001b[49m\u001b[43mspecies\u001b[49m\u001b[38;5;241;43m.\u001b[39;49m\u001b[43mshape\u001b[49m\u001b[43m[\u001b[49m\u001b[38;5;241;43m0\u001b[39;49m\u001b[43m]\u001b[49m\u001b[43m,\u001b[49m\u001b[43m \u001b[49m\u001b[43mspecies\u001b[49m\u001b[38;5;241;43m.\u001b[39;49m\u001b[43mshape\u001b[49m\u001b[43m[\u001b[49m\u001b[38;5;241;43m1\u001b[39;49m\u001b[43m]\u001b[49m\u001b[43m,\u001b[49m\u001b[43m \u001b[49m\u001b[43mspecies12\u001b[49m\u001b[43m,\u001b[49m\n\u001b[1;32m    321\u001b[0m \u001b[43m                                          \u001b[49m\u001b[43mdistances\u001b[49m\u001b[43m,\u001b[49m\u001b[43m \u001b[49m\u001b[43matom_index12\u001b[49m\u001b[43m)\u001b[49m\n\u001b[1;32m    323\u001b[0m     \u001b[38;5;66;03m# Rca is usually much smaller than Rcr, using neighbor list with\u001b[39;00m\n\u001b[1;32m    324\u001b[0m     \u001b[38;5;66;03m# cutoff = Rcr is a waste of resources. Now we will get a smaller neighbor\u001b[39;00m\n\u001b[1;32m    325\u001b[0m     \u001b[38;5;66;03m# list that only cares about atoms with distances <= Rca\u001b[39;00m\n\u001b[1;32m    326\u001b[0m     even_closer_indices \u001b[38;5;241m=\u001b[39m (distances \u001b[38;5;241m<\u001b[39m\u001b[38;5;241m=\u001b[39m \u001b[38;5;28mself\u001b[39m\u001b[38;5;241m.\u001b[39mangular_terms\u001b[38;5;241m.\u001b[39mcutoff)\u001b[38;5;241m.\u001b[39mnonzero()\u001b[38;5;241m.\u001b[39mflatten()\n",
      "File \u001b[0;32m~/TorchANI_sandbox/torchani/aev/aev_computer.py:361\u001b[0m, in \u001b[0;36mAEVComputer._compute_radial_aev\u001b[0;34m(self, num_molecules, num_atoms, species12, distances, atom_index12)\u001b[0m\n\u001b[1;32m    358\u001b[0m \u001b[38;5;28;01mdef\u001b[39;00m \u001b[38;5;21m_compute_radial_aev\u001b[39m(\u001b[38;5;28mself\u001b[39m, num_molecules: \u001b[38;5;28mint\u001b[39m, num_atoms: \u001b[38;5;28mint\u001b[39m, species12: Tensor, distances: Tensor,\n\u001b[1;32m    359\u001b[0m                         atom_index12: Tensor) \u001b[38;5;241m-\u001b[39m\u001b[38;5;241m>\u001b[39m Tensor:\n\u001b[0;32m--> 361\u001b[0m     radial_terms_ \u001b[38;5;241m=\u001b[39m \u001b[38;5;28;43mself\u001b[39;49m\u001b[38;5;241;43m.\u001b[39;49m\u001b[43mradial_terms\u001b[49m\u001b[43m(\u001b[49m\u001b[43mdistances\u001b[49m\u001b[43m)\u001b[49m\n\u001b[1;32m    362\u001b[0m     radial_aev \u001b[38;5;241m=\u001b[39m radial_terms_\u001b[38;5;241m.\u001b[39mnew_zeros(\n\u001b[1;32m    363\u001b[0m         (num_molecules \u001b[38;5;241m*\u001b[39m num_atoms \u001b[38;5;241m*\u001b[39m \u001b[38;5;28mself\u001b[39m\u001b[38;5;241m.\u001b[39mnum_species,\n\u001b[1;32m    364\u001b[0m          \u001b[38;5;28mself\u001b[39m\u001b[38;5;241m.\u001b[39mradial_sublength))\n\u001b[1;32m    365\u001b[0m     index12 \u001b[38;5;241m=\u001b[39m atom_index12 \u001b[38;5;241m*\u001b[39m \u001b[38;5;28mself\u001b[39m\u001b[38;5;241m.\u001b[39mnum_species \u001b[38;5;241m+\u001b[39m species12\u001b[38;5;241m.\u001b[39mflip(\u001b[38;5;241m0\u001b[39m)\n",
      "File \u001b[0;32m~/miniconda3/envs/cuaev/lib/python3.9/site-packages/torch/nn/modules/module.py:1130\u001b[0m, in \u001b[0;36mModule._call_impl\u001b[0;34m(self, *input, **kwargs)\u001b[0m\n\u001b[1;32m   1126\u001b[0m \u001b[38;5;66;03m# If we don't have any hooks, we want to skip the rest of the logic in\u001b[39;00m\n\u001b[1;32m   1127\u001b[0m \u001b[38;5;66;03m# this function, and just call forward.\u001b[39;00m\n\u001b[1;32m   1128\u001b[0m \u001b[38;5;28;01mif\u001b[39;00m \u001b[38;5;129;01mnot\u001b[39;00m (\u001b[38;5;28mself\u001b[39m\u001b[38;5;241m.\u001b[39m_backward_hooks \u001b[38;5;129;01mor\u001b[39;00m \u001b[38;5;28mself\u001b[39m\u001b[38;5;241m.\u001b[39m_forward_hooks \u001b[38;5;129;01mor\u001b[39;00m \u001b[38;5;28mself\u001b[39m\u001b[38;5;241m.\u001b[39m_forward_pre_hooks \u001b[38;5;129;01mor\u001b[39;00m _global_backward_hooks\n\u001b[1;32m   1129\u001b[0m         \u001b[38;5;129;01mor\u001b[39;00m _global_forward_hooks \u001b[38;5;129;01mor\u001b[39;00m _global_forward_pre_hooks):\n\u001b[0;32m-> 1130\u001b[0m     \u001b[38;5;28;01mreturn\u001b[39;00m \u001b[43mforward_call\u001b[49m\u001b[43m(\u001b[49m\u001b[38;5;241;43m*\u001b[39;49m\u001b[38;5;28;43minput\u001b[39;49m\u001b[43m,\u001b[49m\u001b[43m \u001b[49m\u001b[38;5;241;43m*\u001b[39;49m\u001b[38;5;241;43m*\u001b[39;49m\u001b[43mkwargs\u001b[49m\u001b[43m)\u001b[49m\n\u001b[1;32m   1131\u001b[0m \u001b[38;5;66;03m# Do not call functions when jit is used\u001b[39;00m\n\u001b[1;32m   1132\u001b[0m full_backward_hooks, non_full_backward_hooks \u001b[38;5;241m=\u001b[39m [], []\n",
      "File \u001b[0;32m~/TorchANI_sandbox/torchani/aev/aev_terms.py:55\u001b[0m, in \u001b[0;36mStandardRadial.forward\u001b[0;34m(self, distances)\u001b[0m\n\u001b[1;32m     51\u001b[0m fc \u001b[38;5;241m=\u001b[39m \u001b[38;5;28mself\u001b[39m\u001b[38;5;241m.\u001b[39mcutoff_fn(distances, \u001b[38;5;28mself\u001b[39m\u001b[38;5;241m.\u001b[39mcutoff)\n\u001b[1;32m     52\u001b[0m \u001b[38;5;66;03m# Note that in the equation in the paper there is no 0.25\u001b[39;00m\n\u001b[1;32m     53\u001b[0m \u001b[38;5;66;03m# coefficient, but in NeuroChem there is such a coefficient.\u001b[39;00m\n\u001b[1;32m     54\u001b[0m \u001b[38;5;66;03m# We choose to be consistent with NeuroChem instead of the paper here.\u001b[39;00m\n\u001b[0;32m---> 55\u001b[0m ret \u001b[38;5;241m=\u001b[39m \u001b[38;5;241;43m0.25\u001b[39;49m\u001b[43m \u001b[49m\u001b[38;5;241;43m*\u001b[39;49m\u001b[43m \u001b[49m\u001b[43mtorch\u001b[49m\u001b[38;5;241;43m.\u001b[39;49m\u001b[43mexp\u001b[49m\u001b[43m(\u001b[49m\u001b[38;5;241;43m-\u001b[39;49m\u001b[38;5;28;43mself\u001b[39;49m\u001b[38;5;241;43m.\u001b[39;49m\u001b[43mEtaR\u001b[49m\u001b[43m \u001b[49m\u001b[38;5;241;43m*\u001b[39;49m\u001b[43m \u001b[49m\u001b[43m(\u001b[49m\u001b[43mdistances\u001b[49m\u001b[43m \u001b[49m\u001b[38;5;241;43m-\u001b[39;49m\u001b[43m \u001b[49m\u001b[38;5;28;43mself\u001b[39;49m\u001b[38;5;241;43m.\u001b[39;49m\u001b[43mShfR\u001b[49m\u001b[43m)\u001b[49m\u001b[38;5;241;43m*\u001b[39;49m\u001b[38;5;241;43m*\u001b[39;49m\u001b[38;5;241;43m2\u001b[39;49m\u001b[43m)\u001b[49m\u001b[43m \u001b[49m\u001b[38;5;241;43m*\u001b[39;49m\u001b[43m \u001b[49m\u001b[43mfc\u001b[49m\n\u001b[1;32m     56\u001b[0m \u001b[38;5;66;03m# At this point, ret now has shape\u001b[39;00m\n\u001b[1;32m     57\u001b[0m \u001b[38;5;66;03m# (conformations x atoms, ?, ?) where ? depend on constants.\u001b[39;00m\n\u001b[1;32m     58\u001b[0m \u001b[38;5;66;03m# We then should flat the last 2 dimensions to view the subAEV as a two\u001b[39;00m\n\u001b[1;32m     59\u001b[0m \u001b[38;5;66;03m# dimensional tensor (onnx doesn't support negative indices in flatten)\u001b[39;00m\n\u001b[1;32m     60\u001b[0m \u001b[38;5;28;01mreturn\u001b[39;00m ret\u001b[38;5;241m.\u001b[39mflatten(start_dim\u001b[38;5;241m=\u001b[39m\u001b[38;5;241m1\u001b[39m)\n",
      "\u001b[0;31mKeyboardInterrupt\u001b[0m: "
     ]
    }
   ],
   "source": [
    "count = 0\n",
    "\n",
    "df = pd.DataFrame(columns=['Energies','Stdev','QBC'])\n",
    "count = 0\n",
    "energies_list = []\n",
    "stdev_list = []\n",
    "qbc_list = []\n",
    "\n",
    "for index, conformer in tqdm(enumerate(ds.iter_conformers())):\n",
    "    species = conformer['species'][None]\n",
    "    coordinates = conformer['coordinates'][None]\n",
    "    assert len(species) == len(coordinates)\n",
    "    ani_input = (species,coordinates) \n",
    "    _, energies = ani2x.members_energies(ani_input)\n",
    "    stdev = energies.std(0)\n",
    "    qbc_factor = (stdev / math.sqrt(len(species[0]))).tolist()\n",
    "    qbc_factor = hartree2kcalmol(qbc_factor[0])\n",
    "    stdev = hartree2kcalmol(stdev[0].tolist())\n",
    "    print(stdev)\n",
    "    energies = hartree2kcalmol(energies.mean(0)[0].tolist())\n",
    "\n",
    "    energies_list.append(energies)\n",
    "    stdev_list.append(stdev)\n",
    "    qbc_list.append(qbc_factor)\n",
    "    \n",
    "    \n",
    "    '''\n",
    "    count += 1\n",
    "    print('iter #',count)\n",
    "    if count == 100:\n",
    "        break\n",
    "    '''\n",
    "\n",
    "df['Energies'] = energies_list\n",
    "df['Stdev'] = stdev_list\n",
    "df['QBC'] = qbc_list\n",
    "print(df)\n",
    "df.to_csv('df_1x-first-totals.csv')"
   ]
  },
  {
   "cell_type": "code",
   "execution_count": 6,
   "metadata": {},
   "outputs": [
    {
     "name": "stdout",
     "output_type": "stream",
     "text": [
      "      Unnamed: 0       Energies     Stdev       QBC\n",
      "0              0 -242771.653475  0.416109  0.093045\n",
      "1              1 -311527.009372  0.310731  0.066248\n",
      "2              2 -358668.313897  1.180756  0.246205\n",
      "3              3 -405837.769024  0.581391  0.118676\n",
      "4              4 -380192.340793  0.629002  0.128395\n",
      "...          ...            ...       ...       ...\n",
      "3109        3109 -210092.040905  4.197025  1.876966\n",
      "3110        3110 -137422.717225  0.528340  0.264170\n",
      "3111        3111  -94265.996364  0.168469  0.119126\n",
      "3112        3112 -141401.373943  0.155407  0.089725\n",
      "3113        3113 -188533.524734  0.414469  0.207234\n",
      "\n",
      "[3114 rows x 4 columns]\n"
     ]
    }
   ],
   "source": [
    "df = pd.read_csv('df_1x-first-totals.csv')\n",
    "print(df)"
   ]
  },
  {
   "cell_type": "code",
   "execution_count": 7,
   "metadata": {},
   "outputs": [
    {
     "name": "stdout",
     "output_type": "stream",
     "text": [
      "-358576.89370814594 0.9165148426396955\n"
     ]
    }
   ],
   "source": [
    "avg_e = df['Energies'].to_numpy().mean(0)\n",
    "avg_std = df['Stdev'].to_numpy().mean(0)\n",
    "\n",
    "print(avg_e, avg_std)"
   ]
  },
  {
   "cell_type": "code",
   "execution_count": 8,
   "metadata": {},
   "outputs": [],
   "source": [
    "stdev_df = df['Stdev']"
   ]
  },
  {
   "cell_type": "code",
   "execution_count": 9,
   "metadata": {},
   "outputs": [
    {
     "data": {
      "image/png": "[encoded data removed]",
      "text/plain": [
       "<Figure size 640x480 with 1 Axes>"
      ]
     },
     "metadata": {},
     "output_type": "display_data"
    }
   ],
   "source": [
    "%matplotlib inline\n",
    "\n",
    "plt.hist(stdev_df,density=True,bins=(math.isqrt(len(stdev_df))),color='darkviolet')\n",
    "\n",
    "plt.rcParams['figure.dpi'] = 200\n",
    "\n",
    "plt.xlabel('Standard deviation in predicted total energy (kcal/mol)')\n",
    "plt.ylabel('Frequency')\n",
    "\n",
    "plt.show()"
   ]
  },
  {
   "cell_type": "code",
   "execution_count": null,
   "metadata": {},
   "outputs": [],
   "source": []
  }
 ],
 "metadata": {
  "kernelspec": {
   "display_name": "Python 3 (ipykernel)",
   "language": "python",
   "name": "python3"
  },
  "language_info": {
   "codemirror_mode": {
    "name": "ipython",
    "version": 3
   },
   "file_extension": ".py",
   "mimetype": "text/x-python",
   "name": "python",
   "nbconvert_exporter": "python",
   "pygments_lexer": "ipython3",
   "version": "3.9.13"
  },
  "vscode": {
   "interpreter": {
    "hash": "124fba05c7f91d3487ba795d21fd9ace3869cfb1f1fdb4f2e1dbf9cf3eb6df79"
   }
  }
 },
 "nbformat": 4,
 "nbformat_minor": 4
}
