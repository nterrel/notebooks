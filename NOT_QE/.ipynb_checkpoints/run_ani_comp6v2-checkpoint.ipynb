{
 "cells": [
  {
   "cell_type": "markdown",
   "id": "66e5f86b",
   "metadata": {},
   "source": [
    "# Combining the .h5 files for the first time\n",
    "\n",
    "from torchani.datasets.utils import concatenate\n",
    "concat_path = path / 'ALL_COMBINED.h5'\n",
    "print(concat_path)\n",
    "ds = concatenate(ds, concat_path, delete_originals=False)\n"
   ]
  },
  {
   "cell_type": "code",
   "execution_count": 17,
   "id": "d6ad3ef4",
   "metadata": {
    "scrolled": true
   },
   "outputs": [],
   "source": [
    "import torch\n",
    "import torchani\n",
    "from torchani.datasets import ANIDataset\n",
    "from pathlib import Path\n",
    "import os\n",
    "import numpy as np\n",
    "import pandas as pd\n",
    "import matplotlib.pyplot as plt\n",
    "import math\n",
    "from torchani.units import hartree2kcalmol\n",
    "from tqdm import tqdm"
   ]
  },
  {
   "cell_type": "code",
   "execution_count": null,
   "id": "14b60e50",
   "metadata": {},
   "outputs": [],
   "source": []
  },
  {
   "cell_type": "code",
   "execution_count": 20,
   "id": "7887e47f",
   "metadata": {
    "scrolled": false
   },
   "outputs": [],
   "source": [
    "path = Path('/home/nick/Datasets/comp6v2/ALL_COMBINED.h5')"
   ]
  },
  {
   "cell_type": "code",
   "execution_count": 21,
   "id": "1e28129c",
   "metadata": {},
   "outputs": [
    {
     "name": "stdout",
     "output_type": "stream",
     "text": [
      "Conformers in dataset 3376\n",
      "by_formula\n"
     ]
    }
   ],
   "source": [
    "ds = ANIDataset(locations=path, names='comp6v2')\n",
    "print('Conformer groups in dataset', len(ds.keys()))\n",
    "print(ds.grouping)"
   ]
  },
  {
   "cell_type": "markdown",
   "id": "ddf414ae",
   "metadata": {},
   "source": [
    "ds.regroup_by_formula()"
   ]
  },
  {
   "cell_type": "code",
   "execution_count": 22,
   "id": "352d17c7",
   "metadata": {},
   "outputs": [
    {
     "name": "stderr",
     "output_type": "stream",
     "text": [
      "/home/nick/TorchANI_sandbox/torchani/models.py:103: UserWarning: The default is now to accept atomic numbers as indexes, do not set periodic_table_index=True. if you need to accept raw indices set periodic_table_index=False\n",
      "  warnings.warn(\"The default is now to accept atomic numbers as indexes,\"\n"
     ]
    }
   ],
   "source": [
    "device = torch.device('cpu')\n",
    "ani2x = torchani.models.ANI2x()"
   ]
  },
  {
   "cell_type": "code",
   "execution_count": 30,
   "id": "423e400d",
   "metadata": {},
   "outputs": [
    {
     "name": "stdout",
     "output_type": "stream",
     "text": [
      "Name: comp6v2\n",
      "ANI h5py store:\n",
      "{'Conformer groups': 3376,\n",
      " 'Conformers': '157,728',\n",
      " 'Properties': ['atomic_charges_cm5',\n",
      "                'atomic_charges_hirshfeld',\n",
      "                'atomic_dipoles_hirshfeld',\n",
      "                'coordinates',\n",
      "                'energies',\n",
      "                'forces',\n",
      "                'species'],\n",
      " 'Store Metadata': {}}\n"
     ]
    }
   ],
   "source": [
    "print(ds)"
   ]
  },
  {
   "cell_type": "code",
   "execution_count": 24,
   "id": "0a26157c",
   "metadata": {},
   "outputs": [
    {
     "data": {
      "text/plain": [
       "{'atomic_charges_cm5',\n",
       " 'atomic_charges_hirshfeld',\n",
       " 'atomic_dipoles_hirshfeld',\n",
       " 'coordinates',\n",
       " 'energies',\n",
       " 'forces',\n",
       " 'species'}"
      ]
     },
     "execution_count": 24,
     "metadata": {},
     "output_type": "execute_result"
    }
   ],
   "source": [
    "ds.properties"
   ]
  },
  {
   "cell_type": "code",
   "execution_count": 27,
   "id": "8ac48868",
   "metadata": {
    "scrolled": true
   },
   "outputs": [
    {
     "name": "stderr",
     "output_type": "stream",
     "text": [
      "0it [00:00, ?it/s]\n"
     ]
    },
    {
     "name": "stdout",
     "output_type": "stream",
     "text": [
      "                                               Formula  Species    Avg_AE  \\\n",
      "0    {'energies': tensor(-7654.5016, dtype=torch.fl...        6 -0.004423   \n",
      "1    {'energies': tensor(-7654.5016, dtype=torch.fl...        6 -0.027310   \n",
      "2    {'energies': tensor(-7654.5016, dtype=torch.fl...        8 -0.011999   \n",
      "3    {'energies': tensor(-7654.5016, dtype=torch.fl...        1 -0.004328   \n",
      "4    {'energies': tensor(-7654.5016, dtype=torch.fl...        1 -0.002906   \n",
      "..                                                 ...      ...       ...   \n",
      "307  {'energies': tensor(-7654.5016, dtype=torch.fl...        6 -0.004897   \n",
      "308  {'energies': tensor(-7654.5016, dtype=torch.fl...        1 -0.011200   \n",
      "309  {'energies': tensor(-7654.5016, dtype=torch.fl...        1 -0.003887   \n",
      "310  {'energies': tensor(-7654.5016, dtype=torch.fl...        1 -0.003876   \n",
      "311  {'energies': tensor(-7654.5016, dtype=torch.fl...        1 -0.001940   \n",
      "\n",
      "        Stdev              QBC  \n",
      "0    0.009111  [0.00078292226]  \n",
      "1    0.004850  [0.00078292226]  \n",
      "2    0.003635  [0.00078292226]  \n",
      "3    0.002893  [0.00078292226]  \n",
      "4    0.003142  [0.00078292226]  \n",
      "..        ...              ...  \n",
      "307  0.011094  [0.00078292226]  \n",
      "308  0.003572  [0.00078292226]  \n",
      "309  0.003060  [0.00078292226]  \n",
      "310  0.003080  [0.00078292226]  \n",
      "311  0.003115  [0.00078292226]  \n",
      "\n",
      "[312 rows x 5 columns]\n"
     ]
    }
   ],
   "source": [
    "count = 0\n",
    "\n",
    "df = pd.DataFrame(columns=['Formula','Species','Avg_AE','Stdev','QBC'])\n",
    "count = 0\n",
    "formula_list = []\n",
    "species_list = []\n",
    "avg_ae_list = []\n",
    "stdev_list = []\n",
    "qbc_list = []\n",
    "\n",
    "for index, conformer in tqdm(enumerate(ds.iter_conformers())):\n",
    "    species = conformer['species'][None]\n",
    "    coordinates = conformer['coordinates'][None]\n",
    "    assert len(species) == len(coordinates)\n",
    "    ani_input = (species,coordinates)    \n",
    "    _, energies, qbc_factor = ani2x.energies_qbcs(ani_input)\n",
    "    species_index, ae = ani2x.atomic_energies(ani_input, average=False, with_SAEs=False)\n",
    "    avg_ae = ae.mean(0).tolist()\n",
    "    stdev_ae = ae.std(0).tolist()\n",
    "    coef_var = (ae.std(0)/abs(ae.mean(0))).tolist()\n",
    "    \n",
    "    for atoms in avg_ae[0]:\n",
    "        formula_list.append(formula)\n",
    "        # Want a chemical formula and qbc factor attached to each atom type\n",
    "        qbc_list.append(qbc_factor.detach().numpy())\n",
    "    \n",
    "    species_list.extend(species.tolist()[0])\n",
    "    avg_ae_list.extend(avg_ae[0])\n",
    "    stdev_list.extend(stdev_ae[0])\n",
    "    \n",
    "    break\n",
    "    '''\n",
    "    count += 1\n",
    "    print('iter #',count)\n",
    "    if count == 100:\n",
    "        break\n",
    "    '''\n",
    "\n",
    "df['Species'] = species_list\n",
    "df['Avg_AE'] = avg_ae_list\n",
    "df['Stdev'] = stdev_list\n",
    "df['Formula'] = formula_list\n",
    "df['QBC'] = qbc_list\n",
    "print(df)\n",
    "df.to_csv('df_comp6v2.csv')"
   ]
  },
  {
   "cell_type": "code",
   "execution_count": null,
   "id": "ad093d75",
   "metadata": {},
   "outputs": [],
   "source": []
  },
  {
   "cell_type": "code",
   "execution_count": null,
   "id": "51fcaf4a",
   "metadata": {},
   "outputs": [],
   "source": []
  }
 ],
 "metadata": {
  "kernelspec": {
   "display_name": "Python 3 (ipykernel)",
   "language": "python",
   "name": "python3"
  },
  "language_info": {
   "codemirror_mode": {
    "name": "ipython",
    "version": 3
   },
   "file_extension": ".py",
   "mimetype": "text/x-python",
   "name": "python",
   "nbconvert_exporter": "python",
   "pygments_lexer": "ipython3",
   "version": "3.9.13"
  }
 },
 "nbformat": 4,
 "nbformat_minor": 5
}
