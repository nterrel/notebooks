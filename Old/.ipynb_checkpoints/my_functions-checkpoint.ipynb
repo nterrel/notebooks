{
 "cells": [
  {
   "cell_type": "code",
   "execution_count": null,
   "metadata": {},
   "outputs": [],
   "source": [
    "def read_xyz(filename):\n",
    "    \"\"\"\n",
    "    Read filename in XYZ format and return tensors for species and coordinates to be used with ANI\n",
    "    \"\"\"\n",
    "    atoms = []\n",
    "    coordinates = []\n",
    "    \n",
    "    xyz = open(filename)\n",
    "    n_atoms = int(xyz.readline())\n",
    "    title = xyz.readline()\n",
    "    for line in xyz: \n",
    "        atom,x,y,z = line.split()\n",
    "        atoms.append(atom)\n",
    "        coordinates.append([float(x), float(y), float(z)])\n",
    "    xyz.close()\n",
    "        \n",
    "    coordinates = torch.tensor(coordinates,requires_grad=True,device=device)[None] # [None] to give proper shape\n",
    "    species = ani_1ccx.species_to_tensor(atoms)[None] # these 'species' are labeled by torchani, not given atomic # labels -- can \n",
    "    \n",
    "    return atoms, coordinates, species\n",
    "\n",
    "\n",
    "\n",
    "def atomic_variance(model, species_coordinates):\n",
    "    # This is now build into the atomic_qbcs function in the torchani sandbox branch 'nick_rho'\n",
    "    E = model(species_coordinates).energies\n",
    "    atomic_E = model.atomic_energies(species_coordinates,average=False).energies.double()    \n",
    "    avg_atomic_E = atomic_E.mean(0)\n",
    "    total_a_E = atomic_E.sum(2)\n",
    "    \n",
    "    print('AVERAGE ATOMIC E:',avg_atomic_E)\n",
    "    \n",
    "    mean_total_a_E = total_a_E.mean(0)\n",
    "    \n",
    "    difference_atomics_ani = E - mean_total_a_E\n",
    "    \n",
    "    # Need some way to call dataset for the energy of this specific structure dE (mean prediction vs value from dataset)\n",
    "    \n",
    "    \n",
    "    stdev_atomic_E = atomic_E.std(0,unbiased=False)\n",
    "    coef_var_a_E = stdev_atomic_E / abs(avg_atomic_E)\n",
    "    \n",
    "    \n",
    "    return (\"Sum of atomic energies\", total_a_E,\n",
    "            \"Mean sum of atomic energies:\", mean_total_a_E,\n",
    "            \"Energy from TorchANI:\", E,\n",
    "            \"Difference in default ANI prediction and summed atomic energies:\", difference_atomics_ani,\n",
    "            \"Stdev in atomic energies\",stdev_atomic_E,\n",
    "            \"Coefficient of variance in atomic energies\",coef_var_a_E)"
   ]
  }
 ],
 "metadata": {
  "kernelspec": {
   "display_name": "Python 3 (ipykernel)",
   "language": "python",
   "name": "python3"
  },
  "language_info": {
   "codemirror_mode": {
    "name": "ipython",
    "version": 3
   },
   "file_extension": ".py",
   "mimetype": "text/x-python",
   "name": "python",
   "nbconvert_exporter": "python",
   "pygments_lexer": "ipython3",
   "version": "3.9.13"
  }
 },
 "nbformat": 4,
 "nbformat_minor": 4
}
