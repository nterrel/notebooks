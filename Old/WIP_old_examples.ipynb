{
 "cells": [
  {
   "cell_type": "code",
   "execution_count": 1,
   "id": "fdf95b2b",
   "metadata": {},
   "outputs": [
    {
     "name": "stderr",
     "output_type": "stream",
     "text": [
      "/home/nick/TorchANI_sandbox/torchani/infer.py:16: UserWarning: mnp not installed\n",
      "  warnings.warn(\"mnp not installed\")\n",
      "/home/nick/TorchANI_sandbox/torchani/aev/aev_computer.py:24: UserWarning: cuaev not installed\n",
      "  warnings.warn(\"cuaev not installed\")\n"
     ]
    }
   ],
   "source": [
    "import torch\n",
    "import torchani\n",
    "import ase\n",
    "from ase.optimize import BFGS\n",
    "from ase.visualize import view"
   ]
  },
  {
   "cell_type": "code",
   "execution_count": 2,
   "id": "b4f70374",
   "metadata": {},
   "outputs": [
    {
     "name": "stderr",
     "output_type": "stream",
     "text": [
      "/home/nick/TorchANI_sandbox/torchani/models.py:103: UserWarning: The default is now to accept atomic numbers as indexes, do not set periodic_table_index=True. if you need to accept raw indices set periodic_table_index=False\n",
      "  warnings.warn(\"The default is now to accept atomic numbers as indexes,\"\n"
     ]
    }
   ],
   "source": [
    "ani2x = torchani.models.ANI2x()"
   ]
  },
  {
   "cell_type": "code",
   "execution_count": 3,
   "id": "4c8185ee",
   "metadata": {},
   "outputs": [],
   "source": [
    "device = torch.device('cpu')\n",
    "o_min_ch4 = (torch.tensor([[6, 1, 1, 1, 1]]),\n",
    "           torch.tensor([[[-3.2947064558, 0.6540086535, 0.4313881687],\n",
    "                          [-2.2029514828, 0.6763552943, 0.4373590881],\n",
    "                          [-3.6556797933, 0.7756014079, -0.5920264340],\n",
    "                          [-3.6788104313, 1.4664338298, 1.0517860346],\n",
    "                          [-3.6413841972, -0.3023558975, 0.8284340142]]]))\n",
    "min_ch4 = [c.to(device) for c in o_min_ch4]\n",
    "bad_ch4 = (torch.tensor([[6, 1, 1, 1, 1]]), \n",
    "           torch.tensor([[[-2.97117, -0.04326,  0.00000],\n",
    "                          [-1.87917, -0.04326, -0.00000],\n",
    "                          [-3.33517, -0.04326,  3.01880],\n",
    "                          [-3.33517, -0.99976, -0.38088],\n",
    "                          [-3.33517,  0.76485, -0.63791]]]))\n",
    "bad_ch4 = [c.to(device) for c in bad_ch4]\n",
    "really_bad_ch4 = (torch.tensor([[6, 1, 1, 1, 1]]),\n",
    "                  torch.tensor([[[-3.03512,  1.26157,  0.26327],\n",
    "                                 [-2.69779,  0.12977,  0.00000],\n",
    "                                 [-4.12445, -0.59901,  0.69754],\n",
    "                                 [-4.12445, -0.10992, -0.97991],\n",
    "                                 [-4.12445,  1.09825,  0.28237]]]))\n",
    "really_bad_ch4 = [c.to(device) for c in really_bad_ch4]"
   ]
  },
  {
   "cell_type": "code",
   "execution_count": 4,
   "id": "7baa2d4c",
   "metadata": {},
   "outputs": [],
   "source": [
    "min_ch4 = o_min_ch4"
   ]
  },
  {
   "cell_type": "code",
   "execution_count": 5,
   "id": "23a6cd54",
   "metadata": {},
   "outputs": [],
   "source": [
    "calculator = ani2x.ase()"
   ]
  },
  {
   "cell_type": "code",
   "execution_count": 6,
   "id": "62816914",
   "metadata": {},
   "outputs": [
    {
     "name": "stdout",
     "output_type": "stream",
     "text": [
      "(tensor([[6, 1, 1, 1, 1]]), tensor([[[-3.2947,  0.6540,  0.4314],\n",
      "         [-2.2030,  0.6764,  0.4374],\n",
      "         [-3.6557,  0.7756, -0.5920],\n",
      "         [-3.6788,  1.4664,  1.0518],\n",
      "         [-3.6414, -0.3024,  0.8284]]]))\n",
      "      Step     Time          Energy         fmax\n",
      "BFGS:    0 08:45:28    -1102.045251        0.0168\n",
      "BFGS:    1 08:45:28    -1102.045263        0.0083\n",
      "BFGS:    2 08:45:28    -1102.045268        0.0000\n",
      "[[-3.29470649  0.6540086   0.43138822]\n",
      " [-2.20247775  0.67636501  0.4373617 ]\n",
      " [-3.65583629  0.77565413 -0.59247042]\n",
      " [-3.67897694  1.46678632  1.0520552 ]\n",
      " [-3.64153448 -0.30277075  0.82860621]]\n",
      "(tensor([[6, 1, 1, 1, 1]]), tensor([[[-3.2947,  0.6540,  0.4314],\n",
      "         [-2.2025,  0.6764,  0.4374],\n",
      "         [-3.6558,  0.7757, -0.5925],\n",
      "         [-3.6790,  1.4668,  1.0521],\n",
      "         [-3.6415, -0.3028,  0.8286]]]))\n"
     ]
    },
    {
     "name": "stderr",
     "output_type": "stream",
     "text": [
      "/home/nick/TorchANI_sandbox/torchani/ase.py:51: UserWarning: Creating a tensor from a list of numpy.ndarrays is extremely slow. Please consider converting the list to a single numpy.ndarray with numpy.array() before converting to a tensor. (Triggered internally at  /opt/conda/conda-bld/pytorch_1656352660876/work/torch/csrc/utils/tensor_new.cpp:201.)\n",
      "  cell = torch.tensor(self.atoms.get_cell(complete=True),\n"
     ]
    }
   ],
   "source": [
    "ase_input = ase.Atoms(numbers=min_ch4[0][0], positions=min_ch4[1][0])\n",
    "ase_input.calc = calculator\n",
    "print(o_min_ch4)\n",
    "\n",
    "opt = BFGS(ase_input)                 \n",
    "opt.run(fmax=0.0001)                   \n",
    "print(ase_input.get_positions())      \n",
    "\n",
    "new_coords = torch.tensor(ase_input.get_positions())[None]\n",
    "min_ch4 = (min_ch4[0], new_coords.float())\n",
    "print(min_ch4)"
   ]
  },
  {
   "cell_type": "code",
   "execution_count": null,
   "id": "dd042ae1",
   "metadata": {},
   "outputs": [],
   "source": []
  },
  {
   "cell_type": "code",
   "execution_count": 7,
   "id": "e6889043",
   "metadata": {},
   "outputs": [
    {
     "name": "stdout",
     "output_type": "stream",
     "text": [
      "tensor([[[ 0.1986,  0.0043,  0.1656,  0.0044,  0.0045]],\n",
      "\n",
      "        [[ 0.2141, -0.0052,  0.1799, -0.0052, -0.0052]],\n",
      "\n",
      "        [[ 0.2178, -0.0025,  0.1989, -0.0027, -0.0029]],\n",
      "\n",
      "        [[ 0.1923,  0.0044,  0.1861,  0.0043,  0.0041]],\n",
      "\n",
      "        [[ 0.1948,  0.0077,  0.1815,  0.0081,  0.0083]],\n",
      "\n",
      "        [[ 0.1970,  0.0021,  0.1695,  0.0022,  0.0021]],\n",
      "\n",
      "        [[ 0.2092,  0.0029,  0.1958,  0.0029,  0.0027]],\n",
      "\n",
      "        [[ 0.1931,  0.0031,  0.1997,  0.0033,  0.0034]]])\n",
      "tensor([[0.0101, 0.0041, 0.0130, 0.0042, 0.0043]])\n"
     ]
    }
   ],
   "source": [
    "print(ani2x.atomic_qbcs(bad_ch4).energies)\n",
    "print(ani2x.atomic_qbcs(bad_ch4).ae_stdev)"
   ]
  },
  {
   "cell_type": "code",
   "execution_count": 8,
   "id": "63ce81df",
   "metadata": {},
   "outputs": [
    {
     "name": "stdout",
     "output_type": "stream",
     "text": [
      "tensor([[[-0.0071, -0.0029, -0.0029, -0.0029, -0.0029]],\n",
      "\n",
      "        [[ 0.0240, -0.0107, -0.0107, -0.0107, -0.0107]],\n",
      "\n",
      "        [[ 0.0026, -0.0053, -0.0053, -0.0053, -0.0053]],\n",
      "\n",
      "        [[-0.0131, -0.0014, -0.0014, -0.0014, -0.0014]],\n",
      "\n",
      "        [[-0.0125, -0.0015, -0.0015, -0.0015, -0.0015]],\n",
      "\n",
      "        [[ 0.0108, -0.0074, -0.0074, -0.0074, -0.0074]],\n",
      "\n",
      "        [[-0.0027, -0.0040, -0.0040, -0.0040, -0.0040]],\n",
      "\n",
      "        [[-0.0065, -0.0029, -0.0029, -0.0029, -0.0029]]])\n",
      "tensor([[0.0127, 0.0032, 0.0032, 0.0032, 0.0032]])\n"
     ]
    }
   ],
   "source": [
    "print(ani2x.atomic_qbcs(min_ch4).energies)\n",
    "print(ani2x.atomic_qbcs(min_ch4).ae_stdev)"
   ]
  },
  {
   "cell_type": "code",
   "execution_count": 9,
   "id": "e18c744f",
   "metadata": {},
   "outputs": [
    {
     "data": {
      "application/vnd.jupyter.widget-view+json": {
       "model_id": "021988377a424a99aa07ef09ee87a4d6",
       "version_major": 2,
       "version_minor": 0
      },
      "text/plain": []
     },
     "metadata": {},
     "output_type": "display_data"
    },
    {
     "data": {
      "application/vnd.jupyter.widget-view+json": {
       "model_id": "306f2bcb7bb1445fbd5bc28672383f8c",
       "version_major": 2,
       "version_minor": 0
      },
      "text/plain": [
       "HBox(children=(NGLWidget(), VBox(children=(Dropdown(description='Show', options=('All', 'H', 'C'), value='All'…"
      ]
     },
     "metadata": {},
     "output_type": "display_data"
    }
   ],
   "source": [
    "bad_ch4_view = ase.Atoms(numbers=bad_ch4[0][0], positions=bad_ch4[1][0])\n",
    "view(bad_ch4_view, viewer='ngl')"
   ]
  },
  {
   "cell_type": "code",
   "execution_count": 12,
   "id": "17430f9b",
   "metadata": {},
   "outputs": [
    {
     "data": {
      "application/vnd.jupyter.widget-view+json": {
       "model_id": "38d191fbb03c44da96f9c15621b9b0b6",
       "version_major": 2,
       "version_minor": 0
      },
      "text/plain": [
       "HBox(children=(NGLWidget(), VBox(children=(Dropdown(description='Show', options=('All', 'H', 'C'), value='All'…"
      ]
     },
     "metadata": {},
     "output_type": "display_data"
    }
   ],
   "source": [
    "min_ch4_view = ase.Atoms(numbers=min_ch4[0][0], positions=min_ch4[1][0])\n",
    "view(min_ch4_view, viewer='ngl')"
   ]
  },
  {
   "cell_type": "code",
   "execution_count": 15,
   "id": "865822f8",
   "metadata": {},
   "outputs": [],
   "source": [
    "import rdkit\n",
    "from rdkit import Chem"
   ]
  },
  {
   "cell_type": "code",
   "execution_count": 18,
   "id": "06fec292",
   "metadata": {},
   "outputs": [
    {
     "ename": "TypeError",
     "evalue": "No registered converter was able to produce a C++ rvalue of type std::basic_string<wchar_t, std::char_traits<wchar_t>, std::allocator<wchar_t> > from this Python object of type Tensor",
     "output_type": "error",
     "traceback": [
      "\u001b[0;31m---------------------------------------------------------------------------\u001b[0m",
      "\u001b[0;31mTypeError\u001b[0m                                 Traceback (most recent call last)",
      "Cell \u001b[0;32mIn [18], line 1\u001b[0m\n\u001b[0;32m----> 1\u001b[0m \u001b[43mChem\u001b[49m\u001b[38;5;241;43m.\u001b[39;49m\u001b[43mMolFromXYZBlock\u001b[49m\u001b[43m(\u001b[49m\u001b[43mbad_ch4\u001b[49m\u001b[43m[\u001b[49m\u001b[38;5;241;43m1\u001b[39;49m\u001b[43m]\u001b[49m\u001b[43m)\u001b[49m\n",
      "\u001b[0;31mTypeError\u001b[0m: No registered converter was able to produce a C++ rvalue of type std::basic_string<wchar_t, std::char_traits<wchar_t>, std::allocator<wchar_t> > from this Python object of type Tensor"
     ]
    }
   ],
   "source": [
    "Chem.MolFromXYZBlock(bad_ch4[1])\n",
    "#Chem.MolFragmentToSmarts(bad_ch4)"
   ]
  },
  {
   "cell_type": "code",
   "execution_count": null,
   "id": "a1e22ba2",
   "metadata": {},
   "outputs": [],
   "source": []
  }
 ],
 "metadata": {
  "kernelspec": {
   "display_name": "Python 3 (ipykernel)",
   "language": "python",
   "name": "python3"
  },
  "language_info": {
   "codemirror_mode": {
    "name": "ipython",
    "version": 3
   },
   "file_extension": ".py",
   "mimetype": "text/x-python",
   "name": "python",
   "nbconvert_exporter": "python",
   "pygments_lexer": "ipython3",
   "version": "3.9.13"
  }
 },
 "nbformat": 4,
 "nbformat_minor": 5
}
