{
 "cells": [
  {
   "cell_type": "code",
   "execution_count": 1,
   "id": "ebb22891",
   "metadata": {},
   "outputs": [],
   "source": [
    "import torch\n",
    "import torchani\n",
    "from torchani.datasets import ANIDataset\n",
    "from torchani.units import hartree2kcalmol\n",
    "from torchani.utils import PERIODIC_TABLE\n",
    "import ase\n",
    "from ase import io\n",
    "from ase.optimize import BFGS\n",
    "from ase.visualize import view\n",
    "\n",
    "import numpy as np\n",
    "import pandas as pd\n",
    "import matplotlib.pyplot as plt\n",
    "import math\n",
    "from pathlib import Path"
   ]
  },
  {
   "cell_type": "code",
   "execution_count": 2,
   "id": "6ba74355",
   "metadata": {},
   "outputs": [
    {
     "name": "stderr",
     "output_type": "stream",
     "text": [
      "/home/nick/TorchANI_sandbox/torchani/models.py:103: UserWarning: The default is now to accept atomic numbers as indexes, do not set periodic_table_index=True. if you need to accept raw indices set periodic_table_index=False\n",
      "  warnings.warn(\"The default is now to accept atomic numbers as indexes,\"\n"
     ]
    }
   ],
   "source": [
    "def tensors_from_xyz(path):\n",
    "    with open(path, 'r') as f:\n",
    "        lines = f.readlines()\n",
    "        num_atoms = int(lines[0])\n",
    "        coordinates = []\n",
    "        species = []\n",
    "        element, a, b, c = lines[2].split()\n",
    "        cell = torch.diag(torch.tensor([float(a), float(b), float(c)]))\n",
    "        for line in lines[2:]:\n",
    "            values = line.split()\n",
    "            if values:\n",
    "                s = values[0].strip()\n",
    "                x = float(values[1])\n",
    "                y = float(values[2])\n",
    "                z = float(values[3])\n",
    "                coordinates.append([x, y, z])\n",
    "                species.append(PERIODIC_TABLE.index(s))\n",
    "        coordinates = torch.tensor(coordinates)\n",
    "        species = torch.tensor(species, dtype=torch.long)\n",
    "        assert coordinates.shape[0] == num_atoms\n",
    "        assert species.shape[0] == num_atoms\n",
    "    return species, coordinates\n",
    "\n",
    "\n",
    "\n",
    "def covariances(atomic_energies):\n",
    "    atomic_energies = atomic_energies.squeeze()\n",
    "    cov = np.cov(atomic_energies,rowvar=False)\n",
    "    atomic_variances = cov.diagonal()\n",
    "    av_sum = atomic_variances.sum()\n",
    "    atomic_stdev = np.sqrt(atomic_variances)\n",
    "    estimated_qbc = np.sqrt(sum(sum(cov)))/np.sqrt(len(atomic_variances))\n",
    "    \n",
    "    just_covariances = estimated_qbc - np.sum(atomic_variances)\n",
    "    \n",
    "    qbc = atomic_energies.sum(1).std(0,ddof=1)/np.sqrt(len(atomic_variances)) # TorchANI uses unbiased stdev, so N-1\n",
    "    \n",
    "    \n",
    "    assert math.isclose(qbc, estimated_qbc, abs_tol=0.0002) # Tolerance set to agree within 0.0002 Hartree (~.12 kcal/mol))\n",
    "\n",
    "    print('(1) Atomic energy variance', '(2) Covariances', '(3) QBC')\n",
    "    \n",
    "    return av_sum, just_covariances, qbc\n",
    "\n",
    "device = torch.device('cpu')\n",
    "model = torchani.models.ANI2x(periodic_table_index=True).double().to(device)\n",
    "calculator = model.ase()"
   ]
  },
  {
   "cell_type": "code",
   "execution_count": 3,
   "id": "7d3152de",
   "metadata": {},
   "outputs": [],
   "source": [
    "ds_path = Path('/home/nick/First_DSs/ANI-1x-first-conformers.h5')\n",
    "\n",
    "ds = ANIDataset(locations=ds_path, names='1x first')\n",
    "device = torch.device('cpu')\n",
    "ani2x = torchani.models.ANI2x().double()\n",
    "calculator = torchani.models.ANI2x().ase()"
   ]
  },
  {
   "cell_type": "code",
   "execution_count": 4,
   "id": "971ecb44",
   "metadata": {},
   "outputs": [],
   "source": [
    "ch4_species = ds['CH4']['species']\n",
    "ch4_coord =   ds['CH4']['coordinates']"
   ]
  },
  {
   "cell_type": "code",
   "execution_count": 5,
   "id": "03a62fb3",
   "metadata": {
    "scrolled": true
   },
   "outputs": [
    {
     "name": "stdout",
     "output_type": "stream",
     "text": [
      "      Step     Time          Energy         fmax\n",
      "BFGS:    0 14:02:03    -1101.652213        5.4868\n",
      "BFGS:    1 14:02:03    -1101.950568        1.6234\n",
      "BFGS:    2 14:02:03    -1101.991349        0.8651\n",
      "BFGS:    3 14:02:03    -1102.020865        0.5139\n",
      "BFGS:    4 14:02:03    -1102.038562        0.4610\n",
      "BFGS:    5 14:02:03    -1102.044180        0.1599\n",
      "BFGS:    6 14:02:03    -1102.045011        0.0669\n",
      "BFGS:    7 14:02:03    -1102.045153        0.0287\n",
      "(tensor([[6, 1, 1, 1, 1]]), tensor([[[-4.0070e-04,  2.3968e-02,  4.7165e-02],\n",
      "         [-9.1394e-01, -4.9023e-01, -2.5943e-01],\n",
      "         [-2.1275e-01,  6.5072e-01,  9.1682e-01],\n",
      "         [ 3.6179e-01,  6.4846e-01, -7.7358e-01],\n",
      "         [ 7.6282e-01, -7.1464e-01,  3.0179e-01]]], dtype=torch.float64))\n"
     ]
    }
   ],
   "source": [
    "ase_ch4 = ase.Atoms(numbers=ch4_species[0],positions=ch4_coord[0])\n",
    "ase_ch4.calc = calculator\n",
    "\n",
    "dyn = BFGS(ase_ch4)\n",
    "dyn.run(fmax=0.05)\n",
    "\n",
    "ch4_coord = torch.tensor(ase_ch4.positions[None])\n",
    "ch4 = (ch4_species, ch4_coord)\n",
    "\n",
    "print(ch4)"
   ]
  },
  {
   "cell_type": "code",
   "execution_count": 6,
   "id": "547f0fe1",
   "metadata": {
    "scrolled": true
   },
   "outputs": [
    {
     "data": {
      "text/plain": [
       "tensor([0.0127, 0.0032, 0.0032, 0.0032, 0.0032], dtype=torch.float64,\n",
       "       grad_fn=<StdBackward0>)"
      ]
     },
     "execution_count": 6,
     "metadata": {},
     "output_type": "execute_result"
    }
   ],
   "source": [
    "ani2x.atomic_energies(ch4,average=False,with_SAEs=False).energies.sum(1).std(0)"
   ]
  },
  {
   "cell_type": "code",
   "execution_count": null,
   "id": "f3cbbb74",
   "metadata": {},
   "outputs": [],
   "source": []
  },
  {
   "cell_type": "code",
   "execution_count": 7,
   "id": "737395f1",
   "metadata": {},
   "outputs": [
    {
     "data": {
      "text/plain": [
       "SpeciesEnergies(species=tensor([[1, 0, 0, 0, 0]]), energies=tensor([[-40.4996],\n",
       "        [-40.4996],\n",
       "        [-40.4995],\n",
       "        [-40.4995],\n",
       "        [-40.4994],\n",
       "        [-40.4996],\n",
       "        [-40.4993],\n",
       "        [-40.4989]], dtype=torch.float64, grad_fn=<SumBackward1>))"
      ]
     },
     "execution_count": 7,
     "metadata": {},
     "output_type": "execute_result"
    }
   ],
   "source": [
    "ani2x.members_energies(ch4)"
   ]
  },
  {
   "cell_type": "code",
   "execution_count": 8,
   "id": "3ba0dbfa",
   "metadata": {},
   "outputs": [
    {
     "name": "stdout",
     "output_type": "stream",
     "text": [
      "[[-4.4662088  -1.81769753 -1.8550468  -1.83293238 -1.82837369]\n",
      " [15.04878223 -6.69132998 -6.73309343 -6.70482921 -6.70445862]\n",
      " [ 1.65660765 -3.34035486 -3.36851078 -3.34972141 -3.34908964]\n",
      " [-8.19718763 -0.86519423 -0.90449344 -0.88280946 -0.87589589]\n",
      " [-7.85609803 -0.93847027 -0.9842329  -0.9575911  -0.95146229]\n",
      " [ 6.75534981 -4.61774645 -4.65925725 -4.6326473  -4.63030816]\n",
      " [-1.68297526 -2.47555527 -2.5136185  -2.49033133 -2.48668149]\n",
      " [-4.09943838 -1.80392114 -1.84909055 -1.82394491 -1.81631639]]\n"
     ]
    }
   ],
   "source": [
    "ch4_ae = hartree2kcalmol(ani2x.atomic_energies(ch4,average=False,with_SAEs=False).energies.squeeze().detach().numpy())\n",
    "print(ch4_ae)"
   ]
  },
  {
   "cell_type": "code",
   "execution_count": 9,
   "id": "bfb704a2",
   "metadata": {},
   "outputs": [
    {
     "data": {
      "text/plain": [
       "(8, 5)"
      ]
     },
     "execution_count": 9,
     "metadata": {},
     "output_type": "execute_result"
    }
   ],
   "source": [
    "ch4_ae.shape"
   ]
  },
  {
   "cell_type": "code",
   "execution_count": 11,
   "id": "d3277cd4",
   "metadata": {},
   "outputs": [
    {
     "data": {
      "text/plain": [
       "0.12488663583789662"
      ]
     },
     "execution_count": 11,
     "metadata": {},
     "output_type": "execute_result"
    }
   ],
   "source": [
    "ch4_ae.sum(1).std(0,ddof=0)"
   ]
  },
  {
   "cell_type": "code",
   "execution_count": 11,
   "id": "16240ab9",
   "metadata": {},
   "outputs": [
    {
     "data": {
      "text/plain": [
       "0.13350942956799672"
      ]
     },
     "execution_count": 11,
     "metadata": {},
     "output_type": "execute_result"
    }
   ],
   "source": [
    "hartree2kcalmol(ani2x.energies_qbcs(ch4).qbcs.item()*math.sqrt(5))\n",
    "# Equal up to float rounding precision"
   ]
  },
  {
   "cell_type": "code",
   "execution_count": null,
   "id": "9803d3ae",
   "metadata": {},
   "outputs": [],
   "source": []
  },
  {
   "cell_type": "code",
   "execution_count": 12,
   "id": "72c66c36",
   "metadata": {},
   "outputs": [
    {
     "name": "stdout",
     "output_type": "stream",
     "text": [
      "(1) Atomic energy variance (2) Covariances (3) QBC\n",
      "(79.18599413722475, -79.12628690519395, 0.05970723203079201)\n"
     ]
    }
   ],
   "source": [
    "print(covariances(ch4_ae))"
   ]
  },
  {
   "cell_type": "code",
   "execution_count": null,
   "id": "a083d48a",
   "metadata": {},
   "outputs": [],
   "source": []
  },
  {
   "cell_type": "code",
   "execution_count": 15,
   "id": "d4215194",
   "metadata": {},
   "outputs": [
    {
     "name": "stdout",
     "output_type": "stream",
     "text": [
      "[[ 63.19041427 -15.89838638 -15.89416677 -15.88323588 -15.90162548]\n",
      " [-15.89838638   4.00099055   3.99984412   3.99712732   4.00178674]\n",
      " [-15.89416677   3.99984412   3.99872852   3.99599707   4.00064803]\n",
      " [-15.88323588   3.99712732   3.99599707   3.99327559   3.99792655]\n",
      " [-15.90162548   4.00178674   4.00064803   3.99792655   4.0025852 ]]\n",
      "Sum of AE stdev:\n",
      " 15.948133969265562\n",
      "Sum of covariances (off-diagonal elements):\n",
      " -15.814624539696347\n",
      "QBC from ANI (w/o dividing by N_atoms):\n",
      " 0.13350942956799672 (kcal/mol)\n",
      "Sqrt of the sum over entire covariance matrix:\n",
      " 0.13350942956921585 (kcal/mol)\n"
     ]
    },
    {
     "data": {
      "image/png": "[encoded data removed]",
      "text/plain": [
       "<Figure size 1120x840 with 2 Axes>"
      ]
     },
     "metadata": {},
     "output_type": "display_data"
    }
   ],
   "source": [
    "ch4_cov = np.cov(ch4_ae,rowvar=False)\n",
    "print(ch4_cov)\n",
    "#print('Covariance matrix:\\n',pd.DataFrame(ch4_cov))\n",
    "atomic_variances = ch4_cov.diagonal()\n",
    "atomic_stdev = np.sqrt(atomic_variances)\n",
    "#print()\n",
    "#print('AE variance (stdev squared):\\n',atomic_variances)\n",
    "print('Sum of AE stdev:\\n',np.sum(atomic_stdev))\n",
    "#print()\n",
    "\n",
    "sqrt_sum_cov = np.sqrt(sum(sum(ch4_cov)))\n",
    "ch4_qbc = hartree2kcalmol(ani2x.members_energies(ch4)[1].std(0).detach().numpy()[0])\n",
    "only_covariances = sqrt_sum_cov - np.sum(atomic_stdev)\n",
    "\n",
    "print('Sum of covariances (off-diagonal elements):\\n',only_covariances)\n",
    "\n",
    "print('QBC from ANI (w/o dividing by N_atoms):\\n',ch4_qbc,'(kcal/mol)')\n",
    "print('Sqrt of the sum over entire covariance matrix:\\n',sqrt_sum_cov,'(kcal/mol)')\n",
    "\n",
    "plt.rcParams['figure.dpi'] = 175\n",
    "\n",
    "fig, ax = plt.subplots()\n",
    "img = ax.matshow(ch4_cov, cmap='seismic_r')\n",
    "fig.colorbar(img)\n",
    "\n",
    "for (i, j), z in np.ndenumerate(ch4_cov):\n",
    "    ax.text(j, i, '{:0.1f}'.format(z), ha='center', va='center', fontweight=500)"
   ]
  },
  {
   "cell_type": "code",
   "execution_count": 24,
   "id": "cc656f64",
   "metadata": {},
   "outputs": [
    {
     "data": {
      "text/plain": [
       "array([[ 0.10070034, -0.02533569, -0.02532897, -0.02531155, -0.02534085],\n",
       "       [-0.02533569,  0.00637598,  0.00637416,  0.00636983,  0.00637725],\n",
       "       [-0.02532897,  0.00637416,  0.00637238,  0.00636803,  0.00637544],\n",
       "       [-0.02531155,  0.00636983,  0.00636803,  0.00636369,  0.0063711 ],\n",
       "       [-0.02534085,  0.00637725,  0.00637544,  0.0063711 ,  0.00637853]])"
      ]
     },
     "execution_count": 24,
     "metadata": {},
     "output_type": "execute_result"
    }
   ],
   "source": [
    "ch4_cov"
   ]
  },
  {
   "cell_type": "code",
   "execution_count": 2,
   "id": "e8033265",
   "metadata": {},
   "outputs": [
    {
     "data": {
      "text/plain": [
       "0.05970741152337919"
      ]
     },
     "execution_count": 2,
     "metadata": {},
     "output_type": "execute_result"
    }
   ],
   "source": [
    "hartree2kcalmol(0.00021276145856287095/math.sqrt(5))"
   ]
  },
  {
   "cell_type": "code",
   "execution_count": 51,
   "id": "3315df06",
   "metadata": {},
   "outputs": [
    {
     "name": "stdout",
     "output_type": "stream",
     "text": [
      "Mol_E stdev: 0.00019029963373543365\n",
      "Atom_E stdev: tensor([0.0127, 0.0032, 0.0032, 0.0032, 0.0032], dtype=torch.float64)\n",
      "Sum of AE_std: tensor(0.0254, dtype=torch.float64)\n",
      "\n",
      "Covariance matrix:\n",
      " [[ 1.12333322e-03 -2.82624944e-04 -2.82549934e-04 -2.82355571e-04\n",
      "  -2.82682503e-04]\n",
      " [-2.82624944e-04  7.11254475e-05  7.11050677e-05  7.10567597e-05\n",
      "   7.11395954e-05]\n",
      " [-2.82549934e-04  7.11050677e-05  7.10852361e-05  7.10366677e-05\n",
      "   7.11193529e-05]\n",
      " [-2.82355571e-04  7.10567597e-05  7.10366677e-05  7.09882766e-05\n",
      "   7.10709617e-05]\n",
      " [-2.82682503e-04  7.11395954e-05  7.11193529e-05  7.10709617e-05\n",
      "   7.11537837e-05]]\n",
      "Diagonal of cov matrix:\n",
      " [1.12333322e-03 7.11254475e-05 7.10852361e-05 7.09882766e-05\n",
      " 7.11537837e-05]\n"
     ]
    }
   ],
   "source": [
    "print('Mol_E stdev:',ani2x.energies_qbcs(ch4).qbcs.item()*math.isqrt(5))\n",
    "print('Atom_E stdev:',torch.tensor(ch4_ae).std(0, unbiased=True))\n",
    "print('Sum of AE_std:',torch.tensor(ch4_ae).std(0, unbiased=True).sum(0))\n",
    "print()\n",
    "print('Covariance matrix:\\n',cov(ch4_ae))\n",
    "print('Diagonal of cov matrix:\\n',(cov(ch4_ae).diagonal())) # This gives \"variances\"\n"
   ]
  },
  {
   "cell_type": "code",
   "execution_count": null,
   "id": "acf517f7",
   "metadata": {},
   "outputs": [],
   "source": []
  }
 ],
 "metadata": {
  "kernelspec": {
   "display_name": "Python 3 (ipykernel)",
   "language": "python",
   "name": "python3"
  },
  "language_info": {
   "codemirror_mode": {
    "name": "ipython",
    "version": 3
   },
   "file_extension": ".py",
   "mimetype": "text/x-python",
   "name": "python",
   "nbconvert_exporter": "python",
   "pygments_lexer": "ipython3",
   "version": "3.9.13"
  }
 },
 "nbformat": 4,
 "nbformat_minor": 5
}
