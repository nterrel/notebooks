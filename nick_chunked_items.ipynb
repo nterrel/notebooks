{
 "cells": [
  {
   "cell_type": "code",
   "execution_count": 14,
   "id": "c3d0a647",
   "metadata": {},
   "outputs": [],
   "source": [
    "import time\n",
    "from tqdm import tqdm\n",
    "import torch\n",
    "import numpy as np\n",
    "from torchani.datasets import COMP6v1\n",
    "import torchani\n",
    "from torchani.units import hartree2kcalmol\n",
    "from torchani.utils import species_to_formula, ATOMIC_NUMBERS, PERIODIC_TABLE"
   ]
  },
  {
   "cell_type": "code",
   "execution_count": 4,
   "id": "d2ce51fc",
   "metadata": {},
   "outputs": [
    {
     "data": {
      "application/vnd.jupyter.widget-view+json": {
       "model_id": "bd8f51ac7f034dbaa98ccfbd8f3df985",
       "version_major": 2,
       "version_minor": 0
      },
      "text/plain": [
       "Checking integrity of files for dataset COMP6v1:   0%|          | 0/1 [00:00<?, ?it/s]"
      ]
     },
     "metadata": {},
     "output_type": "display_data"
    },
    {
     "name": "stdout",
     "output_type": "stream",
     "text": [
      "Name: COMP6-v1_full-B973c-def2mTZVP\n",
      "ANI h5py store:\n",
      "{'Conformer groups': 97,\n",
      " 'Conformers': '99,968',\n",
      " 'Properties': ['D3.energy-corrections',\n",
      "                'D3.force-corrections',\n",
      "                '_id',\n",
      "                'coordinates',\n",
      "                'dipole',\n",
      "                'energies',\n",
      "                'forces',\n",
      "                'quadrupole',\n",
      "                'species'],\n",
      " 'Store Metadata': {}}\n"
     ]
    }
   ],
   "source": [
    "ds = COMP6v1(root='/home/nick/Datasets/comp6v1_B973c/', basis_set='def2mTZVP', functional='B973c')\n",
    "device = torch.device('cuda')\n",
    "ani = torchani.models.ANIdr().to(device)"
   ]
  },
  {
   "cell_type": "code",
   "execution_count": 16,
   "id": "5f7c15ac",
   "metadata": {},
   "outputs": [
    {
     "name": "stdout",
     "output_type": "stream",
     "text": [
      "[['O', 'H', 'H', 'O', 'H', 'H'], ['O', 'H', 'H', 'O', 'H', 'H'], ['O', 'H', 'H', 'O', 'H', 'H'], ['O', 'H', 'H', 'O', 'H', 'H'], ['O', 'H', 'H', 'O', 'H', 'H'], ['O', 'H', 'H', 'O', 'H', 'H'], ['O', 'H', 'H', 'O', 'H', 'H'], ['O', 'H', 'H', 'O', 'H', 'H']]\n"
     ]
    }
   ],
   "source": [
    "species = torch.tensor([[8, 1, 1, 8, 1, 1],\n",
    "        [8, 1, 1, 8, 1, 1],\n",
    "        [8, 1, 1, 8, 1, 1],\n",
    "        [8, 1, 1, 8, 1, 1],\n",
    "        [8, 1, 1, 8, 1, 1],\n",
    "        [8, 1, 1, 8, 1, 1],\n",
    "        [8, 1, 1, 8, 1, 1],\n",
    "        [8, 1, 1, 8, 1, 1]])\n",
    "atomic_symbols = [PERIODIC_TABLE[number] for row in species for number in row]\n",
    "atomic_symbols_list = [atomic_symbols[i] for i in range(0, len(atomic_symbols), species.size(1))]\n",
    "\n",
    "\n",
    "atomic_symbols_list = [[PERIODIC_TABLE[number] for number in row] for row in species]\n",
    "print(atomic_symbols_list)"
   ]
  },
  {
   "cell_type": "code",
   "execution_count": 25,
   "id": "e774103d",
   "metadata": {},
   "outputs": [
    {
     "name": "stderr",
     "output_type": "stream",
     "text": [
      "  0%|          | 0/99968 [00:00<?, ?it/s]"
     ]
    },
    {
     "name": "stdout",
     "output_type": "stream",
     "text": [
      "[['O', 'H', 'H', 'O', 'H', 'H'], ['O', 'H', 'H', 'O', 'H', 'H'], ['O', 'H', 'H', 'O', 'H', 'H'], ['O', 'H', 'H', 'O', 'H', 'H'], ['O', 'H', 'H', 'O', 'H', 'H'], ['O', 'H', 'H', 'O', 'H', 'H'], ['O', 'H', 'H', 'O', 'H', 'H'], ['O', 'H', 'H', 'O', 'H', 'H']]\n",
      "Time elapsed: 0.017144381999969482 s\n"
     ]
    },
    {
     "name": "stderr",
     "output_type": "stream",
     "text": [
      "\n"
     ]
    }
   ],
   "source": [
    "_start = time.perf_counter()\n",
    "atomic_symbols_list = []\n",
    "with ds.keep_open(\"r\") as read_ds:\n",
    "    pbar = tqdm(total=ds.num_conformers)\n",
    "    for group, j, conformer in read_ds.chunked_items(max_size=2500):\n",
    "        species = conformer[\"species\"].to(device)\n",
    "        atomic_symbols_list.extend([PERIODIC_TABLE[number] for number in row] for row in species)\n",
    "        print(atomic_symbols_list)\n",
    "        break\n",
    "        print(len(atomic_symbols_list))\n",
    "        #print(species)\n",
    "        coordinates = conformer[\"coordinates\"].to(device)\n",
    "        coordinates.requires_grad_(True)\n",
    "        #print(coordinates.shape)\n",
    "        energies = ani((species, coordinates)).energies\n",
    "        #print(energies.shape)\n",
    "        #print(energies.sum().shape)\n",
    "        forces = -torch.autograd.grad(energies.sum(), coordinates)[0]\n",
    "        #print(forces.shape)\n",
    "        pbar.update(len(coordinates))\n",
    "        print(pbar)\n",
    "    pbar.close()\n",
    "print(f\"Time elapsed: {time.perf_counter() - _start} s\")\n",
    "# This took about 7.3 min in CPU of my laptop\n",
    "# Intel(R) Core(TM) i5-10300H CPU @ 2.50GHz\n",
    "# My laptop's GPU doesn't have enough memory to do it"
   ]
  },
  {
   "cell_type": "code",
   "execution_count": null,
   "id": "55e84aa2",
   "metadata": {},
   "outputs": [],
   "source": []
  }
 ],
 "metadata": {
  "kernelspec": {
   "display_name": "Python 3 (ipykernel)",
   "language": "python",
   "name": "python3"
  },
  "language_info": {
   "codemirror_mode": {
    "name": "ipython",
    "version": 3
   },
   "file_extension": ".py",
   "mimetype": "text/x-python",
   "name": "python",
   "nbconvert_exporter": "python",
   "pygments_lexer": "ipython3",
   "version": "3.9.13"
  }
 },
 "nbformat": 4,
 "nbformat_minor": 5
}
